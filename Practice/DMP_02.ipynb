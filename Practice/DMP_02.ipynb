{
 "cells": [
  {
   "cell_type": "code",
   "execution_count": 11,
   "id": "9ed8f30e",
   "metadata": {},
   "outputs": [],
   "source": [
    "from IPython.core.interactiveshell import InteractiveShell\n",
    "InteractiveShell.ast_node_interactivity = 'all'\n",
    "\n",
    "import warnings\n",
    "warnings.filterwarnings('ignore')\n"
   ]
  },
  {
   "cell_type": "code",
   "execution_count": 12,
   "id": "7daaf5b4",
   "metadata": {},
   "outputs": [
    {
     "data": {
      "text/plain": [
       "4"
      ]
     },
     "execution_count": 12,
     "metadata": {},
     "output_type": "execute_result"
    }
   ],
   "source": [
    "a =2\n",
    "a+2"
   ]
  },
  {
   "cell_type": "raw",
   "id": "278cabee",
   "metadata": {},
   "source": [
    "Dunders - methods"
   ]
  },
  {
   "cell_type": "code",
   "execution_count": 13,
   "id": "172f0472",
   "metadata": {},
   "outputs": [
    {
     "data": {
      "text/plain": [
       "4"
      ]
     },
     "execution_count": 13,
     "metadata": {},
     "output_type": "execute_result"
    }
   ],
   "source": [
    "a.__add__(2)"
   ]
  },
  {
   "cell_type": "code",
   "execution_count": 14,
   "id": "129bec3c",
   "metadata": {},
   "outputs": [],
   "source": [
    "b= [1 ,2, 3, 4]"
   ]
  },
  {
   "cell_type": "code",
   "execution_count": 15,
   "id": "3519a79b",
   "metadata": {},
   "outputs": [
    {
     "data": {
      "text/plain": [
       "4"
      ]
     },
     "execution_count": 15,
     "metadata": {},
     "output_type": "execute_result"
    }
   ],
   "source": [
    "len(b)"
   ]
  },
  {
   "cell_type": "code",
   "execution_count": 16,
   "id": "e2816223",
   "metadata": {},
   "outputs": [
    {
     "data": {
      "text/plain": [
       "4"
      ]
     },
     "execution_count": 16,
     "metadata": {},
     "output_type": "execute_result"
    }
   ],
   "source": [
    "b.__len__()"
   ]
  },
  {
   "cell_type": "code",
   "execution_count": 17,
   "id": "e5c6be8c",
   "metadata": {},
   "outputs": [],
   "source": [
    "import numpy as np"
   ]
  },
  {
   "cell_type": "code",
   "execution_count": 18,
   "id": "1de65340",
   "metadata": {},
   "outputs": [
    {
     "data": {
      "text/plain": [
       "['ALLOW_THREADS',\n",
       " 'AxisError',\n",
       " 'BUFSIZE',\n",
       " 'Bytes0',\n",
       " 'CLIP',\n",
       " 'ComplexWarning',\n",
       " 'DataSource',\n",
       " 'Datetime64',\n",
       " 'ERR_CALL',\n",
       " 'ERR_DEFAULT',\n",
       " 'ERR_IGNORE',\n",
       " 'ERR_LOG',\n",
       " 'ERR_PRINT',\n",
       " 'ERR_RAISE',\n",
       " 'ERR_WARN',\n",
       " 'FLOATING_POINT_SUPPORT',\n",
       " 'FPE_DIVIDEBYZERO',\n",
       " 'FPE_INVALID',\n",
       " 'FPE_OVERFLOW',\n",
       " 'FPE_UNDERFLOW',\n",
       " 'False_',\n",
       " 'Inf',\n",
       " 'Infinity',\n",
       " 'MAXDIMS',\n",
       " 'MAY_SHARE_BOUNDS',\n",
       " 'MAY_SHARE_EXACT',\n",
       " 'MachAr',\n",
       " 'ModuleDeprecationWarning',\n",
       " 'NAN',\n",
       " 'NINF',\n",
       " 'NZERO',\n",
       " 'NaN',\n",
       " 'PINF',\n",
       " 'PZERO',\n",
       " 'RAISE',\n",
       " 'RankWarning',\n",
       " 'SHIFT_DIVIDEBYZERO',\n",
       " 'SHIFT_INVALID',\n",
       " 'SHIFT_OVERFLOW',\n",
       " 'SHIFT_UNDERFLOW',\n",
       " 'ScalarType',\n",
       " 'Str0',\n",
       " 'Tester',\n",
       " 'TooHardError',\n",
       " 'True_',\n",
       " 'UFUNC_BUFSIZE_DEFAULT',\n",
       " 'UFUNC_PYVALS_NAME',\n",
       " 'Uint64',\n",
       " 'VisibleDeprecationWarning',\n",
       " 'WRAP',\n",
       " '_NoValue',\n",
       " '_UFUNC_API',\n",
       " '__NUMPY_SETUP__',\n",
       " '__all__',\n",
       " '__builtins__',\n",
       " '__cached__',\n",
       " '__config__',\n",
       " '__deprecated_attrs__',\n",
       " '__dir__',\n",
       " '__doc__',\n",
       " '__expired_functions__',\n",
       " '__file__',\n",
       " '__getattr__',\n",
       " '__git_version__',\n",
       " '__loader__',\n",
       " '__name__',\n",
       " '__package__',\n",
       " '__path__',\n",
       " '__spec__',\n",
       " '__version__',\n",
       " '_add_newdoc_ufunc',\n",
       " '_distributor_init',\n",
       " '_financial_names',\n",
       " '_globals',\n",
       " '_mat',\n",
       " '_pytesttester',\n",
       " '_version',\n",
       " 'abs',\n",
       " 'absolute',\n",
       " 'add',\n",
       " 'add_docstring',\n",
       " 'add_newdoc',\n",
       " 'add_newdoc_ufunc',\n",
       " 'alen',\n",
       " 'all',\n",
       " 'allclose',\n",
       " 'alltrue',\n",
       " 'amax',\n",
       " 'amin',\n",
       " 'angle',\n",
       " 'any',\n",
       " 'append',\n",
       " 'apply_along_axis',\n",
       " 'apply_over_axes',\n",
       " 'arange',\n",
       " 'arccos',\n",
       " 'arccosh',\n",
       " 'arcsin',\n",
       " 'arcsinh',\n",
       " 'arctan',\n",
       " 'arctan2',\n",
       " 'arctanh',\n",
       " 'argmax',\n",
       " 'argmin',\n",
       " 'argpartition',\n",
       " 'argsort',\n",
       " 'argwhere',\n",
       " 'around',\n",
       " 'array',\n",
       " 'array2string',\n",
       " 'array_equal',\n",
       " 'array_equiv',\n",
       " 'array_repr',\n",
       " 'array_split',\n",
       " 'array_str',\n",
       " 'asanyarray',\n",
       " 'asarray',\n",
       " 'asarray_chkfinite',\n",
       " 'ascontiguousarray',\n",
       " 'asfarray',\n",
       " 'asfortranarray',\n",
       " 'asmatrix',\n",
       " 'asscalar',\n",
       " 'atleast_1d',\n",
       " 'atleast_2d',\n",
       " 'atleast_3d',\n",
       " 'average',\n",
       " 'bartlett',\n",
       " 'base_repr',\n",
       " 'binary_repr',\n",
       " 'bincount',\n",
       " 'bitwise_and',\n",
       " 'bitwise_not',\n",
       " 'bitwise_or',\n",
       " 'bitwise_xor',\n",
       " 'blackman',\n",
       " 'block',\n",
       " 'bmat',\n",
       " 'bool8',\n",
       " 'bool_',\n",
       " 'broadcast',\n",
       " 'broadcast_arrays',\n",
       " 'broadcast_shapes',\n",
       " 'broadcast_to',\n",
       " 'busday_count',\n",
       " 'busday_offset',\n",
       " 'busdaycalendar',\n",
       " 'byte',\n",
       " 'byte_bounds',\n",
       " 'bytes0',\n",
       " 'bytes_',\n",
       " 'c_',\n",
       " 'can_cast',\n",
       " 'cast',\n",
       " 'cbrt',\n",
       " 'cdouble',\n",
       " 'ceil',\n",
       " 'cfloat',\n",
       " 'char',\n",
       " 'character',\n",
       " 'chararray',\n",
       " 'choose',\n",
       " 'clip',\n",
       " 'clongdouble',\n",
       " 'clongfloat',\n",
       " 'column_stack',\n",
       " 'common_type',\n",
       " 'compare_chararrays',\n",
       " 'compat',\n",
       " 'complex128',\n",
       " 'complex64',\n",
       " 'complex_',\n",
       " 'complexfloating',\n",
       " 'compress',\n",
       " 'concatenate',\n",
       " 'conj',\n",
       " 'conjugate',\n",
       " 'convolve',\n",
       " 'copy',\n",
       " 'copysign',\n",
       " 'copyto',\n",
       " 'core',\n",
       " 'corrcoef',\n",
       " 'correlate',\n",
       " 'cos',\n",
       " 'cosh',\n",
       " 'count_nonzero',\n",
       " 'cov',\n",
       " 'cross',\n",
       " 'csingle',\n",
       " 'ctypeslib',\n",
       " 'cumprod',\n",
       " 'cumproduct',\n",
       " 'cumsum',\n",
       " 'datetime64',\n",
       " 'datetime_as_string',\n",
       " 'datetime_data',\n",
       " 'deg2rad',\n",
       " 'degrees',\n",
       " 'delete',\n",
       " 'deprecate',\n",
       " 'deprecate_with_doc',\n",
       " 'diag',\n",
       " 'diag_indices',\n",
       " 'diag_indices_from',\n",
       " 'diagflat',\n",
       " 'diagonal',\n",
       " 'diff',\n",
       " 'digitize',\n",
       " 'disp',\n",
       " 'divide',\n",
       " 'divmod',\n",
       " 'dot',\n",
       " 'double',\n",
       " 'dsplit',\n",
       " 'dstack',\n",
       " 'dtype',\n",
       " 'e',\n",
       " 'ediff1d',\n",
       " 'einsum',\n",
       " 'einsum_path',\n",
       " 'emath',\n",
       " 'empty',\n",
       " 'empty_like',\n",
       " 'equal',\n",
       " 'errstate',\n",
       " 'euler_gamma',\n",
       " 'exp',\n",
       " 'exp2',\n",
       " 'expand_dims',\n",
       " 'expm1',\n",
       " 'extract',\n",
       " 'eye',\n",
       " 'fabs',\n",
       " 'fastCopyAndTranspose',\n",
       " 'fft',\n",
       " 'fill_diagonal',\n",
       " 'find_common_type',\n",
       " 'finfo',\n",
       " 'fix',\n",
       " 'flatiter',\n",
       " 'flatnonzero',\n",
       " 'flexible',\n",
       " 'flip',\n",
       " 'fliplr',\n",
       " 'flipud',\n",
       " 'float16',\n",
       " 'float32',\n",
       " 'float64',\n",
       " 'float_',\n",
       " 'float_power',\n",
       " 'floating',\n",
       " 'floor',\n",
       " 'floor_divide',\n",
       " 'fmax',\n",
       " 'fmin',\n",
       " 'fmod',\n",
       " 'format_float_positional',\n",
       " 'format_float_scientific',\n",
       " 'format_parser',\n",
       " 'frexp',\n",
       " 'frombuffer',\n",
       " 'fromfile',\n",
       " 'fromfunction',\n",
       " 'fromiter',\n",
       " 'frompyfunc',\n",
       " 'fromregex',\n",
       " 'fromstring',\n",
       " 'full',\n",
       " 'full_like',\n",
       " 'gcd',\n",
       " 'generic',\n",
       " 'genfromtxt',\n",
       " 'geomspace',\n",
       " 'get_array_wrap',\n",
       " 'get_include',\n",
       " 'get_printoptions',\n",
       " 'getbufsize',\n",
       " 'geterr',\n",
       " 'geterrcall',\n",
       " 'geterrobj',\n",
       " 'gradient',\n",
       " 'greater',\n",
       " 'greater_equal',\n",
       " 'half',\n",
       " 'hamming',\n",
       " 'hanning',\n",
       " 'heaviside',\n",
       " 'histogram',\n",
       " 'histogram2d',\n",
       " 'histogram_bin_edges',\n",
       " 'histogramdd',\n",
       " 'hsplit',\n",
       " 'hstack',\n",
       " 'hypot',\n",
       " 'i0',\n",
       " 'identity',\n",
       " 'iinfo',\n",
       " 'imag',\n",
       " 'in1d',\n",
       " 'index_exp',\n",
       " 'indices',\n",
       " 'inexact',\n",
       " 'inf',\n",
       " 'info',\n",
       " 'infty',\n",
       " 'inner',\n",
       " 'insert',\n",
       " 'int0',\n",
       " 'int16',\n",
       " 'int32',\n",
       " 'int64',\n",
       " 'int8',\n",
       " 'int_',\n",
       " 'intc',\n",
       " 'integer',\n",
       " 'interp',\n",
       " 'intersect1d',\n",
       " 'intp',\n",
       " 'invert',\n",
       " 'is_busday',\n",
       " 'isclose',\n",
       " 'iscomplex',\n",
       " 'iscomplexobj',\n",
       " 'isfinite',\n",
       " 'isfortran',\n",
       " 'isin',\n",
       " 'isinf',\n",
       " 'isnan',\n",
       " 'isnat',\n",
       " 'isneginf',\n",
       " 'isposinf',\n",
       " 'isreal',\n",
       " 'isrealobj',\n",
       " 'isscalar',\n",
       " 'issctype',\n",
       " 'issubclass_',\n",
       " 'issubdtype',\n",
       " 'issubsctype',\n",
       " 'iterable',\n",
       " 'ix_',\n",
       " 'kaiser',\n",
       " 'kron',\n",
       " 'lcm',\n",
       " 'ldexp',\n",
       " 'left_shift',\n",
       " 'less',\n",
       " 'less_equal',\n",
       " 'lexsort',\n",
       " 'lib',\n",
       " 'linalg',\n",
       " 'linspace',\n",
       " 'little_endian',\n",
       " 'load',\n",
       " 'loads',\n",
       " 'loadtxt',\n",
       " 'log',\n",
       " 'log10',\n",
       " 'log1p',\n",
       " 'log2',\n",
       " 'logaddexp',\n",
       " 'logaddexp2',\n",
       " 'logical_and',\n",
       " 'logical_not',\n",
       " 'logical_or',\n",
       " 'logical_xor',\n",
       " 'logspace',\n",
       " 'longcomplex',\n",
       " 'longdouble',\n",
       " 'longfloat',\n",
       " 'longlong',\n",
       " 'lookfor',\n",
       " 'ma',\n",
       " 'mafromtxt',\n",
       " 'mask_indices',\n",
       " 'mat',\n",
       " 'math',\n",
       " 'matmul',\n",
       " 'matrix',\n",
       " 'matrixlib',\n",
       " 'max',\n",
       " 'maximum',\n",
       " 'maximum_sctype',\n",
       " 'may_share_memory',\n",
       " 'mean',\n",
       " 'median',\n",
       " 'memmap',\n",
       " 'meshgrid',\n",
       " 'mgrid',\n",
       " 'min',\n",
       " 'min_scalar_type',\n",
       " 'minimum',\n",
       " 'mintypecode',\n",
       " 'mod',\n",
       " 'modf',\n",
       " 'moveaxis',\n",
       " 'msort',\n",
       " 'multiply',\n",
       " 'nan',\n",
       " 'nan_to_num',\n",
       " 'nanargmax',\n",
       " 'nanargmin',\n",
       " 'nancumprod',\n",
       " 'nancumsum',\n",
       " 'nanmax',\n",
       " 'nanmean',\n",
       " 'nanmedian',\n",
       " 'nanmin',\n",
       " 'nanpercentile',\n",
       " 'nanprod',\n",
       " 'nanquantile',\n",
       " 'nanstd',\n",
       " 'nansum',\n",
       " 'nanvar',\n",
       " 'nbytes',\n",
       " 'ndarray',\n",
       " 'ndenumerate',\n",
       " 'ndfromtxt',\n",
       " 'ndim',\n",
       " 'ndindex',\n",
       " 'nditer',\n",
       " 'negative',\n",
       " 'nested_iters',\n",
       " 'newaxis',\n",
       " 'nextafter',\n",
       " 'nonzero',\n",
       " 'not_equal',\n",
       " 'numarray',\n",
       " 'number',\n",
       " 'obj2sctype',\n",
       " 'object0',\n",
       " 'object_',\n",
       " 'ogrid',\n",
       " 'oldnumeric',\n",
       " 'ones',\n",
       " 'ones_like',\n",
       " 'os',\n",
       " 'outer',\n",
       " 'packbits',\n",
       " 'pad',\n",
       " 'partition',\n",
       " 'percentile',\n",
       " 'pi',\n",
       " 'piecewise',\n",
       " 'place',\n",
       " 'poly',\n",
       " 'poly1d',\n",
       " 'polyadd',\n",
       " 'polyder',\n",
       " 'polydiv',\n",
       " 'polyfit',\n",
       " 'polyint',\n",
       " 'polymul',\n",
       " 'polynomial',\n",
       " 'polysub',\n",
       " 'polyval',\n",
       " 'positive',\n",
       " 'power',\n",
       " 'printoptions',\n",
       " 'prod',\n",
       " 'product',\n",
       " 'promote_types',\n",
       " 'ptp',\n",
       " 'put',\n",
       " 'put_along_axis',\n",
       " 'putmask',\n",
       " 'quantile',\n",
       " 'r_',\n",
       " 'rad2deg',\n",
       " 'radians',\n",
       " 'random',\n",
       " 'ravel',\n",
       " 'ravel_multi_index',\n",
       " 'real',\n",
       " 'real_if_close',\n",
       " 'rec',\n",
       " 'recarray',\n",
       " 'recfromcsv',\n",
       " 'recfromtxt',\n",
       " 'reciprocal',\n",
       " 'record',\n",
       " 'remainder',\n",
       " 'repeat',\n",
       " 'require',\n",
       " 'reshape',\n",
       " 'resize',\n",
       " 'result_type',\n",
       " 'right_shift',\n",
       " 'rint',\n",
       " 'roll',\n",
       " 'rollaxis',\n",
       " 'roots',\n",
       " 'rot90',\n",
       " 'round',\n",
       " 'round_',\n",
       " 'row_stack',\n",
       " 's_',\n",
       " 'safe_eval',\n",
       " 'save',\n",
       " 'savetxt',\n",
       " 'savez',\n",
       " 'savez_compressed',\n",
       " 'sctype2char',\n",
       " 'sctypeDict',\n",
       " 'sctypes',\n",
       " 'searchsorted',\n",
       " 'select',\n",
       " 'set_numeric_ops',\n",
       " 'set_printoptions',\n",
       " 'set_string_function',\n",
       " 'setbufsize',\n",
       " 'setdiff1d',\n",
       " 'seterr',\n",
       " 'seterrcall',\n",
       " 'seterrobj',\n",
       " 'setxor1d',\n",
       " 'shape',\n",
       " 'shares_memory',\n",
       " 'short',\n",
       " 'show_config',\n",
       " 'sign',\n",
       " 'signbit',\n",
       " 'signedinteger',\n",
       " 'sin',\n",
       " 'sinc',\n",
       " 'single',\n",
       " 'singlecomplex',\n",
       " 'sinh',\n",
       " 'size',\n",
       " 'sometrue',\n",
       " 'sort',\n",
       " 'sort_complex',\n",
       " 'source',\n",
       " 'spacing',\n",
       " 'split',\n",
       " 'sqrt',\n",
       " 'square',\n",
       " 'squeeze',\n",
       " 'stack',\n",
       " 'std',\n",
       " 'str0',\n",
       " 'str_',\n",
       " 'string_',\n",
       " 'subtract',\n",
       " 'sum',\n",
       " 'swapaxes',\n",
       " 'sys',\n",
       " 'take',\n",
       " 'take_along_axis',\n",
       " 'tan',\n",
       " 'tanh',\n",
       " 'tensordot',\n",
       " 'test',\n",
       " 'testing',\n",
       " 'tile',\n",
       " 'timedelta64',\n",
       " 'trace',\n",
       " 'tracemalloc_domain',\n",
       " 'transpose',\n",
       " 'trapz',\n",
       " 'tri',\n",
       " 'tril',\n",
       " 'tril_indices',\n",
       " 'tril_indices_from',\n",
       " 'trim_zeros',\n",
       " 'triu',\n",
       " 'triu_indices',\n",
       " 'triu_indices_from',\n",
       " 'true_divide',\n",
       " 'trunc',\n",
       " 'typecodes',\n",
       " 'typename',\n",
       " 'ubyte',\n",
       " 'ufunc',\n",
       " 'uint',\n",
       " 'uint0',\n",
       " 'uint16',\n",
       " 'uint32',\n",
       " 'uint64',\n",
       " 'uint8',\n",
       " 'uintc',\n",
       " 'uintp',\n",
       " 'ulonglong',\n",
       " 'unicode_',\n",
       " 'union1d',\n",
       " 'unique',\n",
       " 'unpackbits',\n",
       " 'unravel_index',\n",
       " 'unsignedinteger',\n",
       " 'unwrap',\n",
       " 'use_hugepage',\n",
       " 'ushort',\n",
       " 'vander',\n",
       " 'var',\n",
       " 'vdot',\n",
       " 'vectorize',\n",
       " 'version',\n",
       " 'void',\n",
       " 'void0',\n",
       " 'vsplit',\n",
       " 'vstack',\n",
       " 'warnings',\n",
       " 'where',\n",
       " 'who',\n",
       " 'zeros',\n",
       " 'zeros_like']"
      ]
     },
     "execution_count": 18,
     "metadata": {},
     "output_type": "execute_result"
    }
   ],
   "source": [
    "dir(np)"
   ]
  },
  {
   "cell_type": "code",
   "execution_count": 19,
   "id": "6dc5fd01",
   "metadata": {},
   "outputs": [
    {
     "data": {
      "text/plain": [
       "'1.21.4'"
      ]
     },
     "execution_count": 19,
     "metadata": {},
     "output_type": "execute_result"
    },
    {
     "data": {
      "text/plain": [
       "'numpy'"
      ]
     },
     "execution_count": 19,
     "metadata": {},
     "output_type": "execute_result"
    }
   ],
   "source": [
    "np.__version__\n",
    "np.__package__"
   ]
  },
  {
   "cell_type": "code",
   "execution_count": 20,
   "id": "16488322",
   "metadata": {},
   "outputs": [
    {
     "name": "stdout",
     "output_type": "stream",
     "text": [
      "\n",
      "NumPy\n",
      "=====\n",
      "\n",
      "Provides\n",
      "  1. An array object of arbitrary homogeneous items\n",
      "  2. Fast mathematical operations over arrays\n",
      "  3. Linear Algebra, Fourier Transforms, Random Number Generation\n",
      "\n",
      "How to use the documentation\n",
      "----------------------------\n",
      "Documentation is available in two forms: docstrings provided\n",
      "with the code, and a loose standing reference guide, available from\n",
      "`the NumPy homepage <https://www.scipy.org>`_.\n",
      "\n",
      "We recommend exploring the docstrings using\n",
      "`IPython <https://ipython.org>`_, an advanced Python shell with\n",
      "TAB-completion and introspection capabilities.  See below for further\n",
      "instructions.\n",
      "\n",
      "The docstring examples assume that `numpy` has been imported as `np`::\n",
      "\n",
      "  >>> import numpy as np\n",
      "\n",
      "Code snippets are indicated by three greater-than signs::\n",
      "\n",
      "  >>> x = 42\n",
      "  >>> x = x + 1\n",
      "\n",
      "Use the built-in ``help`` function to view a function's docstring::\n",
      "\n",
      "  >>> help(np.sort)\n",
      "  ... # doctest: +SKIP\n",
      "\n",
      "For some objects, ``np.info(obj)`` may provide additional help.  This is\n",
      "particularly true if you see the line \"Help on ufunc object:\" at the top\n",
      "of the help() page.  Ufuncs are implemented in C, not Python, for speed.\n",
      "The native Python help() does not know how to view their help, but our\n",
      "np.info() function does.\n",
      "\n",
      "To search for documents containing a keyword, do::\n",
      "\n",
      "  >>> np.lookfor('keyword')\n",
      "  ... # doctest: +SKIP\n",
      "\n",
      "General-purpose documents like a glossary and help on the basic concepts\n",
      "of numpy are available under the ``doc`` sub-module::\n",
      "\n",
      "  >>> from numpy import doc\n",
      "  >>> help(doc)\n",
      "  ... # doctest: +SKIP\n",
      "\n",
      "Available subpackages\n",
      "---------------------\n",
      "doc\n",
      "    Topical documentation on broadcasting, indexing, etc.\n",
      "lib\n",
      "    Basic functions used by several sub-packages.\n",
      "random\n",
      "    Core Random Tools\n",
      "linalg\n",
      "    Core Linear Algebra Tools\n",
      "fft\n",
      "    Core FFT routines\n",
      "polynomial\n",
      "    Polynomial tools\n",
      "testing\n",
      "    NumPy testing tools\n",
      "f2py\n",
      "    Fortran to Python Interface Generator.\n",
      "distutils\n",
      "    Enhancements to distutils with support for\n",
      "    Fortran compilers support and more.\n",
      "\n",
      "Utilities\n",
      "---------\n",
      "test\n",
      "    Run numpy unittests\n",
      "show_config\n",
      "    Show numpy build configuration\n",
      "dual\n",
      "    Overwrite certain functions with high-performance SciPy tools.\n",
      "    Note: `numpy.dual` is deprecated.  Use the functions from NumPy or Scipy\n",
      "    directly instead of importing them from `numpy.dual`.\n",
      "matlib\n",
      "    Make everything matrices.\n",
      "__version__\n",
      "    NumPy version string\n",
      "\n",
      "Viewing documentation using IPython\n",
      "-----------------------------------\n",
      "Start IPython with the NumPy profile (``ipython -p numpy``), which will\n",
      "import `numpy` under the alias `np`.  Then, use the ``cpaste`` command to\n",
      "paste examples into the shell.  To see which functions are available in\n",
      "`numpy`, type ``np.<TAB>`` (where ``<TAB>`` refers to the TAB key), or use\n",
      "``np.*cos*?<ENTER>`` (where ``<ENTER>`` refers to the ENTER key) to narrow\n",
      "down the list.  To view the docstring for a function, use\n",
      "``np.cos?<ENTER>`` (to view the docstring) and ``np.cos??<ENTER>`` (to view\n",
      "the source code).\n",
      "\n",
      "Copies vs. in-place operation\n",
      "-----------------------------\n",
      "Most of the functions in `numpy` return a copy of the array argument\n",
      "(e.g., `np.sort`).  In-place versions of these functions are often\n",
      "available as array methods, i.e. ``x = np.array([1,2,3]); x.sort()``.\n",
      "Exceptions to this rule are documented.\n",
      "\n",
      "\n"
     ]
    }
   ],
   "source": [
    "print(np.__doc__)"
   ]
  },
  {
   "cell_type": "code",
   "execution_count": 22,
   "id": "a9cf38cf",
   "metadata": {},
   "outputs": [
    {
     "data": {
      "text/plain": [
       "float"
      ]
     },
     "execution_count": 22,
     "metadata": {},
     "output_type": "execute_result"
    },
    {
     "data": {
      "text/plain": [
       "float"
      ]
     },
     "execution_count": 22,
     "metadata": {},
     "output_type": "execute_result"
    }
   ],
   "source": [
    "a= 4.2\n",
    "b = 3.5\n",
    "\n",
    "type(a)\n",
    "type(b)"
   ]
  },
  {
   "cell_type": "code",
   "execution_count": 23,
   "id": "cb2346ac",
   "metadata": {},
   "outputs": [
    {
     "data": {
      "text/plain": [
       "0.0"
      ]
     },
     "execution_count": 23,
     "metadata": {},
     "output_type": "execute_result"
    }
   ],
   "source": [
    "#Attribute/ propert linked to the class\n",
    "a.imag"
   ]
  },
  {
   "cell_type": "code",
   "execution_count": 26,
   "id": "25319383",
   "metadata": {},
   "outputs": [
    {
     "data": {
      "text/plain": [
       "False"
      ]
     },
     "execution_count": 26,
     "metadata": {},
     "output_type": "execute_result"
    }
   ],
   "source": [
    "a.is_integer()"
   ]
  },
  {
   "cell_type": "code",
   "execution_count": 27,
   "id": "eefee57c",
   "metadata": {},
   "outputs": [
    {
     "data": {
      "text/plain": [
       "4.2"
      ]
     },
     "execution_count": 27,
     "metadata": {},
     "output_type": "execute_result"
    }
   ],
   "source": [
    "a\n"
   ]
  },
  {
   "cell_type": "code",
   "execution_count": 29,
   "id": "e7902658",
   "metadata": {},
   "outputs": [],
   "source": [
    "class student:\n",
    "    goal = 'get educated' # class atrribute\n",
    "    \n",
    "    @classmethod\n",
    "    def print_goal(cls): \n",
    "        print(cls.goal)\n",
    "        print('learn , earn and enjoy')"
   ]
  },
  {
   "cell_type": "code",
   "execution_count": 30,
   "id": "df24bdd4",
   "metadata": {},
   "outputs": [],
   "source": [
    "#all instances of the class will have the class properties unless changed\n"
   ]
  },
  {
   "cell_type": "code",
   "execution_count": 31,
   "id": "8587d2d9",
   "metadata": {},
   "outputs": [],
   "source": [
    "#object creation\n",
    "John = student()"
   ]
  },
  {
   "cell_type": "code",
   "execution_count": 32,
   "id": "b4657919",
   "metadata": {},
   "outputs": [
    {
     "data": {
      "text/plain": [
       "'get educated'"
      ]
     },
     "execution_count": 32,
     "metadata": {},
     "output_type": "execute_result"
    }
   ],
   "source": [
    "John.goal"
   ]
  },
  {
   "cell_type": "code",
   "execution_count": 33,
   "id": "881c90b8",
   "metadata": {},
   "outputs": [
    {
     "name": "stdout",
     "output_type": "stream",
     "text": [
      "get educated\n",
      "learn , earn and enjoy\n"
     ]
    }
   ],
   "source": [
    "John.print_goal()"
   ]
  },
  {
   "cell_type": "code",
   "execution_count": 34,
   "id": "8b8a6129",
   "metadata": {},
   "outputs": [],
   "source": [
    "Mary = student()"
   ]
  },
  {
   "cell_type": "code",
   "execution_count": 35,
   "id": "bd8cda47",
   "metadata": {},
   "outputs": [
    {
     "data": {
      "text/plain": [
       "'get educated'"
      ]
     },
     "execution_count": 35,
     "metadata": {},
     "output_type": "execute_result"
    }
   ],
   "source": [
    "Mary.goal"
   ]
  },
  {
   "cell_type": "code",
   "execution_count": 36,
   "id": "b0865da7",
   "metadata": {},
   "outputs": [
    {
     "name": "stdout",
     "output_type": "stream",
     "text": [
      "get educated\n",
      "learn , earn and enjoy\n"
     ]
    }
   ],
   "source": [
    "Mary.print_goal()\n",
    "\n"
   ]
  },
  {
   "cell_type": "code",
   "execution_count": 37,
   "id": "1be60b44",
   "metadata": {},
   "outputs": [],
   "source": [
    "b = student()"
   ]
  },
  {
   "cell_type": "code",
   "execution_count": 38,
   "id": "a1ae5ec5",
   "metadata": {},
   "outputs": [
    {
     "data": {
      "text/plain": [
       "'get educated'"
      ]
     },
     "execution_count": 38,
     "metadata": {},
     "output_type": "execute_result"
    }
   ],
   "source": [
    "b.goal"
   ]
  },
  {
   "cell_type": "code",
   "execution_count": null,
   "id": "53030980",
   "metadata": {},
   "outputs": [],
   "source": []
  },
  {
   "cell_type": "code",
   "execution_count": 39,
   "id": "d5e2b05c",
   "metadata": {},
   "outputs": [
    {
     "name": "stdout",
     "output_type": "stream",
     "text": [
      "get educated\n",
      "learn , earn and enjoy\n"
     ]
    }
   ],
   "source": [
    "b.print_goal()"
   ]
  },
  {
   "cell_type": "code",
   "execution_count": 40,
   "id": "5def96a3",
   "metadata": {},
   "outputs": [
    {
     "data": {
      "text/plain": [
       "'get educated plus get the job'"
      ]
     },
     "execution_count": 40,
     "metadata": {},
     "output_type": "execute_result"
    }
   ],
   "source": [
    "b.goal = 'get educated plus get the job'\n",
    "b.goal"
   ]
  },
  {
   "cell_type": "code",
   "execution_count": 42,
   "id": "7973dd34",
   "metadata": {},
   "outputs": [
    {
     "data": {
      "text/plain": [
       "'Make Money'"
      ]
     },
     "execution_count": 42,
     "metadata": {},
     "output_type": "execute_result"
    }
   ],
   "source": [
    "def dough():\n",
    "    return 'Make Money'\n",
    "b.print_goal = dough\n",
    "b.print_goal()"
   ]
  },
  {
   "cell_type": "code",
   "execution_count": 43,
   "id": "bffe83fc",
   "metadata": {},
   "outputs": [],
   "source": [
    "class student():\n",
    "    goal =' Get Educated'\n",
    "    \n",
    "    @classmethod\n",
    "    def print_goal(cls):\n",
    "        print(cls.goal)\n",
    "        print('learn, earn and enjoy')\n",
    "        \n",
    "    #Initialization function required to construct different objects/ instances\n",
    "    def __init__(self , science_marks , arts_marks):\n",
    "        self.science= science_marks #attribute 1\n",
    "        self.arts = arts_marks   #Atrribute 2 \n",
    "        \n",
    "    def total_score(self):\n",
    "        print('Total marks' , self.science + self.arts)\n",
    "        \n",
    "        \n",
    "    \n",
    "    \n",
    "    "
   ]
  },
  {
   "cell_type": "code",
   "execution_count": 44,
   "id": "c759b0d9",
   "metadata": {},
   "outputs": [],
   "source": [
    "John = student(5 ,  10)"
   ]
  },
  {
   "cell_type": "code",
   "execution_count": 46,
   "id": "1280b282",
   "metadata": {},
   "outputs": [],
   "source": [
    "Neil = student(23 , 67)"
   ]
  },
  {
   "cell_type": "code",
   "execution_count": 47,
   "id": "4c9ea6e8",
   "metadata": {},
   "outputs": [
    {
     "data": {
      "text/plain": [
       "67"
      ]
     },
     "execution_count": 47,
     "metadata": {},
     "output_type": "execute_result"
    }
   ],
   "source": [
    "Neil.arts"
   ]
  },
  {
   "cell_type": "code",
   "execution_count": 48,
   "id": "3df26226",
   "metadata": {},
   "outputs": [
    {
     "data": {
      "text/plain": [
       "' Get Educated'"
      ]
     },
     "execution_count": 48,
     "metadata": {},
     "output_type": "execute_result"
    }
   ],
   "source": [
    "Neil.goal\n"
   ]
  },
  {
   "cell_type": "code",
   "execution_count": 49,
   "id": "251d207c",
   "metadata": {},
   "outputs": [
    {
     "name": "stdout",
     "output_type": "stream",
     "text": [
      " Get Educated\n",
      "learn, earn and enjoy\n"
     ]
    }
   ],
   "source": [
    "Neil.print_goal()"
   ]
  },
  {
   "cell_type": "code",
   "execution_count": 51,
   "id": "a6676a08",
   "metadata": {},
   "outputs": [
    {
     "name": "stdout",
     "output_type": "stream",
     "text": [
      "Total marks 90\n"
     ]
    }
   ],
   "source": [
    "Neil.total_score()\n"
   ]
  },
  {
   "cell_type": "code",
   "execution_count": 53,
   "id": "fcd941b9",
   "metadata": {},
   "outputs": [],
   "source": [
    "Jacob=student(23 , 12)"
   ]
  },
  {
   "cell_type": "code",
   "execution_count": 54,
   "id": "1d8d5a37",
   "metadata": {},
   "outputs": [
    {
     "name": "stdout",
     "output_type": "stream",
     "text": [
      "Total marks 35\n"
     ]
    }
   ],
   "source": [
    "Jacob.total_score()"
   ]
  },
  {
   "cell_type": "markdown",
   "id": "7a229685",
   "metadata": {},
   "source": [
    "# Static Methods"
   ]
  },
  {
   "cell_type": "code",
   "execution_count": 60,
   "id": "1839181b",
   "metadata": {},
   "outputs": [],
   "source": [
    "class student:\n",
    "    \n",
    "    goal =' Get Educated'\n",
    "    \n",
    "    @classmethod\n",
    "    def print_goal(cls):\n",
    "        print(cls.goal)\n",
    "        print('learn, earn and enjoy')\n",
    "        \n",
    "    #Initialization function required to construct different objects/ instances\n",
    "    def __init__(self , science_marks , arts_marks):\n",
    "        self.science= science_marks #attribute 1\n",
    "        self.arts = arts_marks   #Atrribute 2 \n",
    "        \n",
    "    def total_score(self):\n",
    "        print('Total marks' , self.science + self.arts)\n",
    "        \n",
    "    @staticmethod\n",
    "    def print_current_year(year):\n",
    "        print('The current year is :' , year)\n",
    "        \n",
    "    "
   ]
  },
  {
   "cell_type": "code",
   "execution_count": 61,
   "id": "f9f8d59e",
   "metadata": {},
   "outputs": [
    {
     "name": "stdout",
     "output_type": "stream",
     "text": [
      "The current year is : 2002\n"
     ]
    }
   ],
   "source": [
    "student.print_current_year(2002)"
   ]
  },
  {
   "cell_type": "markdown",
   "id": "2105aaa9",
   "metadata": {},
   "source": [
    "# Inheritance: Subclasses / Child Classes\n"
   ]
  },
  {
   "cell_type": "code",
   "execution_count": 62,
   "id": "498d1300",
   "metadata": {},
   "outputs": [],
   "source": [
    "# inherit all the attribute ofthe parentclass"
   ]
  },
  {
   "cell_type": "code",
   "execution_count": 63,
   "id": "dc7128bc",
   "metadata": {},
   "outputs": [],
   "source": [
    "class sporty_student(student):\n",
    "    pass"
   ]
  },
  {
   "cell_type": "code",
   "execution_count": 64,
   "id": "90b654b2",
   "metadata": {},
   "outputs": [
    {
     "data": {
      "text/plain": [
       "' Get Educated'"
      ]
     },
     "execution_count": 64,
     "metadata": {},
     "output_type": "execute_result"
    }
   ],
   "source": [
    "sporty_student.goal"
   ]
  },
  {
   "cell_type": "code",
   "execution_count": 69,
   "id": "545ab8c9",
   "metadata": {},
   "outputs": [],
   "source": [
    "#custumize the subclass\n",
    "class sporty_student(student):\n",
    "    goal = 'get educated and win some trophies'"
   ]
  },
  {
   "cell_type": "code",
   "execution_count": 72,
   "id": "7324a0e6",
   "metadata": {},
   "outputs": [],
   "source": [
    "Jack=sporty_student(4 , 9)"
   ]
  },
  {
   "cell_type": "code",
   "execution_count": 73,
   "id": "437666fc",
   "metadata": {},
   "outputs": [
    {
     "name": "stdout",
     "output_type": "stream",
     "text": [
      "Total marks 13\n"
     ]
    }
   ],
   "source": [
    "Jack.total_score()"
   ]
  },
  {
   "cell_type": "code",
   "execution_count": 74,
   "id": "71e756ce",
   "metadata": {},
   "outputs": [
    {
     "data": {
      "text/plain": [
       "'get educated and win some trophies'"
      ]
     },
     "execution_count": 74,
     "metadata": {},
     "output_type": "execute_result"
    }
   ],
   "source": [
    "\n",
    "Jack.goal"
   ]
  },
  {
   "cell_type": "code",
   "execution_count": 75,
   "id": "710116f1",
   "metadata": {},
   "outputs": [
    {
     "data": {
      "text/plain": [
       "True"
      ]
     },
     "execution_count": 75,
     "metadata": {},
     "output_type": "execute_result"
    }
   ],
   "source": [
    "isinstance(Jack , sporty_student)"
   ]
  },
  {
   "cell_type": "code",
   "execution_count": 76,
   "id": "b65b2ca5",
   "metadata": {},
   "outputs": [
    {
     "data": {
      "text/plain": [
       "True"
      ]
     },
     "execution_count": 76,
     "metadata": {},
     "output_type": "execute_result"
    }
   ],
   "source": [
    "isinstance(Jack, student)"
   ]
  },
  {
   "cell_type": "code",
   "execution_count": 77,
   "id": "5d8b21ee",
   "metadata": {},
   "outputs": [
    {
     "data": {
      "text/plain": [
       "True"
      ]
     },
     "execution_count": 77,
     "metadata": {},
     "output_type": "execute_result"
    }
   ],
   "source": [
    "\n",
    "issubclass(sporty_student , student)"
   ]
  },
  {
   "cell_type": "code",
   "execution_count": 78,
   "id": "10ca1d89",
   "metadata": {},
   "outputs": [
    {
     "data": {
      "text/plain": [
       "{'science': 4, 'arts': 9}"
      ]
     },
     "execution_count": 78,
     "metadata": {},
     "output_type": "execute_result"
    }
   ],
   "source": [
    "Jack.__dict__"
   ]
  },
  {
   "cell_type": "code",
   "execution_count": 79,
   "id": "01dfcc2d",
   "metadata": {},
   "outputs": [
    {
     "data": {
      "text/plain": [
       "(__main__.sporty_student, __main__.student, object)"
      ]
     },
     "execution_count": 79,
     "metadata": {},
     "output_type": "execute_result"
    }
   ],
   "source": [
    "sporty_student.__mro__"
   ]
  },
  {
   "cell_type": "code",
   "execution_count": null,
   "id": "d3483cc2",
   "metadata": {},
   "outputs": [],
   "source": []
  },
  {
   "cell_type": "code",
   "execution_count": 80,
   "id": "2f605335",
   "metadata": {},
   "outputs": [],
   "source": [
    "#The SuperClass"
   ]
  },
  {
   "cell_type": "code",
   "execution_count": 81,
   "id": "503a2968",
   "metadata": {},
   "outputs": [
    {
     "name": "stdout",
     "output_type": "stream",
     "text": [
      "I come from parent1 __init__\n",
      "My age is 5\n"
     ]
    }
   ],
   "source": [
    "class parent1():\n",
    "    def __init__(self , age):\n",
    "        self.age = age\n",
    "        \n",
    "        print('I come from parent1 __init__')\n",
    "        print('My age is', self.age)\n",
    "        \n",
    "class child(parent1):\n",
    "    pass\n",
    "\n",
    "jack = child(5)"
   ]
  },
  {
   "cell_type": "code",
   "execution_count": 82,
   "id": "172c873c",
   "metadata": {},
   "outputs": [
    {
     "name": "stdout",
     "output_type": "stream",
     "text": [
      "I come from child __init__\n",
      "My grade is 10\n"
     ]
    }
   ],
   "source": [
    "class parent1():\n",
    "    def __init__(self , age):\n",
    "        self.age = age\n",
    "        \n",
    "        print('I come from parent1 __init__')\n",
    "        print('My age is', self.age)\n",
    "        \n",
    "class child(parent1):\n",
    "    def __init__(self, grade):\n",
    "        self.grade= grade\n",
    "        print('I come from child __init__')\n",
    "        print('My grade is' , self.grade)\n",
    "jack = child(10)"
   ]
  },
  {
   "cell_type": "code",
   "execution_count": 87,
   "id": "f915f46a",
   "metadata": {},
   "outputs": [],
   "source": [
    "class parent1():\n",
    "    def __init__(self , age):\n",
    "        self.age = age\n",
    "        \n",
    "        print('I come from parent1 __init__')\n",
    "        print('My age is', self.age)\n",
    "class child(parent1):\n",
    "    def __init__(self, grade,age):\n",
    "        self.grade= grade\n",
    "        print('I come from child __init__')\n",
    "        print('My grade is' , self.grade)      \n",
    "        super().__init__(age)"
   ]
  },
  {
   "cell_type": "code",
   "execution_count": 88,
   "id": "a7f3ae11",
   "metadata": {},
   "outputs": [
    {
     "name": "stdout",
     "output_type": "stream",
     "text": [
      "I come from child __init__\n",
      "My grade is A\n",
      "I come from parent1 __init__\n",
      "My age is 5\n"
     ]
    }
   ],
   "source": [
    "Jack = child('A', 5)"
   ]
  },
  {
   "cell_type": "code",
   "execution_count": 91,
   "id": "ac0f48fc",
   "metadata": {},
   "outputs": [
    {
     "name": "stdout",
     "output_type": "stream",
     "text": [
      "I come from child __init__\n",
      "My grade is A\n",
      "I come from parent1 __init__\n",
      "My age is 12\n",
      "I come from parent2 __init__\n",
      "My age is Male\n"
     ]
    }
   ],
   "source": [
    "class parent1():\n",
    "    def __init__(self , age):\n",
    "        self.age = age\n",
    "        \n",
    "        print('I come from parent1 __init__')\n",
    "        print('My age is', self.age)\n",
    "        \n",
    "class parent2():\n",
    "    def __init__(self , gender):\n",
    "        self.gender = gender\n",
    "        print('I come from parent2 __init__')\n",
    "        print('My age is', self.gender)\n",
    "\n",
    "        \n",
    "class child(parent1 , parent2):\n",
    "    def __init__(self, grade,age, gender):\n",
    "        self.grade= grade\n",
    "        print('I come from child __init__')\n",
    "        print('My grade is' , self.grade)      \n",
    "        parent1.__init__(self,age)\n",
    "        parent2.__init__(self , gender)\n",
    "\n",
    "jack = child('A' , 12 , 'Male')\n",
    "        "
   ]
  },
  {
   "cell_type": "code",
   "execution_count": 92,
   "id": "884992c6",
   "metadata": {},
   "outputs": [
    {
     "data": {
      "text/plain": [
       "(__main__.child, __main__.parent1, __main__.parent2, object)"
      ]
     },
     "execution_count": 92,
     "metadata": {},
     "output_type": "execute_result"
    }
   ],
   "source": [
    "child.__mro__"
   ]
  },
  {
   "cell_type": "code",
   "execution_count": 93,
   "id": "67ad08a6",
   "metadata": {},
   "outputs": [
    {
     "data": {
      "text/plain": [
       "(list, object)"
      ]
     },
     "execution_count": 93,
     "metadata": {},
     "output_type": "execute_result"
    }
   ],
   "source": [
    "list.__mro__"
   ]
  },
  {
   "cell_type": "code",
   "execution_count": 94,
   "id": "68630c4c",
   "metadata": {},
   "outputs": [
    {
     "data": {
      "text/plain": [
       "(dict, object)"
      ]
     },
     "execution_count": 94,
     "metadata": {},
     "output_type": "execute_result"
    }
   ],
   "source": [
    "dict.__mro__"
   ]
  },
  {
   "cell_type": "code",
   "execution_count": 95,
   "id": "d7d447e0",
   "metadata": {},
   "outputs": [
    {
     "data": {
      "text/plain": [
       "array([[100, 120, 140, 160, 180],\n",
       "       [600, 620, 640, 660, 680]])"
      ]
     },
     "execution_count": 95,
     "metadata": {},
     "output_type": "execute_result"
    }
   ],
   "source": [
    "import numpy as np\n",
    "import pandas as pd\n",
    "\n",
    "my_array = np.array([np.arange(100, 200 , 20) , np.arange(600 , 700 , 20)])\n",
    "\n",
    "my_array"
   ]
  },
  {
   "cell_type": "code",
   "execution_count": 96,
   "id": "2319ffb8",
   "metadata": {},
   "outputs": [
    {
     "data": {
      "text/plain": [
       "numpy.ndarray"
      ]
     },
     "execution_count": 96,
     "metadata": {},
     "output_type": "execute_result"
    }
   ],
   "source": [
    "type(my_array)"
   ]
  },
  {
   "cell_type": "code",
   "execution_count": 97,
   "id": "0514a2be",
   "metadata": {},
   "outputs": [
    {
     "data": {
      "text/plain": [
       "(numpy.ndarray, object)"
      ]
     },
     "execution_count": 97,
     "metadata": {},
     "output_type": "execute_result"
    }
   ],
   "source": [
    "np.ndarray.__mro__"
   ]
  },
  {
   "cell_type": "code",
   "execution_count": 99,
   "id": "f2eed491",
   "metadata": {},
   "outputs": [
    {
     "data": {
      "text/html": [
       "<div>\n",
       "<style scoped>\n",
       "    .dataframe tbody tr th:only-of-type {\n",
       "        vertical-align: middle;\n",
       "    }\n",
       "\n",
       "    .dataframe tbody tr th {\n",
       "        vertical-align: top;\n",
       "    }\n",
       "\n",
       "    .dataframe thead th {\n",
       "        text-align: right;\n",
       "    }\n",
       "</style>\n",
       "<table border=\"1\" class=\"dataframe\">\n",
       "  <thead>\n",
       "    <tr style=\"text-align: right;\">\n",
       "      <th></th>\n",
       "      <th>A</th>\n",
       "      <th>B</th>\n",
       "    </tr>\n",
       "  </thead>\n",
       "  <tbody>\n",
       "    <tr>\n",
       "      <th>0</th>\n",
       "      <td>100</td>\n",
       "      <td>600</td>\n",
       "    </tr>\n",
       "    <tr>\n",
       "      <th>1</th>\n",
       "      <td>120</td>\n",
       "      <td>620</td>\n",
       "    </tr>\n",
       "    <tr>\n",
       "      <th>2</th>\n",
       "      <td>140</td>\n",
       "      <td>640</td>\n",
       "    </tr>\n",
       "    <tr>\n",
       "      <th>3</th>\n",
       "      <td>160</td>\n",
       "      <td>660</td>\n",
       "    </tr>\n",
       "    <tr>\n",
       "      <th>4</th>\n",
       "      <td>180</td>\n",
       "      <td>680</td>\n",
       "    </tr>\n",
       "  </tbody>\n",
       "</table>\n",
       "</div>"
      ],
      "text/plain": [
       "     A    B\n",
       "0  100  600\n",
       "1  120  620\n",
       "2  140  640\n",
       "3  160  660\n",
       "4  180  680"
      ]
     },
     "execution_count": 99,
     "metadata": {},
     "output_type": "execute_result"
    }
   ],
   "source": [
    "my_df = pd.DataFrame(my_array.T , columns = ['A','B'])\n",
    "my_df"
   ]
  },
  {
   "cell_type": "code",
   "execution_count": 100,
   "id": "dfddc801",
   "metadata": {},
   "outputs": [
    {
     "data": {
      "text/plain": [
       "pandas.core.frame.DataFrame"
      ]
     },
     "execution_count": 100,
     "metadata": {},
     "output_type": "execute_result"
    }
   ],
   "source": [
    "type(my_df)"
   ]
  },
  {
   "cell_type": "code",
   "execution_count": 101,
   "id": "1f030c47",
   "metadata": {},
   "outputs": [
    {
     "data": {
      "text/plain": [
       "(pandas.core.frame.DataFrame,\n",
       " pandas.core.generic.NDFrame,\n",
       " pandas.core.base.PandasObject,\n",
       " pandas.core.accessor.DirNamesMixin,\n",
       " pandas.core.indexing.IndexingMixin,\n",
       " pandas.core.arraylike.OpsMixin,\n",
       " object)"
      ]
     },
     "execution_count": 101,
     "metadata": {},
     "output_type": "execute_result"
    }
   ],
   "source": [
    "pd.core.frame.DataFrame.__mro__"
   ]
  },
  {
   "cell_type": "markdown",
   "id": "ba2bdf44",
   "metadata": {},
   "source": [
    "# Implementation of Strategy in OOP manners"
   ]
  },
  {
   "cell_type": "code",
   "execution_count": 128,
   "id": "4915ed06",
   "metadata": {},
   "outputs": [],
   "source": [
    "import numpy as np\n",
    "import pandas as pd\n",
    "import matplotlib.pyplot as plt\n",
    "import datetime as dt\n",
    "import yfinance as yf\n",
    "import pyfolio as pf"
   ]
  },
  {
   "cell_type": "code",
   "execution_count": 115,
   "id": "0a0d2b42",
   "metadata": {},
   "outputs": [],
   "source": [
    "# !pip install pyfolio"
   ]
  },
  {
   "cell_type": "code",
   "execution_count": 118,
   "id": "24c8051c",
   "metadata": {},
   "outputs": [
    {
     "data": {
      "text/plain": [
       "datetime.date(2021, 12, 1)"
      ]
     },
     "execution_count": 118,
     "metadata": {},
     "output_type": "execute_result"
    },
    {
     "data": {
      "text/plain": [
       "datetime.date(2019, 11, 6)"
      ]
     },
     "execution_count": 118,
     "metadata": {},
     "output_type": "execute_result"
    }
   ],
   "source": [
    "end1 = pd.datetime.now().date()\n",
    "start1 = end1 - pd.Timedelta(days = 3*252)\n",
    "end1\n",
    "start1"
   ]
  },
  {
   "cell_type": "code",
   "execution_count": 119,
   "id": "3f92a984",
   "metadata": {},
   "outputs": [
    {
     "name": "stdout",
     "output_type": "stream",
     "text": [
      "[*********************100%***********************]  1 of 1 completed\n"
     ]
    }
   ],
   "source": [
    "ticker = ['^NSEI']\n",
    "df = yf.download(ticker , start = start1 , end = end1)\n",
    "df3 = df.copy()"
   ]
  },
  {
   "cell_type": "code",
   "execution_count": 120,
   "id": "de5e3ca2",
   "metadata": {},
   "outputs": [
    {
     "data": {
      "text/html": [
       "<div>\n",
       "<style scoped>\n",
       "    .dataframe tbody tr th:only-of-type {\n",
       "        vertical-align: middle;\n",
       "    }\n",
       "\n",
       "    .dataframe tbody tr th {\n",
       "        vertical-align: top;\n",
       "    }\n",
       "\n",
       "    .dataframe thead th {\n",
       "        text-align: right;\n",
       "    }\n",
       "</style>\n",
       "<table border=\"1\" class=\"dataframe\">\n",
       "  <thead>\n",
       "    <tr style=\"text-align: right;\">\n",
       "      <th></th>\n",
       "      <th>Open</th>\n",
       "      <th>High</th>\n",
       "      <th>Low</th>\n",
       "      <th>Close</th>\n",
       "      <th>Adj Close</th>\n",
       "      <th>Volume</th>\n",
       "    </tr>\n",
       "    <tr>\n",
       "      <th>Date</th>\n",
       "      <th></th>\n",
       "      <th></th>\n",
       "      <th></th>\n",
       "      <th></th>\n",
       "      <th></th>\n",
       "      <th></th>\n",
       "    </tr>\n",
       "  </thead>\n",
       "  <tbody>\n",
       "    <tr>\n",
       "      <th>2019-11-06</th>\n",
       "      <td>11911.500000</td>\n",
       "      <td>12002.900391</td>\n",
       "      <td>11850.250000</td>\n",
       "      <td>11966.049805</td>\n",
       "      <td>11966.049805</td>\n",
       "      <td>603400</td>\n",
       "    </tr>\n",
       "    <tr>\n",
       "      <th>2019-11-07</th>\n",
       "      <td>12021.099609</td>\n",
       "      <td>12021.400391</td>\n",
       "      <td>11946.849609</td>\n",
       "      <td>12012.049805</td>\n",
       "      <td>12012.049805</td>\n",
       "      <td>563000</td>\n",
       "    </tr>\n",
       "    <tr>\n",
       "      <th>2019-11-08</th>\n",
       "      <td>11987.150391</td>\n",
       "      <td>12034.150391</td>\n",
       "      <td>11888.750000</td>\n",
       "      <td>11908.150391</td>\n",
       "      <td>11908.150391</td>\n",
       "      <td>789300</td>\n",
       "    </tr>\n",
       "    <tr>\n",
       "      <th>2019-11-11</th>\n",
       "      <td>11879.200195</td>\n",
       "      <td>11932.650391</td>\n",
       "      <td>11853.950195</td>\n",
       "      <td>11913.450195</td>\n",
       "      <td>11913.450195</td>\n",
       "      <td>549000</td>\n",
       "    </tr>\n",
       "    <tr>\n",
       "      <th>2019-11-13</th>\n",
       "      <td>11908.299805</td>\n",
       "      <td>11946.799805</td>\n",
       "      <td>11823.200195</td>\n",
       "      <td>11840.450195</td>\n",
       "      <td>11840.450195</td>\n",
       "      <td>659000</td>\n",
       "    </tr>\n",
       "  </tbody>\n",
       "</table>\n",
       "</div>"
      ],
      "text/plain": [
       "                    Open          High           Low         Close  \\\n",
       "Date                                                                 \n",
       "2019-11-06  11911.500000  12002.900391  11850.250000  11966.049805   \n",
       "2019-11-07  12021.099609  12021.400391  11946.849609  12012.049805   \n",
       "2019-11-08  11987.150391  12034.150391  11888.750000  11908.150391   \n",
       "2019-11-11  11879.200195  11932.650391  11853.950195  11913.450195   \n",
       "2019-11-13  11908.299805  11946.799805  11823.200195  11840.450195   \n",
       "\n",
       "               Adj Close  Volume  \n",
       "Date                              \n",
       "2019-11-06  11966.049805  603400  \n",
       "2019-11-07  12012.049805  563000  \n",
       "2019-11-08  11908.150391  789300  \n",
       "2019-11-11  11913.450195  549000  \n",
       "2019-11-13  11840.450195  659000  "
      ]
     },
     "execution_count": 120,
     "metadata": {},
     "output_type": "execute_result"
    }
   ],
   "source": [
    "df3.head()"
   ]
  },
  {
   "cell_type": "code",
   "execution_count": 121,
   "id": "e9e0d754",
   "metadata": {},
   "outputs": [],
   "source": [
    "#In OOP Manners"
   ]
  },
  {
   "cell_type": "code",
   "execution_count": 144,
   "id": "31a37108",
   "metadata": {},
   "outputs": [],
   "source": [
    "class backtesting_crossover():\n",
    "    \n",
    "    def __init__(self , ticker , start_date , end_date , ma_short , ma_long):\n",
    "        self.ticker = ticker\n",
    "        self.start_date = start_date\n",
    "        self.end_date = end_date\n",
    "        self.ma_short = ma_short\n",
    "        self.ma_long = ma_long\n",
    "        \n",
    "        self.fetch_data()\n",
    "        self.indicators()\n",
    "        self.signals()\n",
    "        self.positions()\n",
    "        self.returns()\n",
    "        \n",
    "    def fetch_data(self):\n",
    "        self.df = yf.download(self.ticker , self.start_date , self.end_date)\n",
    "        \n",
    "    def indicators(self):\n",
    "        self.df['ma_short'] = self.df['Adj Close'].rolling(window = self.ma_short, center = False).mean()\n",
    "        self.df['ma_long'] = self.df['Adj Close'].rolling(window = self.ma_long, center = False).mean()\n",
    "        \n",
    "        self.df['ma_short_prev'] = self.df['ma_short'].shift()\n",
    "        self.df['ma_long_prev'] = self.df['ma_long'].shift()\n",
    "        self.df.dropna(inplace = True)\n",
    "        \n",
    "    def signals(self):\n",
    "        self.df['signal'] = np.where((self.df['ma_short']> self.df['ma_long'])& (self.df['ma_short_prev'] > self.df['ma_long_prev']),1,0)\n",
    "        \n",
    "        self.df['signal'] = np.where((self.df['ma_short']< self.df['ma_long'])& (self.df['ma_short_prev'] < self.df['ma_long_prev']),-1,self.df['signal'])\n",
    "    \n",
    "    def positions(self):\n",
    "        self.df['position'] = self.df['signal'].replace(to_replace = 0 , method='ffill')\n",
    "        \n",
    "    def returns(self):\n",
    "        \n",
    "        self.df['bnh_returns'] = np.log(self.df['Adj Close']/self.df['Adj Close'].shift(1))\n",
    "        self.df['strategy_returns'] = self.df['bnh_returns']* self.df['position'].shift(1)\n",
    "        \n",
    "        print('Total returns:' , self.df['strategy_returns'].cumsum()[-1])\n",
    "        return self.df['strategy_returns'].cumsum()[-1]\n",
    "    \n",
    "   \n",
    "    def analysis(self):\n",
    "        self.df[['ma_short','ma_long', 'position']].plot(figsize = (15, 6), secondary_y = 'position', grid = True)\n",
    "        \n",
    "        plt.title('checking if position are generated properly')\n",
    "        plt.show()\n",
    "        \n",
    "        self.df[['bnh_returns','strategy_returns']].cumsum().plot(figsize=(15,6), secondary_y ='position',grid=True)\n",
    "        plt.title('Buy & Hold vs Crossover Strategy cumulative returns')\n",
    "        plt.show()\n",
    "        \n",
    "        \n",
    "        pf.create_simple_tear_sheet(self.df['strategy_returns'])\n",
    "        \n",
    "\n",
    "        \n"
   ]
  },
  {
   "cell_type": "code",
   "execution_count": 145,
   "id": "67c6783c",
   "metadata": {},
   "outputs": [
    {
     "data": {
      "text/plain": [
       "datetime.date(2018, 6, 5)"
      ]
     },
     "execution_count": 145,
     "metadata": {},
     "output_type": "execute_result"
    },
    {
     "data": {
      "text/plain": [
       "datetime.date(2020, 6, 30)"
      ]
     },
     "execution_count": 145,
     "metadata": {},
     "output_type": "execute_result"
    }
   ],
   "source": [
    "end1 = dt.datetime(2020, 6 , 30).date()\n",
    "start1 = end1-pd.Timedelta(days = 252*3)\n",
    "start1 \n",
    "end1"
   ]
  },
  {
   "cell_type": "code",
   "execution_count": 146,
   "id": "84e86f71",
   "metadata": {},
   "outputs": [
    {
     "name": "stdout",
     "output_type": "stream",
     "text": [
      "[*********************100%***********************]  1 of 1 completed\n",
      "Total returns: 0.2221782667057393\n"
     ]
    }
   ],
   "source": [
    "nifty_10_20 = backtesting_crossover('^NSEI' , start1 , end1 , 10 , 20)"
   ]
  },
  {
   "cell_type": "code",
   "execution_count": 147,
   "id": "7ea5de1a",
   "metadata": {},
   "outputs": [
    {
     "name": "stdout",
     "output_type": "stream",
     "text": [
      "[*********************100%***********************]  1 of 1 completed\n",
      "Total returns: 0.06204017759601855\n"
     ]
    }
   ],
   "source": [
    "nifty_5_20 = backtesting_crossover('^NSEI' , start1 , end1 , 5 , 20)"
   ]
  },
  {
   "cell_type": "code",
   "execution_count": 148,
   "id": "168f0ac4",
   "metadata": {},
   "outputs": [
    {
     "name": "stdout",
     "output_type": "stream",
     "text": [
      "[*********************100%***********************]  1 of 1 completed\n",
      "Total returns: 0.3733504577911784\n"
     ]
    }
   ],
   "source": [
    "Banking_5_20 = backtesting_crossover('^NSEBANK' , start1 , end1 , 5 , 20)"
   ]
  },
  {
   "cell_type": "code",
   "execution_count": 149,
   "id": "a91088f1",
   "metadata": {},
   "outputs": [
    {
     "data": {
      "image/png": "[encoded data removed]",
      "text/plain": [
       "<Figure size 1080x432 with 2 Axes>"
      ]
     },
     "metadata": {
      "needs_background": "light"
     },
     "output_type": "display_data"
    },
    {
     "data": {
      "image/png": "[encoded data removed]",
      "text/plain": [
       "<Figure size 1080x432 with 1 Axes>"
      ]
     },
     "metadata": {
      "needs_background": "light"
     },
     "output_type": "display_data"
    },
    {
     "data": {
      "text/html": [
       "<table border=\"1\" class=\"dataframe\">\n",
       "  <thead>\n",
       "    <tr style=\"text-align: right;\"><th>Start date</th><td colspan=2>2018-07-03</td></tr>\n",
       "    <tr style=\"text-align: right;\"><th>End date</th><td colspan=2>2020-06-29</td></tr>\n",
       "    <tr style=\"text-align: right;\"><th>Total months</th><td colspan=2>22</td></tr>\n",
       "    <tr style=\"text-align: right;\">\n",
       "      <th></th>\n",
       "      <th>Backtest</th>\n",
       "    </tr>\n",
       "  </thead>\n",
       "  <tbody>\n",
       "    <tr>\n",
       "      <th>Annual return</th>\n",
       "      <td>15.4%</td>\n",
       "    </tr>\n",
       "    <tr>\n",
       "      <th>Cumulative returns</th>\n",
       "      <td>31.6%</td>\n",
       "    </tr>\n",
       "    <tr>\n",
       "      <th>Annual volatility</th>\n",
       "      <td>32.5%</td>\n",
       "    </tr>\n",
       "    <tr>\n",
       "      <th>Sharpe ratio</th>\n",
       "      <td>0.60</td>\n",
       "    </tr>\n",
       "    <tr>\n",
       "      <th>Calmar ratio</th>\n",
       "      <td>0.45</td>\n",
       "    </tr>\n",
       "    <tr>\n",
       "      <th>Stability</th>\n",
       "      <td>0.40</td>\n",
       "    </tr>\n",
       "    <tr>\n",
       "      <th>Max drawdown</th>\n",
       "      <td>-34.4%</td>\n",
       "    </tr>\n",
       "    <tr>\n",
       "      <th>Omega ratio</th>\n",
       "      <td>1.13</td>\n",
       "    </tr>\n",
       "    <tr>\n",
       "      <th>Sortino ratio</th>\n",
       "      <td>0.95</td>\n",
       "    </tr>\n",
       "    <tr>\n",
       "      <th>Skew</th>\n",
       "      <td>NaN</td>\n",
       "    </tr>\n",
       "    <tr>\n",
       "      <th>Kurtosis</th>\n",
       "      <td>NaN</td>\n",
       "    </tr>\n",
       "    <tr>\n",
       "      <th>Tail ratio</th>\n",
       "      <td>1.07</td>\n",
       "    </tr>\n",
       "    <tr>\n",
       "      <th>Daily value at risk</th>\n",
       "      <td>-4.0%</td>\n",
       "    </tr>\n",
       "  </tbody>\n",
       "</table>"
      ],
      "text/plain": [
       "<IPython.core.display.HTML object>"
      ]
     },
     "metadata": {},
     "output_type": "display_data"
    },
    {
     "data": {
      "image/png": "[encoded data removed]",
      "text/plain": [
       "<Figure size 1008x1728 with 3 Axes>"
      ]
     },
     "metadata": {},
     "output_type": "display_data"
    }
   ],
   "source": [
    "Banking_5_20.analysis()"
   ]
  },
  {
   "cell_type": "code",
   "execution_count": 151,
   "id": "d688ce6c",
   "metadata": {},
   "outputs": [],
   "source": [
    "class backtesting_EMA_crossover(backtesting_crossover):\n",
    "    \n",
    "    def indicator(self):\n",
    "        self.df['ma_short'] = self.df['Adj Close'].ewm(span = self.ma_short, adjust = False).mean()\n",
    "        self.df['ma_long']= self.df['Adj Close'].ewm(span = self.ma_long , adjust = False).mean()\n",
    "        self.df['ma_short_prev'] = self.df['ma_short'].shift()\n",
    "        self.df['ma_long_prev'] = self.df['ma_long'].shift()\n",
    "        \n",
    "        self.df.dropna(inplace = True)\n",
    "        \n",
    "    @staticmethod\n",
    "    def date_of_backtest():\n",
    "        print('Date of Backtest:', pd.datetime.now().date())\n",
    "    \n",
    "    @classmethod\n",
    "    def about_this_backtest(cls):\n",
    "        print('we are backtesting the short-long EMA crossover strategy.')\n",
    "        "
   ]
  },
  {
   "cell_type": "code",
   "execution_count": 152,
   "id": "ab281156",
   "metadata": {},
   "outputs": [
    {
     "name": "stdout",
     "output_type": "stream",
     "text": [
      "[*********************100%***********************]  1 of 1 completed\n",
      "Total returns: 1.24505762853938\n"
     ]
    }
   ],
   "source": [
    "apple_10_12ema = backtesting_EMA_crossover('AAPL' ,  start1 , end1 , 10 , 20)"
   ]
  },
  {
   "cell_type": "code",
   "execution_count": 153,
   "id": "af8b757b",
   "metadata": {},
   "outputs": [
    {
     "name": "stdout",
     "output_type": "stream",
     "text": [
      "[*********************100%***********************]  1 of 1 completed\n",
      "Total returns: 1.233786358175355\n"
     ]
    }
   ],
   "source": [
    "Apple_5_10_ema = backtesting_EMA_crossover('AAPL' , start1 , end1, 5 , 20)"
   ]
  },
  {
   "cell_type": "code",
   "execution_count": 154,
   "id": "471f2989",
   "metadata": {},
   "outputs": [
    {
     "name": "stdout",
     "output_type": "stream",
     "text": [
      "we are backtesting the short-long EMA crossover strategy.\n"
     ]
    }
   ],
   "source": [
    "apple_10_12ema.about_this_backtest()"
   ]
  },
  {
   "cell_type": "code",
   "execution_count": 155,
   "id": "4b2d348c",
   "metadata": {},
   "outputs": [
    {
     "name": "stdout",
     "output_type": "stream",
     "text": [
      "Date of Backtest: 2021-12-02\n"
     ]
    }
   ],
   "source": [
    "apple_10_12ema.date_of_backtest()"
   ]
  },
  {
   "cell_type": "markdown",
   "id": "6c40ad60",
   "metadata": {},
   "source": [
    "#### Testing Various Strategy on the same asset/ Optimization "
   ]
  },
  {
   "cell_type": "code",
   "execution_count": 156,
   "id": "cb38dfea",
   "metadata": {},
   "outputs": [
    {
     "name": "stdout",
     "output_type": "stream",
     "text": [
      "For 5 25\n",
      "[*********************100%***********************]  1 of 1 completed\n",
      "Total returns: 1.2004982613356734\n",
      "Total returns: 1.2004982613356734\n",
      "For 5 50\n",
      "[*********************100%***********************]  1 of 1 completed\n",
      "Total returns: 0.8865752960235446\n",
      "Total returns: 0.8865752960235446\n",
      "For 5 100\n",
      "[*********************100%***********************]  1 of 1 completed\n",
      "Total returns: 0.23127374737299491\n",
      "Total returns: 0.23127374737299491\n",
      "For 10 25\n",
      "[*********************100%***********************]  1 of 1 completed\n",
      "Total returns: 1.144624687131963\n",
      "Total returns: 1.144624687131963\n",
      "For 10 50\n",
      "[*********************100%***********************]  1 of 1 completed\n",
      "Total returns: 1.111546698794351\n",
      "Total returns: 1.111546698794351\n",
      "For 10 100\n",
      "[*********************100%***********************]  1 of 1 completed\n",
      "Total returns: 0.22081053217745758\n",
      "Total returns: 0.22081053217745758\n",
      "For 15 25\n",
      "[*********************100%***********************]  1 of 1 completed\n",
      "Total returns: 1.1082696685861424\n",
      "Total returns: 1.1082696685861424\n",
      "For 15 50\n",
      "[*********************100%***********************]  1 of 1 completed\n",
      "Total returns: 1.0274579033471727\n",
      "Total returns: 1.0274579033471727\n",
      "For 15 100\n",
      "[*********************100%***********************]  1 of 1 completed\n",
      "Total returns: -0.05505889192006842\n",
      "Total returns: -0.05505889192006842\n",
      "For 20 25\n",
      "[*********************100%***********************]  1 of 1 completed\n",
      "Total returns: 0.9975855189630332\n",
      "Total returns: 0.9975855189630332\n",
      "For 20 50\n",
      "[*********************100%***********************]  1 of 1 completed\n",
      "Total returns: 0.5820831797343745\n",
      "Total returns: 0.5820831797343745\n",
      "For 20 100\n",
      "[*********************100%***********************]  1 of 1 completed\n",
      "Total returns: 0.07340085422480035\n",
      "Total returns: 0.07340085422480035\n"
     ]
    }
   ],
   "source": [
    "fast_ma_list = [5, 10 , 15, 20]\n",
    "slow_ma_list = [25, 50 , 100]\n",
    "\n",
    "fast_ma =[]\n",
    "slow_ma =[]\n",
    "net_returns =[]\n",
    "\n",
    "for i in fast_ma_list:\n",
    "    for j in slow_ma_list:\n",
    "        print('For' , i , j)\n",
    "        a = backtesting_crossover('AAPL' , start1, end1, i , j)\n",
    "        fast_ma.append(i)\n",
    "        slow_ma.append(j)\n",
    "        net_returns.append(a.returns())"
   ]
  },
  {
   "cell_type": "code",
   "execution_count": 159,
   "id": "b864e476",
   "metadata": {},
   "outputs": [
    {
     "data": {
      "text/html": [
       "<div>\n",
       "<style scoped>\n",
       "    .dataframe tbody tr th:only-of-type {\n",
       "        vertical-align: middle;\n",
       "    }\n",
       "\n",
       "    .dataframe tbody tr th {\n",
       "        vertical-align: top;\n",
       "    }\n",
       "\n",
       "    .dataframe thead th {\n",
       "        text-align: right;\n",
       "    }\n",
       "</style>\n",
       "<table border=\"1\" class=\"dataframe\">\n",
       "  <thead>\n",
       "    <tr style=\"text-align: right;\">\n",
       "      <th></th>\n",
       "      <th>fast_ma</th>\n",
       "      <th>slow_ma</th>\n",
       "      <th>net_returns</th>\n",
       "    </tr>\n",
       "  </thead>\n",
       "  <tbody>\n",
       "    <tr>\n",
       "      <th>0</th>\n",
       "      <td>5</td>\n",
       "      <td>25</td>\n",
       "      <td>1.200498</td>\n",
       "    </tr>\n",
       "    <tr>\n",
       "      <th>1</th>\n",
       "      <td>5</td>\n",
       "      <td>50</td>\n",
       "      <td>0.886575</td>\n",
       "    </tr>\n",
       "    <tr>\n",
       "      <th>2</th>\n",
       "      <td>5</td>\n",
       "      <td>100</td>\n",
       "      <td>0.231274</td>\n",
       "    </tr>\n",
       "    <tr>\n",
       "      <th>3</th>\n",
       "      <td>10</td>\n",
       "      <td>25</td>\n",
       "      <td>1.144625</td>\n",
       "    </tr>\n",
       "    <tr>\n",
       "      <th>4</th>\n",
       "      <td>10</td>\n",
       "      <td>50</td>\n",
       "      <td>1.111547</td>\n",
       "    </tr>\n",
       "    <tr>\n",
       "      <th>5</th>\n",
       "      <td>10</td>\n",
       "      <td>100</td>\n",
       "      <td>0.220811</td>\n",
       "    </tr>\n",
       "    <tr>\n",
       "      <th>6</th>\n",
       "      <td>15</td>\n",
       "      <td>25</td>\n",
       "      <td>1.108270</td>\n",
       "    </tr>\n",
       "    <tr>\n",
       "      <th>7</th>\n",
       "      <td>15</td>\n",
       "      <td>50</td>\n",
       "      <td>1.027458</td>\n",
       "    </tr>\n",
       "    <tr>\n",
       "      <th>8</th>\n",
       "      <td>15</td>\n",
       "      <td>100</td>\n",
       "      <td>-0.055059</td>\n",
       "    </tr>\n",
       "    <tr>\n",
       "      <th>9</th>\n",
       "      <td>20</td>\n",
       "      <td>25</td>\n",
       "      <td>0.997586</td>\n",
       "    </tr>\n",
       "    <tr>\n",
       "      <th>10</th>\n",
       "      <td>20</td>\n",
       "      <td>50</td>\n",
       "      <td>0.582083</td>\n",
       "    </tr>\n",
       "    <tr>\n",
       "      <th>11</th>\n",
       "      <td>20</td>\n",
       "      <td>100</td>\n",
       "      <td>0.073401</td>\n",
       "    </tr>\n",
       "  </tbody>\n",
       "</table>\n",
       "</div>"
      ],
      "text/plain": [
       "    fast_ma  slow_ma  net_returns\n",
       "0         5       25     1.200498\n",
       "1         5       50     0.886575\n",
       "2         5      100     0.231274\n",
       "3        10       25     1.144625\n",
       "4        10       50     1.111547\n",
       "5        10      100     0.220811\n",
       "6        15       25     1.108270\n",
       "7        15       50     1.027458\n",
       "8        15      100    -0.055059\n",
       "9        20       25     0.997586\n",
       "10       20       50     0.582083\n",
       "11       20      100     0.073401"
      ]
     },
     "execution_count": 159,
     "metadata": {},
     "output_type": "execute_result"
    }
   ],
   "source": [
    "results = pd.DataFrame({'fast_ma':fast_ma, 'slow_ma':slow_ma , 'net_returns': net_returns})\n",
    "results"
   ]
  },
  {
   "cell_type": "code",
   "execution_count": 160,
   "id": "8d0dd6c8",
   "metadata": {},
   "outputs": [
    {
     "data": {
      "text/html": [
       "<div>\n",
       "<style scoped>\n",
       "    .dataframe tbody tr th:only-of-type {\n",
       "        vertical-align: middle;\n",
       "    }\n",
       "\n",
       "    .dataframe tbody tr th {\n",
       "        vertical-align: top;\n",
       "    }\n",
       "\n",
       "    .dataframe thead th {\n",
       "        text-align: right;\n",
       "    }\n",
       "</style>\n",
       "<table border=\"1\" class=\"dataframe\">\n",
       "  <thead>\n",
       "    <tr style=\"text-align: right;\">\n",
       "      <th></th>\n",
       "      <th>fast_ma</th>\n",
       "      <th>slow_ma</th>\n",
       "      <th>net_returns</th>\n",
       "    </tr>\n",
       "  </thead>\n",
       "  <tbody>\n",
       "    <tr>\n",
       "      <th>0</th>\n",
       "      <td>5</td>\n",
       "      <td>25</td>\n",
       "      <td>1.200498</td>\n",
       "    </tr>\n",
       "    <tr>\n",
       "      <th>3</th>\n",
       "      <td>10</td>\n",
       "      <td>25</td>\n",
       "      <td>1.144625</td>\n",
       "    </tr>\n",
       "    <tr>\n",
       "      <th>4</th>\n",
       "      <td>10</td>\n",
       "      <td>50</td>\n",
       "      <td>1.111547</td>\n",
       "    </tr>\n",
       "    <tr>\n",
       "      <th>6</th>\n",
       "      <td>15</td>\n",
       "      <td>25</td>\n",
       "      <td>1.108270</td>\n",
       "    </tr>\n",
       "    <tr>\n",
       "      <th>7</th>\n",
       "      <td>15</td>\n",
       "      <td>50</td>\n",
       "      <td>1.027458</td>\n",
       "    </tr>\n",
       "    <tr>\n",
       "      <th>9</th>\n",
       "      <td>20</td>\n",
       "      <td>25</td>\n",
       "      <td>0.997586</td>\n",
       "    </tr>\n",
       "    <tr>\n",
       "      <th>1</th>\n",
       "      <td>5</td>\n",
       "      <td>50</td>\n",
       "      <td>0.886575</td>\n",
       "    </tr>\n",
       "    <tr>\n",
       "      <th>10</th>\n",
       "      <td>20</td>\n",
       "      <td>50</td>\n",
       "      <td>0.582083</td>\n",
       "    </tr>\n",
       "    <tr>\n",
       "      <th>2</th>\n",
       "      <td>5</td>\n",
       "      <td>100</td>\n",
       "      <td>0.231274</td>\n",
       "    </tr>\n",
       "    <tr>\n",
       "      <th>5</th>\n",
       "      <td>10</td>\n",
       "      <td>100</td>\n",
       "      <td>0.220811</td>\n",
       "    </tr>\n",
       "    <tr>\n",
       "      <th>11</th>\n",
       "      <td>20</td>\n",
       "      <td>100</td>\n",
       "      <td>0.073401</td>\n",
       "    </tr>\n",
       "    <tr>\n",
       "      <th>8</th>\n",
       "      <td>15</td>\n",
       "      <td>100</td>\n",
       "      <td>-0.055059</td>\n",
       "    </tr>\n",
       "  </tbody>\n",
       "</table>\n",
       "</div>"
      ],
      "text/plain": [
       "    fast_ma  slow_ma  net_returns\n",
       "0         5       25     1.200498\n",
       "3        10       25     1.144625\n",
       "4        10       50     1.111547\n",
       "6        15       25     1.108270\n",
       "7        15       50     1.027458\n",
       "9        20       25     0.997586\n",
       "1         5       50     0.886575\n",
       "10       20       50     0.582083\n",
       "2         5      100     0.231274\n",
       "5        10      100     0.220811\n",
       "11       20      100     0.073401\n",
       "8        15      100    -0.055059"
      ]
     },
     "execution_count": 160,
     "metadata": {},
     "output_type": "execute_result"
    }
   ],
   "source": [
    "results.sort_values(by='net_returns' , ascending = False)"
   ]
  },
  {
   "cell_type": "markdown",
   "id": "a33faa4f",
   "metadata": {},
   "source": [
    "#### Testing the same strategy on various assests"
   ]
  },
  {
   "cell_type": "code",
   "execution_count": 161,
   "id": "2f13c9d6",
   "metadata": {},
   "outputs": [],
   "source": [
    "stock_list = ['BAJFINANCE.NS','BAJAJFINSV.NS',\n",
    "              'BPCL.NS',\n",
    "              'BHARTIARTL.NS','INDUSTOWER.NS','BRITANNIA.NS','CIPLA.NS','COALINDIA.NS','DRREDDY.NS','EICHERMOT.NS',\n",
    "              'GAIL.NS','GRASIM.NS']"
   ]
  },
  {
   "cell_type": "code",
   "execution_count": 162,
   "id": "3877021d",
   "metadata": {},
   "outputs": [],
   "source": [
    "stock_name =[]\n",
    "net_returns =[]\n"
   ]
  },
  {
   "cell_type": "code",
   "execution_count": 163,
   "id": "243eebaa",
   "metadata": {},
   "outputs": [
    {
     "name": "stdout",
     "output_type": "stream",
     "text": [
      "Backtestting result for BAJFINANCE.NS\n",
      "[*********************100%***********************]  1 of 1 completed\n",
      "Total returns: 0.943935816769884\n",
      "Total returns: 0.943935816769884\n",
      "Backtestting result for BAJAJFINSV.NS\n",
      "[*********************100%***********************]  1 of 1 completed\n",
      "Total returns: 0.9086359134512547\n",
      "Total returns: 0.9086359134512547\n",
      "Backtestting result for BPCL.NS\n",
      "[*********************100%***********************]  1 of 1 completed\n",
      "Total returns: -0.07333089151301193\n",
      "Total returns: -0.07333089151301193\n",
      "Backtestting result for BHARTIARTL.NS\n",
      "[*********************100%***********************]  1 of 1 completed\n",
      "Total returns: -0.2412072432928608\n",
      "Total returns: -0.2412072432928608\n",
      "Backtestting result for INDUSTOWER.NS\n",
      "[*********************100%***********************]  1 of 1 completed\n",
      "Total returns: -0.11359720348403396\n",
      "Total returns: -0.11359720348403396\n",
      "Backtestting result for BRITANNIA.NS\n",
      "[*********************100%***********************]  1 of 1 completed\n",
      "Total returns: 0.5503957634267191\n",
      "Total returns: 0.5503957634267191\n",
      "Backtestting result for CIPLA.NS\n",
      "[*********************100%***********************]  1 of 1 completed\n",
      "Total returns: 0.35089195525237493\n",
      "Total returns: 0.35089195525237493\n",
      "Backtestting result for COALINDIA.NS\n",
      "[*********************100%***********************]  1 of 1 completed\n",
      "Total returns: -0.2526581404194437\n",
      "Total returns: -0.2526581404194437\n",
      "Backtestting result for DRREDDY.NS\n",
      "[*********************100%***********************]  1 of 1 completed\n",
      "Total returns: -0.4404998523633529\n",
      "Total returns: -0.4404998523633529\n",
      "Backtestting result for EICHERMOT.NS\n",
      "[*********************100%***********************]  1 of 1 completed\n",
      "Total returns: 0.19696923867510815\n",
      "Total returns: 0.19696923867510815\n",
      "Backtestting result for GAIL.NS\n",
      "[*********************100%***********************]  1 of 1 completed\n",
      "Total returns: -0.8084404036034589\n",
      "Total returns: -0.8084404036034589\n",
      "Backtestting result for GRASIM.NS\n",
      "[*********************100%***********************]  1 of 1 completed\n",
      "Total returns: 0.15886032390406435\n",
      "Total returns: 0.15886032390406435\n"
     ]
    }
   ],
   "source": [
    "for stock in stock_list:\n",
    "    print('Backtestting result for' , stock)\n",
    "    a = backtesting_crossover(stock, start1 , end1,5 , 25 )\n",
    "    stock_name.append(stock)\n",
    "    net_returns.append(a.returns())"
   ]
  },
  {
   "cell_type": "code",
   "execution_count": 164,
   "id": "17e0ff58",
   "metadata": {},
   "outputs": [
    {
     "data": {
      "text/html": [
       "<div>\n",
       "<style scoped>\n",
       "    .dataframe tbody tr th:only-of-type {\n",
       "        vertical-align: middle;\n",
       "    }\n",
       "\n",
       "    .dataframe tbody tr th {\n",
       "        vertical-align: top;\n",
       "    }\n",
       "\n",
       "    .dataframe thead th {\n",
       "        text-align: right;\n",
       "    }\n",
       "</style>\n",
       "<table border=\"1\" class=\"dataframe\">\n",
       "  <thead>\n",
       "    <tr style=\"text-align: right;\">\n",
       "      <th></th>\n",
       "      <th>Stock</th>\n",
       "      <th>net_returns</th>\n",
       "    </tr>\n",
       "  </thead>\n",
       "  <tbody>\n",
       "    <tr>\n",
       "      <th>0</th>\n",
       "      <td>BAJFINANCE.NS</td>\n",
       "      <td>0.943936</td>\n",
       "    </tr>\n",
       "    <tr>\n",
       "      <th>1</th>\n",
       "      <td>BAJAJFINSV.NS</td>\n",
       "      <td>0.908636</td>\n",
       "    </tr>\n",
       "    <tr>\n",
       "      <th>2</th>\n",
       "      <td>BPCL.NS</td>\n",
       "      <td>-0.073331</td>\n",
       "    </tr>\n",
       "    <tr>\n",
       "      <th>3</th>\n",
       "      <td>BHARTIARTL.NS</td>\n",
       "      <td>-0.241207</td>\n",
       "    </tr>\n",
       "    <tr>\n",
       "      <th>4</th>\n",
       "      <td>INDUSTOWER.NS</td>\n",
       "      <td>-0.113597</td>\n",
       "    </tr>\n",
       "    <tr>\n",
       "      <th>5</th>\n",
       "      <td>BRITANNIA.NS</td>\n",
       "      <td>0.550396</td>\n",
       "    </tr>\n",
       "    <tr>\n",
       "      <th>6</th>\n",
       "      <td>CIPLA.NS</td>\n",
       "      <td>0.350892</td>\n",
       "    </tr>\n",
       "    <tr>\n",
       "      <th>7</th>\n",
       "      <td>COALINDIA.NS</td>\n",
       "      <td>-0.252658</td>\n",
       "    </tr>\n",
       "    <tr>\n",
       "      <th>8</th>\n",
       "      <td>DRREDDY.NS</td>\n",
       "      <td>-0.440500</td>\n",
       "    </tr>\n",
       "    <tr>\n",
       "      <th>9</th>\n",
       "      <td>EICHERMOT.NS</td>\n",
       "      <td>0.196969</td>\n",
       "    </tr>\n",
       "    <tr>\n",
       "      <th>10</th>\n",
       "      <td>GAIL.NS</td>\n",
       "      <td>-0.808440</td>\n",
       "    </tr>\n",
       "    <tr>\n",
       "      <th>11</th>\n",
       "      <td>GRASIM.NS</td>\n",
       "      <td>0.158860</td>\n",
       "    </tr>\n",
       "  </tbody>\n",
       "</table>\n",
       "</div>"
      ],
      "text/plain": [
       "            Stock  net_returns\n",
       "0   BAJFINANCE.NS     0.943936\n",
       "1   BAJAJFINSV.NS     0.908636\n",
       "2         BPCL.NS    -0.073331\n",
       "3   BHARTIARTL.NS    -0.241207\n",
       "4   INDUSTOWER.NS    -0.113597\n",
       "5    BRITANNIA.NS     0.550396\n",
       "6        CIPLA.NS     0.350892\n",
       "7    COALINDIA.NS    -0.252658\n",
       "8      DRREDDY.NS    -0.440500\n",
       "9    EICHERMOT.NS     0.196969\n",
       "10        GAIL.NS    -0.808440\n",
       "11      GRASIM.NS     0.158860"
      ]
     },
     "execution_count": 164,
     "metadata": {},
     "output_type": "execute_result"
    }
   ],
   "source": [
    "results = pd.DataFrame({'Stock':stock_name , 'net_returns':net_returns})\n",
    "results"
   ]
  },
  {
   "cell_type": "code",
   "execution_count": 165,
   "id": "3a24d854",
   "metadata": {},
   "outputs": [
    {
     "data": {
      "text/html": [
       "<div>\n",
       "<style scoped>\n",
       "    .dataframe tbody tr th:only-of-type {\n",
       "        vertical-align: middle;\n",
       "    }\n",
       "\n",
       "    .dataframe tbody tr th {\n",
       "        vertical-align: top;\n",
       "    }\n",
       "\n",
       "    .dataframe thead th {\n",
       "        text-align: right;\n",
       "    }\n",
       "</style>\n",
       "<table border=\"1\" class=\"dataframe\">\n",
       "  <thead>\n",
       "    <tr style=\"text-align: right;\">\n",
       "      <th></th>\n",
       "      <th>Stock</th>\n",
       "      <th>net_returns</th>\n",
       "    </tr>\n",
       "  </thead>\n",
       "  <tbody>\n",
       "    <tr>\n",
       "      <th>0</th>\n",
       "      <td>BAJFINANCE.NS</td>\n",
       "      <td>0.943936</td>\n",
       "    </tr>\n",
       "    <tr>\n",
       "      <th>1</th>\n",
       "      <td>BAJAJFINSV.NS</td>\n",
       "      <td>0.908636</td>\n",
       "    </tr>\n",
       "    <tr>\n",
       "      <th>5</th>\n",
       "      <td>BRITANNIA.NS</td>\n",
       "      <td>0.550396</td>\n",
       "    </tr>\n",
       "    <tr>\n",
       "      <th>6</th>\n",
       "      <td>CIPLA.NS</td>\n",
       "      <td>0.350892</td>\n",
       "    </tr>\n",
       "    <tr>\n",
       "      <th>9</th>\n",
       "      <td>EICHERMOT.NS</td>\n",
       "      <td>0.196969</td>\n",
       "    </tr>\n",
       "    <tr>\n",
       "      <th>11</th>\n",
       "      <td>GRASIM.NS</td>\n",
       "      <td>0.158860</td>\n",
       "    </tr>\n",
       "    <tr>\n",
       "      <th>2</th>\n",
       "      <td>BPCL.NS</td>\n",
       "      <td>-0.073331</td>\n",
       "    </tr>\n",
       "    <tr>\n",
       "      <th>4</th>\n",
       "      <td>INDUSTOWER.NS</td>\n",
       "      <td>-0.113597</td>\n",
       "    </tr>\n",
       "    <tr>\n",
       "      <th>3</th>\n",
       "      <td>BHARTIARTL.NS</td>\n",
       "      <td>-0.241207</td>\n",
       "    </tr>\n",
       "    <tr>\n",
       "      <th>7</th>\n",
       "      <td>COALINDIA.NS</td>\n",
       "      <td>-0.252658</td>\n",
       "    </tr>\n",
       "    <tr>\n",
       "      <th>8</th>\n",
       "      <td>DRREDDY.NS</td>\n",
       "      <td>-0.440500</td>\n",
       "    </tr>\n",
       "    <tr>\n",
       "      <th>10</th>\n",
       "      <td>GAIL.NS</td>\n",
       "      <td>-0.808440</td>\n",
       "    </tr>\n",
       "  </tbody>\n",
       "</table>\n",
       "</div>"
      ],
      "text/plain": [
       "            Stock  net_returns\n",
       "0   BAJFINANCE.NS     0.943936\n",
       "1   BAJAJFINSV.NS     0.908636\n",
       "5    BRITANNIA.NS     0.550396\n",
       "6        CIPLA.NS     0.350892\n",
       "9    EICHERMOT.NS     0.196969\n",
       "11      GRASIM.NS     0.158860\n",
       "2         BPCL.NS    -0.073331\n",
       "4   INDUSTOWER.NS    -0.113597\n",
       "3   BHARTIARTL.NS    -0.241207\n",
       "7    COALINDIA.NS    -0.252658\n",
       "8      DRREDDY.NS    -0.440500\n",
       "10        GAIL.NS    -0.808440"
      ]
     },
     "execution_count": 165,
     "metadata": {},
     "output_type": "execute_result"
    }
   ],
   "source": [
    "results.sort_values(by='net_returns' , ascending = False)"
   ]
  },
  {
   "cell_type": "code",
   "execution_count": 166,
   "id": "e57598ca",
   "metadata": {},
   "outputs": [
    {
     "data": {
      "text/html": [
       "<div>\n",
       "<style scoped>\n",
       "    .dataframe tbody tr th:only-of-type {\n",
       "        vertical-align: middle;\n",
       "    }\n",
       "\n",
       "    .dataframe tbody tr th {\n",
       "        vertical-align: top;\n",
       "    }\n",
       "\n",
       "    .dataframe thead th {\n",
       "        text-align: right;\n",
       "    }\n",
       "</style>\n",
       "<table border=\"1\" class=\"dataframe\">\n",
       "  <thead>\n",
       "    <tr style=\"text-align: right;\">\n",
       "      <th></th>\n",
       "      <th>Open</th>\n",
       "      <th>High</th>\n",
       "      <th>Low</th>\n",
       "      <th>Close</th>\n",
       "      <th>Adj Close</th>\n",
       "      <th>Volume</th>\n",
       "    </tr>\n",
       "  </thead>\n",
       "  <tbody>\n",
       "    <tr>\n",
       "      <th>Open</th>\n",
       "      <td>1.000000</td>\n",
       "      <td>0.999430</td>\n",
       "      <td>0.999268</td>\n",
       "      <td>0.998720</td>\n",
       "      <td>0.998720</td>\n",
       "      <td>-0.601309</td>\n",
       "    </tr>\n",
       "    <tr>\n",
       "      <th>High</th>\n",
       "      <td>0.999430</td>\n",
       "      <td>1.000000</td>\n",
       "      <td>0.998914</td>\n",
       "      <td>0.999395</td>\n",
       "      <td>0.999395</td>\n",
       "      <td>-0.596694</td>\n",
       "    </tr>\n",
       "    <tr>\n",
       "      <th>Low</th>\n",
       "      <td>0.999268</td>\n",
       "      <td>0.998914</td>\n",
       "      <td>1.000000</td>\n",
       "      <td>0.999315</td>\n",
       "      <td>0.999315</td>\n",
       "      <td>-0.610441</td>\n",
       "    </tr>\n",
       "    <tr>\n",
       "      <th>Close</th>\n",
       "      <td>0.998720</td>\n",
       "      <td>0.999395</td>\n",
       "      <td>0.999315</td>\n",
       "      <td>1.000000</td>\n",
       "      <td>1.000000</td>\n",
       "      <td>-0.603361</td>\n",
       "    </tr>\n",
       "    <tr>\n",
       "      <th>Adj Close</th>\n",
       "      <td>0.998720</td>\n",
       "      <td>0.999395</td>\n",
       "      <td>0.999315</td>\n",
       "      <td>1.000000</td>\n",
       "      <td>1.000000</td>\n",
       "      <td>-0.603361</td>\n",
       "    </tr>\n",
       "    <tr>\n",
       "      <th>Volume</th>\n",
       "      <td>-0.601309</td>\n",
       "      <td>-0.596694</td>\n",
       "      <td>-0.610441</td>\n",
       "      <td>-0.603361</td>\n",
       "      <td>-0.603361</td>\n",
       "      <td>1.000000</td>\n",
       "    </tr>\n",
       "  </tbody>\n",
       "</table>\n",
       "</div>"
      ],
      "text/plain": [
       "               Open      High       Low     Close  Adj Close    Volume\n",
       "Open       1.000000  0.999430  0.999268  0.998720   0.998720 -0.601309\n",
       "High       0.999430  1.000000  0.998914  0.999395   0.999395 -0.596694\n",
       "Low        0.999268  0.998914  1.000000  0.999315   0.999315 -0.610441\n",
       "Close      0.998720  0.999395  0.999315  1.000000   1.000000 -0.603361\n",
       "Adj Close  0.998720  0.999395  0.999315  1.000000   1.000000 -0.603361\n",
       "Volume    -0.601309 -0.596694 -0.610441 -0.603361  -0.603361  1.000000"
      ]
     },
     "execution_count": 166,
     "metadata": {},
     "output_type": "execute_result"
    }
   ],
   "source": [
    "df.corr()"
   ]
  },
  {
   "cell_type": "code",
   "execution_count": null,
   "id": "ec541f5b",
   "metadata": {},
   "outputs": [],
   "source": []
  }
 ],
 "metadata": {
  "kernelspec": {
   "display_name": "Python 3 (ipykernel)",
   "language": "python",
   "name": "python3"
  },
  "language_info": {
   "codemirror_mode": {
    "name": "ipython",
    "version": 3
   },
   "file_extension": ".py",
   "mimetype": "text/x-python",
   "name": "python",
   "nbconvert_exporter": "python",
   "pygments_lexer": "ipython3",
   "version": "3.9.0rc2"
  }
 },
 "nbformat": 4,
 "nbformat_minor": 5
}
