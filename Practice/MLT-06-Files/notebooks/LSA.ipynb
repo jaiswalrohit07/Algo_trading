{
 "cells": [
  {
   "cell_type": "markdown",
   "metadata": {
    "ein.tags": "worksheet-0",
    "slideshow": {
     "slide_type": "-"
    }
   },
   "source": [
    "<img src=\"./images/qinsti.png\" align=\"left\" alt=\"drawing\" width=\"100\"/>\n",
    "<br><br>\n",
    "<div align=\"left\">\n",
    "    <h2>Topic Modeling - Primer</h2>\n",
    "    <h3>Latent Semantic Analysis on Financial news items</h3>\n",
    "</div>\n",
    "\n"
   ]
  },
  {
   "cell_type": "markdown",
   "metadata": {
    "ein.tags": "worksheet-0",
    "slideshow": {
     "slide_type": "-"
    }
   },
   "source": [
    "## Context"
   ]
  },
  {
   "cell_type": "markdown",
   "metadata": {
    "ein.tags": "worksheet-0",
    "slideshow": {
     "slide_type": "-"
    }
   },
   "source": [
    "The purpose of this notebook is to demonstrate a simple example of topic modeling on a set of news items. The sample news items are from\n",
    "Refinitiv's *Machine Readable news* content offering. \n",
    "\n",
    "The following are the main steps of building a topic model\n",
    "* Load the news items\n",
    "* Preprocess the text\n",
    "  * Load Spacy \n",
    "  * Remove stopwords\n",
    "  * Lemmatization\n",
    "  * Tokenize\n",
    "* Create a Document Term Matrix\n",
    "* Use `sklearn` to perform LSA"
   ]
  },
  {
   "cell_type": "markdown",
   "metadata": {
    "ein.tags": "worksheet-0",
    "slideshow": {
     "slide_type": "-"
    }
   },
   "source": [
    "## Load Spacy Language Model"
   ]
  },
  {
   "cell_type": "markdown",
   "metadata": {
    "ein.tags": "worksheet-0",
    "slideshow": {
     "slide_type": "-"
    }
   },
   "source": [
    "`Spacy` library in Python has a lot of useful modules for NLP tasks. It has many preprocessing modules and operates with many of the popular deep learning \n",
    "frameworks"
   ]
  },
  {
   "cell_type": "code",
   "execution_count": 1,
   "metadata": {
    "autoscroll": false,
    "ein.hycell": false,
    "ein.tags": "worksheet-0",
    "slideshow": {
     "slide_type": "-"
    }
   },
   "outputs": [],
   "source": [
    "import spacy\n",
    "import pandas as pd\n",
    "import numpy as np\n",
    "nlp = spacy.load('en_core_web_lg')\n"
   ]
  },
  {
   "cell_type": "markdown",
   "metadata": {
    "ein.tags": "worksheet-0",
    "slideshow": {
     "slide_type": "-"
    }
   },
   "source": [
    "## Load News Data"
   ]
  },
  {
   "cell_type": "markdown",
   "metadata": {
    "ein.tags": "worksheet-0",
    "slideshow": {
     "slide_type": "-"
    }
   },
   "source": [
    "The dataset comprises sample news item from the financial domain. These news items are related to *commodity arbitrage* and *loans* related items "
   ]
  },
  {
   "cell_type": "code",
   "execution_count": 2,
   "metadata": {
    "autoscroll": false,
    "ein.hycell": false,
    "ein.tags": "worksheet-0",
    "slideshow": {
     "slide_type": "-"
    }
   },
   "outputs": [
    {
     "data": {
      "text/plain": [
       "N2:COMARB    1484\n",
       "N2:LOA       1368\n",
       "Name: topic, dtype: int64"
      ]
     },
     "execution_count": 2,
     "metadata": {},
     "output_type": "execute_result"
    }
   ],
   "source": [
    "news_items = pd.read_csv(\"./data/news-body-samples-v1.csv\",sep=\"\\t\")\n",
    "news_items.topic.value_counts()\n",
    "cond       = news_items.apply(lambda x: 300<=len(x['body']) <=6000, axis=1)\n",
    "news_items = news_items.assign(l_status = cond)\n",
    "news_items = news_items[news_items.l_status==True]\n",
    "news_items.topic.value_counts()"
   ]
  },
  {
   "cell_type": "markdown",
   "metadata": {
    "ein.tags": "worksheet-0",
    "slideshow": {
     "slide_type": "-"
    }
   },
   "source": [
    "## Define custom tokenizer "
   ]
  },
  {
   "cell_type": "markdown",
   "metadata": {
    "ein.tags": "worksheet-0",
    "slideshow": {
     "slide_type": "-"
    }
   },
   "source": [
    "For using any specific tokenizer with `sklearn`, one can define tokenizer based on any library of your choice"
   ]
  },
  {
   "cell_type": "code",
   "execution_count": 3,
   "metadata": {
    "autoscroll": false,
    "ein.hycell": false,
    "ein.tags": "worksheet-0",
    "slideshow": {
     "slide_type": "-"
    }
   },
   "outputs": [],
   "source": [
    "def my_tokenizer(text):\n",
    "   tokens = [t for t in nlp(text) if t.is_alpha and not(t.is_space or t.is_punct or t.is_stop or t.like_num)]\n",
    "   return [t.lemma_.lower().strip() if t.lemma_ != \"-PRON-\" else t.lower_  for t in tokens ]\n"
   ]
  },
  {
   "cell_type": "markdown",
   "metadata": {
    "ein.tags": "worksheet-0",
    "slideshow": {
     "slide_type": "-"
    }
   },
   "source": [
    "## Create Document Term Matrix"
   ]
  },
  {
   "cell_type": "markdown",
   "metadata": {
    "ein.tags": "worksheet-0",
    "slideshow": {
     "slide_type": "-"
    }
   },
   "source": [
    "One can use `sklearn.feature_extraction` module to create a Document Term Matrix. \n",
    "The input to the relevant function is the customized tokenizer function "
   ]
  },
  {
   "cell_type": "code",
   "execution_count": 4,
   "metadata": {},
   "outputs": [
    {
     "data": {
      "text/plain": [
       "(2852, 3)"
      ]
     },
     "execution_count": 4,
     "metadata": {},
     "output_type": "execute_result"
    }
   ],
   "source": [
    "news_items.shape"
   ]
  },
  {
   "cell_type": "code",
   "execution_count": 5,
   "metadata": {
    "autoscroll": false,
    "ein.hycell": false,
    "ein.tags": "worksheet-0",
    "slideshow": {
     "slide_type": "-"
    }
   },
   "outputs": [],
   "source": [
    "from sklearn.feature_extraction.text import TfidfVectorizer\n",
    "tfidf_vectorizer= TfidfVectorizer(tokenizer = my_tokenizer, \n",
    "                                  ngram_range=(1,1),\n",
    "                               min_df=0.2,\n",
    "                               max_df=0.9,\n",
    "                               max_features=1000)\n",
    "\n",
    "\n",
    "X = tfidf_vectorizer.fit_transform(news_items.iloc[:,0].values)"
   ]
  },
  {
   "cell_type": "markdown",
   "metadata": {
    "ein.tags": "worksheet-0",
    "slideshow": {
     "slide_type": "-"
    }
   },
   "source": [
    "## Use `sklearn.decomposition` module to fit LSA "
   ]
  },
  {
   "cell_type": "markdown",
   "metadata": {
    "ein.tags": "worksheet-0",
    "slideshow": {
     "slide_type": "-"
    }
   },
   "source": [
    "DocumentTerm Matrix can then be used as input for building an unsupervised LSA model"
   ]
  },
  {
   "cell_type": "code",
   "execution_count": 6,
   "metadata": {
    "autoscroll": false,
    "ein.hycell": false,
    "ein.tags": "worksheet-0",
    "slideshow": {
     "slide_type": "-"
    }
   },
   "outputs": [],
   "source": [
    "from sklearn.decomposition import TruncatedSVD\n",
    "lsa = TruncatedSVD(n_components=5 , random_state = 123,\n",
    "                                algorithm='arpack')\n",
    "\n",
    "X_topics = lsa.fit_transform(X)"
   ]
  },
  {
   "cell_type": "code",
   "execution_count": 7,
   "metadata": {},
   "outputs": [
    {
     "name": "stdout",
     "output_type": "stream",
     "text": [
      "(2852, 97)\n",
      "(2852, 5)\n",
      "(5, 97)\n"
     ]
    }
   ],
   "source": [
    "print(X.shape)\n",
    "print(X_topics.shape)\n",
    "print(lsa.components_.shape)\n"
   ]
  },
  {
   "cell_type": "markdown",
   "metadata": {
    "ein.tags": "worksheet-0",
    "slideshow": {
     "slide_type": "-"
    }
   },
   "source": [
    "## Explore top 30 words from the topics"
   ]
  },
  {
   "cell_type": "code",
   "execution_count": 8,
   "metadata": {},
   "outputs": [
    {
     "name": "stdout",
     "output_type": "stream",
     "text": [
      "['accord', 'april', 'ara', 'asia', 'bank', 'barge', 'barrel', 'benchmark', 'bid', 'bp', 'brent', 'cargo', 'cent', 'click', 'close', 'company', 'compare', 'contract', 'crack', 'crude', 'datum', 'day', 'demand', 'diesel', 'diff', 'discount', 'double', 'early', 'east', 'editing', 'energy', 'euro', 'europe', 'european', 'expect', 'export', 'fall', 'fob', 'friday', 'fuel', 'future', 'gasoil', 'gmt', 'guide', 'high', 'include', 'international', 'keyword', 'late', 'loan', 'london', 'low', 'march', 'margin', 'market', 'messaging', 'mogas', 'monday', 'month', 'new', 'northwest', 'o', 'offer', 'oil', 'percent', 'premium', 'previous', 'price', 'rate', 'refinery', 'refining', 'report', 'reuter', 'reuters', 'rise', 'say', 'sell', 'shell', 'show', 'source', 'speed', 'stock', 'sulphur', 'supply', 'swap', 'thursday', 'tonne', 'total', 'trade', 'trader', 'tuesday', 'vitol', 'wednesday', 'week', 'west', 'window', 'year']\n"
     ]
    }
   ],
   "source": [
    "print(tfidf_vectorizer.get_feature_names())"
   ]
  },
  {
   "cell_type": "code",
   "execution_count": 9,
   "metadata": {
    "autoscroll": false,
    "ein.hycell": false,
    "ein.tags": "worksheet-0",
    "slideshow": {
     "slide_type": "-"
    }
   },
   "outputs": [
    {
     "name": "stdout",
     "output_type": "stream",
     "text": [
      "0\n",
      "week refinery margin year crack price sell sulphur future loan europe reuters crude euro fob click percent diff cargo fuel gasoil bank say barge barrel oil diesel ara trade\n",
      "1\n",
      "accord early expect wednesday month total source friday monday include price tuesday london thursday offer bp market new asia international percent company april march year rate reuter say loan\n",
      "2\n",
      "market company fuel messaging east o bid week price swap late editing close month report window west cent offer barrel cargo asia say source crack new reuters brent oil\n",
      "3\n",
      "trade early thursday compare fuel rise east click bp fall ara sulphur high diff close euro discount expect gasoil diesel week month international asia percent price market offer bank\n",
      "4\n",
      "late trader low company close supply euro market cargo o march price include say contract source east brent double west discount click asia crack sulphur diff diesel oil fuel\n"
     ]
    }
   ],
   "source": [
    "n_top_words=30\n",
    "\n",
    "feature_names = tfidf_vectorizer.get_feature_names()\n",
    "for topic_idx, topic in enumerate(lsa.components_):\n",
    "    print(topic_idx)\n",
    "    print(\" \".join([ feature_names[i] for i in topic.argsort()[-n_top_words:-1]] ))\n"
   ]
  },
  {
   "cell_type": "markdown",
   "metadata": {
    "ein.tags": "worksheet-0",
    "slideshow": {
     "slide_type": "-"
    }
   },
   "source": [
    "## Explore sample news items from a *topic 2*"
   ]
  },
  {
   "cell_type": "markdown",
   "metadata": {
    "ein.tags": "worksheet-0",
    "slideshow": {
     "slide_type": "-"
    }
   },
   "source": [
    "Topic 2 has many terms that are related to loans. The following retrieves a few news items belonging to this topic:"
   ]
  },
  {
   "cell_type": "code",
   "execution_count": 10,
   "metadata": {
    "autoscroll": false,
    "ein.hycell": false,
    "ein.tags": "worksheet-0",
    "slideshow": {
     "slide_type": "-"
    }
   },
   "outputs": [
    {
     "name": "stdout",
     "output_type": "stream",
     "text": [
      "    TOKYO, March 26 (Reuter) - Bank of Yokohama Ltd <8332.T>\r\n",
      "will dispose of about 270 billion yen in problem loans in the\r\n",
      "business year ending on March 31, the bank said in a statement\r\n",
      "on Tuesday.\r\n",
      "    Bank of Yokohama officials told a news conference that all\r\n",
      "the bank's problem loans to the ailing mortgage firms will be\r\n",
      "disposed of by the end of this business year.\r\n",
      "    The officials also said the bank plans to forgive all the\r\n",
      "problem loans to the mortgage firms and receive tax breaks for\r\n",
      "writing off the bad loans.\r\n",
      "    As part of its plan to streamline its business, Bank of\r\n",
      "Yokohama said in a statement it will ask its directors to\r\n",
      "return bonuses given to them this fiscal year and added that it\r\n",
      "will also cut their salaries.\n",
      "****************************************************************************************************\n",
      "    QUITO, March 20 (Reuter) - Ecuador's Central Bank will\r\n",
      "grant Banco Continental a $160 million subordinated loan,\r\n",
      "taking temporary control of the troubled financial\r\n",
      "institution, a high ranking government official said.\r\n",
      "    The one-year loan will allow Banco Continental, one of\r\n",
      "Ecuador's largest banks, survive its liquidity crisis, the\r\n",
      "official who asked for anonymity said.\r\n",
      "    The Central bank will acquire the voting rights of all of\r\n",
      "the bank's shares and some of the its subsidiary companies'\r\n",
      "shares, such as Banco Continental de Curazao. The shares will\r\n",
      "be deposited in a trust fund.\n",
      "****************************************************************************************************\n"
     ]
    }
   ],
   "source": [
    "sample_topic=X_topics[:,1].argsort()[::-1]\n",
    "\n",
    "for iter_idx,movie_idx in enumerate(sample_topic[:2]):\n",
    "    print(news_items.iloc[movie_idx,0])\n",
    "    print(\"*\"*100)\n"
   ]
  },
  {
   "cell_type": "markdown",
   "metadata": {
    "ein.tags": "worksheet-0",
    "slideshow": {
     "slide_type": "-"
    }
   },
   "source": [
    "## Explore sample news items from _topic 5_"
   ]
  },
  {
   "cell_type": "markdown",
   "metadata": {
    "ein.tags": "worksheet-0",
    "slideshow": {
     "slide_type": "-"
    }
   },
   "source": [
    "Topic 5 has many terms that are related to commodities arb. The following retrieves a few news items belonging to this topic:"
   ]
  },
  {
   "cell_type": "code",
   "execution_count": 11,
   "metadata": {
    "autoscroll": false,
    "ein.hycell": false,
    "ein.tags": "worksheet-0",
    "slideshow": {
     "slide_type": "-"
    }
   },
   "outputs": [
    {
     "name": "stdout",
     "output_type": "stream",
     "text": [
      "    SINGAPORE, April 10 (Reuters) - Asian jet fuel margins are expected to firm in the coming\r\n",
      "week as supply of the fuel has tightened, with refiners maximising gasoil production due to a\r\n",
      "negative regrade, traders said.\r\n",
      "    \r\n",
      "    - JET FUEL: With jet fuel prices weaker than gasoil, refiners are inclined to maximise\r\n",
      "production of the latter, traders said. This could boost jet fuel prices again and boost margins\r\n",
      "further, they added. \r\n",
      "    - INDIA GASOIL EXPORTS: India's Numaligarh Refinery has signed a pact with Bangladesh\r\n",
      "Petroleum Corp for the sale and purchase of gasoil, according to an Indian government\r\n",
      "presentation. [nD8N1FU00N]\r\n",
      "    - INDIA MAINTENANCE: India's Mangalore Refinery and Petrochemicals Ltd has likely started\r\n",
      "its planned maintenance at a crude distillation unit, industry sources said. [REF/A]\r\n",
      "    - INDIA FUEL DEMAND: India's diesel sales in March were up 0.3 percent year-on-year, data\r\n",
      "from the Petroleum Planning and Analysis Cell (PPAC) of the oil ministry showed. [nENNH450SE]\r\n",
      "    - It also rose more than 10 percent from February, suggesting the dip in demand earlier this\r\n",
      "year was temporary. [nL3N1HI2UA]\r\n",
      "    - EMARAT JET FUEL: Emirates General Petroleum Corp (Emarat) is seeking 60,000 tonnes of jet\r\n",
      "fuel for delivery on May 13-14. The tender closes on April 17 and is valid until April 19. \r\n",
      "    - NIGERIA SULPHUR SPEC: Nigeria will raise quality standards on its imported gasoline,\r\n",
      "diesel and kerosene from July 1, a change health campaigners have long said is necessary to\r\n",
      "protect citizens from toxic fuel. \r\n",
      "    - All imported diesel from July 1 can contain a maximum of 50 ppm sulphur, while gasoline\r\n",
      "and kerosene can contain a maximum of 150 ppm, according to an environment ministry official and\r\n",
      "information from the Standards Organization of Nigeria, the body responsible for setting\r\n",
      "requirements for imported goods. [nL8N1HF2NU]    \r\n",
      "    \r\n",
      "    - SINGAPORE CASH DEALS: One gasoil and one jet fuel deal. \r\n",
      "    - Please refer to <O/AS>     \r\n",
      " MID-DISTILLATES                                                                                \r\n",
      " CASH ($/T)                       ASIA CLOSE      Change  % Change   Prev     RIC\r\n",
      "                                                                     Close    \r\n",
      " Spot Gas Oil 0.5%                         65.01    1.21       1.90    63.80  <GO-SIN>\r\n",
      " GO 0.5 Diff                               -0.65    0.00       0.00    -0.65  <GO-SIN-DIF>\r\n",
      " Spot Gas Oil 0.25%                        65.21    1.21       1.89    64.00  <GO25-SIN>\r\n",
      " GO 0.25 Diff                              -0.45    0.00       0.00    -0.45  <GO25-SIN-DIF>\r\n",
      " Spot Gas Oil 0.05%                        65.71    1.21       1.88    64.50  <GO005-SIN>\r\n",
      " GO 0.05 Diff                               0.05    0.00       0.00     0.05  <GO005-SIN-DIF>\r\n",
      " Spot Gas Oil 0.001%                       66.11    1.26       1.94    64.85  <GO10-SIN>\r\n",
      " GO 0.001 Diff                              0.45    0.05      12.50     0.40  <GO10-SIN-DIF>\r\n",
      " Spot Jet/Kero                             65.35    1.32       2.06    64.03  <JET-SIN>\r\n",
      " Jet/Kero Diff                             -0.18   -0.03      20.00    -0.15  <JET-SIN-DIF>\r\n",
      "                                                                                                \r\n",
      " For a list of derivatives prices, including margins, please double click                       \r\n",
      " the RICs below.                                                              \r\n",
      " Brent M1                         <BRENTSGMc1>                                                  \r\n",
      " Gasoil M1                        <GOSGSWMc1>                                                   \r\n",
      " Gasoil M1/M2                     <GOSGSPDMc1>                                                  \r\n",
      " Gasoil M2                        <GOSGSWMc2>                                                   \r\n",
      " Regrade M1                       <JETREGSGMc1>                                                 \r\n",
      " Regrade M2                       <JETREGSGMc2>                                                 \r\n",
      " Jet M1                           <JETSGSWMc1>                                                  \r\n",
      " Jet M1/M2                        <JETSGSPDMc1>                                                 \r\n",
      " Jet M2                           <JETSGSWMc2>                                                  \r\n",
      " Gasoil 500ppm-Dubai Cracks M1    <GOSGCKMc1>                                                   \r\n",
      " Gasoil 500ppm-Dubai Cracks M2    <GOSGCKMc2>                                                   \r\n",
      " Jet Cracks M1                    <JETSGCKMc1>                                                  \r\n",
      " Jet Cracks M2                    <JETSGCKMc2>                                                  \r\n",
      " East-West M1                     <LGOAEFSMc1>                                                  \r\n",
      " East-West M2                     <LGOAEFSMc2>                                                  \r\n",
      " LGO M1                           <LGOAMc1>                                                     \r\n",
      " LGO M1/M2                        <LGOASPDMc1>                                                  \r\n",
      " LGO M2                           <LGOAMc2>                                                     \r\n",
      " Crack LGO-Brent M1               <LGOACKMc1>                                                   \r\n",
      " Crack LGO-Brent M2               <LGOACKMc2>                                                   \r\n",
      " \r\n",
      " (Reporting by Jessica Jaganathan; Editing by Biju Dwarakanath)\r\n",
      " ((Jessica.Jaganathan@thomsonreuters.com; +65 6870 3822; Reuters Messaging:\r\n",
      "jessica.jaganathan.thomsonreuters.com@reuters.net))\r\n",
      "\r\n",
      "Keywords: MARKETS DISTILLATES/ASIA\n",
      "****************************************************************************************************\n",
      "    SINGAPORE, Sept 19 (Reuters) - The ultra low sulphur diesel cash differential continued its\r\n",
      "climb on Tuesday as it was more profitable for traders to ship cargoes from Asia to Europe,\r\n",
      "trade sources said. \r\n",
      "    \r\n",
      "    - NEW ZEALAND FUEL SHORTAGE: New Zealand's jet fuel shortage on Tuesday forced 39 flights to\r\n",
      "be cancelled, 13 of them international, with concerns the fuel crisis may spread after fuel\r\n",
      "stations in the country's largest city Auckland halted high-octane gasoline sales. [nL4N1M0276]\r\n",
      "      The fuel shortage, caused by a damaged pipeline to Auckland Airport, has caused widespread\r\n",
      "disruption to air travel since the weekend and comes only days before Saturday's national\r\n",
      "election with infrastructure shortages a hotly contested issues.\r\n",
      "    - INDIA OFFERS GASOIL: Indian Oil Corp and Essar Oil offered gasoil cargoes for loading in\r\n",
      "October, traders said.\r\n",
      "      The offers came despite the monsoon season ending in September. IOC has recently upgraded\r\n",
      "refining units and plans to upgrade more units to produce better quality fuel and may have more\r\n",
      "high sulphur gasoil as a result, a trader said.\r\n",
      "    - PAKISTAN BUYS JET FUEL: Pakistan State Oil bought 10,000 tonnes of jet fuel for Oct. 5 to\r\n",
      "31 delivery from E3 Energy at a premium of $5.36 a barrel on a delivered basis, traders said. \r\n",
      "    \r\n",
      "    - SINGAPORE CASH DEALS: Six gasoil deals and one jet fuel trade. <O/AS>    \r\n",
      "    \r\n",
      " MID-DISTILLATES                                                                                   \r\n",
      " CASH ($/T)                      ASIA CLOSE      Change  % Change   Prev     RIC\r\n",
      "                                                                    Close    \r\n",
      " Spot Gas Oil 0.5%                        65.61   -0.57      -0.86    66.18  <GO-SIN>\r\n",
      " GO 0.5 Diff                              -1.50    0.00       0.00    -1.50  <GO-SIN-DIF>\r\n",
      " Spot Gas Oil 0.25%                       65.91   -0.57      -0.86    66.48  <GO25-SIN>\r\n",
      " GO 0.25 Diff                             -1.20    0.00       0.00    -1.20  <GO25-SIN-DIF>\r\n",
      " Spot Gas Oil 0.05%                       67.67   -0.61      -0.89    68.28  <GO005-SIN>\r\n",
      " GO 0.05 Diff                              0.56   -0.04      -6.67     0.60  <GO005-SIN-DIF>\r\n",
      " Spot Gas Oil 0.001%                      68.46   -0.47      -0.68    68.93  <GO10-SIN>\r\n",
      " GO 0.001 Diff                             1.35    0.10       8.00     1.25  <GO10-SIN-DIF>\r\n",
      " Spot Jet/Kero                            67.46   -0.59      -0.87    68.05  <JET-SIN>\r\n",
      " Jet/Kero Diff                             0.13   -0.02     -13.33     0.15  <JET-SIN-DIF>\r\n",
      "                                                                                                   \r\n",
      " For a list of derivatives prices, including margins, please double click                          \r\n",
      " the RICs below.                                                             \r\n",
      " Brent M1                        <BRENTSGMc1>                                                      \r\n",
      " Gasoil M1                       <GOSGSWMc1>                                                       \r\n",
      " Gasoil M1/M2                    <GOSGSPDMc1>                                                      \r\n",
      " Gasoil M2                       <GOSGSWMc2>                                                       \r\n",
      " Regrade M1                      <JETREGSGMc1>                                                     \r\n",
      " Regrade M2                      <JETREGSGMc2>                                                     \r\n",
      " Jet M1                          <JETSGSWMc1>                                                      \r\n",
      " Jet M1/M2                       <JETSGSPDMc1>                                                     \r\n",
      " Jet M2                          <JETSGSWMc2>                                                      \r\n",
      " Gasoil 500ppm-Dubai Cracks M1   <GOSGCKMc1>                                                       \r\n",
      " Gasoil 500ppm-Dubai Cracks M2   <GOSGCKMc2>                                                       \r\n",
      " Jet Cracks M1                   <JETSGCKMc1>                                                      \r\n",
      " Jet Cracks M2                   <JETSGCKMc2>                                                      \r\n",
      " East-West M1                    <LGOAEFSMc1>                                                      \r\n",
      " East-West M2                    <LGOAEFSMc2>                                                      \r\n",
      " LGO M1                          <LGOAMc1>                                                         \r\n",
      " LGO M1/M2                       <LGOASPDMc1>                                                      \r\n",
      " LGO M2                          <LGOAMc2>                                                         \r\n",
      " Crack LGO-Brent M1              <LGOACKMc1>                                                       \r\n",
      " Crack LGO-Brent M2              <LGOACKMc2>                                                       \r\n",
      " \r\n",
      " (Reporting by Jessica Jaganathan; Editing by Keith Weir)\r\n",
      " ((Jessica.Jaganathan@thomsonreuters.com; +65 6870 3822; Reuters Messaging:\r\n",
      "jessica.jaganathan.thomsonreuters.com@reuters.net))\r\n",
      "\r\n",
      "Keywords: MARKETS DISTILLATES/ASIA\n",
      "****************************************************************************************************\n"
     ]
    }
   ],
   "source": [
    "sample_topic=X_topics[:,4].argsort()[::-1]\n",
    "\n",
    "for iter_idx,movie_idx in enumerate(sample_topic[:2]):\n",
    "    print(news_items.iloc[movie_idx,0])\n",
    "    print(\"*\"*100)   \n"
   ]
  }
 ],
 "metadata": {
  "kernelspec": {
   "display_name": "Python [conda env:qi]",
   "language": "python",
   "name": "conda-env-qi-py"
  },
  "language_info": {
   "codemirror_mode": {
    "name": "ipython",
    "version": 3
   },
   "file_extension": ".py",
   "mimetype": "text/x-python",
   "name": "python",
   "nbconvert_exporter": "python",
   "pygments_lexer": "ipython3",
   "version": "3.7.9"
  },
  "name": "Topic-Modeling.ipynb"
 },
 "nbformat": 4,
 "nbformat_minor": 2
}
