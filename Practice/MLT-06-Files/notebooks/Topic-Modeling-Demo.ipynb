{
 "cells": [
  {
   "cell_type": "markdown",
   "metadata": {
    "ein.tags": "worksheet-0",
    "slideshow": {
     "slide_type": "-"
    }
   },
   "source": [
    "<img src=\"./images/qinsti.png\" align=\"left\" alt=\"drawing\" width=\"100\"/>\n",
    "<br><br>\n",
    "<div align=\"left\">\n",
    "    <h2>Topic Modeling - Primer</h2>\n",
    "    <h3>Fitting LDA model to Financial news items</h3>\n",
    "</div>\n",
    "\n"
   ]
  },
  {
   "cell_type": "markdown",
   "metadata": {
    "ein.tags": "worksheet-0",
    "slideshow": {
     "slide_type": "-"
    }
   },
   "source": [
    "## Context"
   ]
  },
  {
   "cell_type": "markdown",
   "metadata": {
    "ein.tags": "worksheet-0",
    "slideshow": {
     "slide_type": "-"
    }
   },
   "source": [
    "The purpose of this notebook is to demonstrate a simple example of topic modeling on a set of news items. The sample news items are from\n",
    "Refinitiv's *Machine Readable news* content offering. \n",
    "\n",
    "The following are the main steps of building a topic model\n",
    "* Load the news items\n",
    "* Preprocess the text\n",
    "  * Load Spacy \n",
    "  * Remove stopwords\n",
    "  * Lemmatization\n",
    "  * Tokenize\n",
    "* Create a Document Term Matrix\n",
    "* Use `sklearn` to create a LDA model\n"
   ]
  },
  {
   "cell_type": "markdown",
   "metadata": {
    "ein.tags": "worksheet-0",
    "slideshow": {
     "slide_type": "-"
    }
   },
   "source": [
    "## Load Spacy Language Model"
   ]
  },
  {
   "cell_type": "markdown",
   "metadata": {
    "ein.tags": "worksheet-0",
    "slideshow": {
     "slide_type": "-"
    }
   },
   "source": [
    "`Spacy` library in Python has a lot of useful modules for NLP tasks. It has many preprocessing modules and operates with many of the popular deep learning \n",
    "frameworks"
   ]
  },
  {
   "cell_type": "code",
   "execution_count": 1,
   "metadata": {
    "autoscroll": false,
    "ein.hycell": false,
    "ein.tags": "worksheet-0",
    "slideshow": {
     "slide_type": "-"
    }
   },
   "outputs": [],
   "source": [
    "import spacy\n",
    "import pandas as pd\n",
    "import numpy as np\n",
    "nlp = spacy.load('en_core_web_lg')\n"
   ]
  },
  {
   "cell_type": "markdown",
   "metadata": {
    "ein.tags": "worksheet-0",
    "slideshow": {
     "slide_type": "-"
    }
   },
   "source": [
    "## Load News Data"
   ]
  },
  {
   "cell_type": "markdown",
   "metadata": {
    "ein.tags": "worksheet-0",
    "slideshow": {
     "slide_type": "-"
    }
   },
   "source": [
    "The dataset comprises sample news item from the financial domain. These news items are related to *commodity arbitrage* and *loans* related items "
   ]
  },
  {
   "cell_type": "code",
   "execution_count": 2,
   "metadata": {
    "autoscroll": false,
    "ein.hycell": false,
    "ein.tags": "worksheet-0",
    "slideshow": {
     "slide_type": "-"
    }
   },
   "outputs": [
    {
     "data": {
      "text/plain": [
       "N2:COMARB    1484\n",
       "N2:LOA       1368\n",
       "Name: topic, dtype: int64"
      ]
     },
     "execution_count": 2,
     "metadata": {},
     "output_type": "execute_result"
    }
   ],
   "source": [
    "news_items = pd.read_csv(\"./data/news-body-samples-v1.csv\",sep=\"\\t\")\n",
    "news_items.topic.value_counts()\n",
    "cond       = news_items.apply(lambda x: 300<=len(x['body']) <=6000, axis=1)\n",
    "news_items = news_items.assign(l_status = cond)\n",
    "news_items = news_items[news_items.l_status==True]\n",
    "news_items.topic.value_counts()"
   ]
  },
  {
   "cell_type": "markdown",
   "metadata": {
    "ein.tags": "worksheet-0",
    "slideshow": {
     "slide_type": "-"
    }
   },
   "source": [
    "## Define custom tokenizer "
   ]
  },
  {
   "cell_type": "markdown",
   "metadata": {
    "ein.tags": "worksheet-0",
    "slideshow": {
     "slide_type": "-"
    }
   },
   "source": [
    "For using any specific tokenizer with `sklearn`, one can define tokenizer based on any library of your choice"
   ]
  },
  {
   "cell_type": "code",
   "execution_count": 3,
   "metadata": {
    "autoscroll": false,
    "ein.hycell": false,
    "ein.tags": "worksheet-0",
    "slideshow": {
     "slide_type": "-"
    }
   },
   "outputs": [],
   "source": [
    "def my_tokenizer(text):\n",
    "   tokens = [t for t in nlp(text) if t.is_alpha and not(t.is_space or t.is_punct or t.is_stop or t.like_num)]\n",
    "   return [t.lemma_.lower().strip() if t.lemma_ != \"-PRON-\" else t.lower_  for t in tokens ]\n"
   ]
  },
  {
   "cell_type": "markdown",
   "metadata": {
    "ein.tags": "worksheet-0",
    "slideshow": {
     "slide_type": "-"
    }
   },
   "source": [
    "## Create Document Term Matrix"
   ]
  },
  {
   "cell_type": "markdown",
   "metadata": {
    "ein.tags": "worksheet-0",
    "slideshow": {
     "slide_type": "-"
    }
   },
   "source": [
    "One can use `sklearn.feature_extraction` module to create a Document Term Matrix. \n",
    "The input to the relevant function is the customized tokenizer function "
   ]
  },
  {
   "cell_type": "code",
   "execution_count": 4,
   "metadata": {
    "autoscroll": false,
    "ein.hycell": false,
    "ein.tags": "worksheet-0",
    "slideshow": {
     "slide_type": "-"
    }
   },
   "outputs": [],
   "source": [
    "from sklearn.feature_extraction.text import CountVectorizer\n",
    "ct_vectorizer= CountVectorizer(tokenizer = my_tokenizer, ngram_range=(1,1),\n",
    "                               min_df=0.2,\n",
    "                               max_df=0.9,\n",
    "                               max_features=1000)\n",
    "\n",
    "\n",
    "X = ct_vectorizer.fit_transform(news_items.iloc[:,0].values)"
   ]
  },
  {
   "cell_type": "markdown",
   "metadata": {
    "ein.tags": "worksheet-0",
    "slideshow": {
     "slide_type": "-"
    }
   },
   "source": [
    "## Use `sklearn.decomposition` module to fit LDA "
   ]
  },
  {
   "cell_type": "markdown",
   "metadata": {
    "ein.tags": "worksheet-0",
    "slideshow": {
     "slide_type": "-"
    }
   },
   "source": [
    "DocumentTerm Matrix can then be used as input for building an unsupervised LDA model"
   ]
  },
  {
   "cell_type": "code",
   "execution_count": 5,
   "metadata": {
    "autoscroll": false,
    "ein.hycell": false,
    "ein.tags": "worksheet-0",
    "slideshow": {
     "slide_type": "-"
    }
   },
   "outputs": [],
   "source": [
    "from sklearn.decomposition import LatentDirichletAllocation\n",
    "lda = LatentDirichletAllocation(n_components=5 , random_state = 123,\n",
    "                                learning_method='batch')\n",
    "\n",
    "X_topics = lda.fit_transform(X)"
   ]
  },
  {
   "cell_type": "markdown",
   "metadata": {
    "ein.tags": "worksheet-0",
    "slideshow": {
     "slide_type": "-"
    }
   },
   "source": [
    "## Explore top 30 words from the topics"
   ]
  },
  {
   "cell_type": "code",
   "execution_count": 6,
   "metadata": {
    "autoscroll": false,
    "ein.hycell": false,
    "ein.tags": "worksheet-0",
    "slideshow": {
     "slide_type": "-"
    }
   },
   "outputs": [
    {
     "name": "stdout",
     "output_type": "stream",
     "text": [
      "0\n",
      "price demand click include market margin diesel source refinery high percent trader reuters trade week cargo sulphur barrel brent west asia close east tonne say diff gasoil crack oil\n",
      "1\n",
      "close month shell fall oil crack total compare report stock rise crude future refinery cargo say week sell percent refining day reuters margin ara europe fob barge trade barrel\n",
      "2\n",
      "guide trader april messaging week total barrel asia premium discount month source new trade fuel swap late offer window report tonne say price o cent reuters brent cargo oil\n",
      "3\n",
      "early margin include wednesday monday tuesday source friday expect thursday total month london international new offer bp market company asia price april march rate percent year reuter loan say\n",
      "4\n",
      "reuters say refining margin barrel sell double contract o energy price low discount europe fob percent oil fuel cargo future sulphur gasoil diff euro click barge ara trade diesel\n"
     ]
    }
   ],
   "source": [
    "n_top_words=30\n",
    "\n",
    "feature_names = ct_vectorizer.get_feature_names()\n",
    "for topic_idx, topic in enumerate(lda.components_):\n",
    "    print(topic_idx)\n",
    "    print(\" \".join([ feature_names[i] for i in topic.argsort()[-n_top_words:-1]] ))\n"
   ]
  },
  {
   "cell_type": "markdown",
   "metadata": {
    "ein.tags": "worksheet-0",
    "slideshow": {
     "slide_type": "-"
    }
   },
   "source": [
    "## Explore sample news items from a *topic 4*"
   ]
  },
  {
   "cell_type": "markdown",
   "metadata": {
    "ein.tags": "worksheet-0",
    "slideshow": {
     "slide_type": "-"
    }
   },
   "source": [
    "Topic 4 has many terms that are related to loans. The following retrieves a few news items belonging to this topic:"
   ]
  },
  {
   "cell_type": "code",
   "execution_count": 7,
   "metadata": {
    "autoscroll": false,
    "ein.hycell": false,
    "ein.tags": "worksheet-0",
    "slideshow": {
     "slide_type": "-"
    }
   },
   "outputs": [
    {
     "name": "stdout",
     "output_type": "stream",
     "text": [
      "    HONG KONG, Aug 29 (Reuter) - Asian bankers had plenty to\r\n",
      "talk about Thursday despite a dearth of new debt deals.\r\n",
      "    Starting with Indonesia, bankers say APP Global Finance, a\r\n",
      "subsidiary of Asia Pulp and Paper, now plans to raise funds\r\n",
      "solely through a floating rate note issue.\r\n",
      "    The company had been expected to raise US$500 million\r\n",
      "through a combination of an FRN and a 144a fixed-rate bond.\r\n",
      "    Union Bank of Switzerland <SBGZ.S> is the arranger.\r\n",
      "    Asian bankers say the FRN might be a hard sell because it is\r\n",
      "secured by Asia Pulp and Paper shares. Equity backing is\r\n",
      "considered less desirable than a claim on property, for example,\r\n",
      "because stock prices are more volatile.\r\n",
      "    Asia Pulp and Paper is a member of the Sinar Mas group,\r\n",
      "which currently has another deal in the market via Sinar Mas\r\n",
      "Finance, which on Wednesday launched a US$50 million floating\r\n",
      "rate note issue.\r\n",
      "    Another Sinar Mas member, Tjiwi Kima, is seen bringing a\r\n",
      "loan issue.\r\n",
      "    From South Korea, Kwangju Bank has mandated KDB Asia to\r\n",
      "arrange its first floating rate note issue.\r\n",
      "    Bankers said the US$50 million FRN has a final maturity of\r\n",
      "three years and will pay a margin of 45 basis points over the\r\n",
      "six-month London Interbank Offered Rate.\r\n",
      "    Fees are not decided yet.\r\n",
      "    Kwangju Bank is one of South Korea's specialized banks.\r\n",
      "Another specialized bank, Kyungki, has a three-year FRN in the\r\n",
      "market that is paying a coupon of 40 basis points and an all-in\r\n",
      "return of 49 basis points to the top tier.\r\n",
      "    Bankers report that about US$10 million of the Kyungki deal\r\n",
      "has been sold so far.\r\n",
      "    Among the other specialised banks, Kyongnam Bank also has a\r\n",
      "deal in the works, while Chung Chong Bank is considering a\r\n",
      "transaction as well.\r\n",
      "    Korea Exchange Bank Hong Kong's HK$500 million floating rate\r\n",
      "certificate of deposit is expected to launch next week via Chase\r\n",
      "Manhattan Asia and Jardine Fleming Bank.\r\n",
      "    The deal has a final maturity of 364 days.\r\n",
      "    There have been a few one-year transactions for Korean\r\n",
      "credits in the last couple of months and bankers said that tenor\r\n",
      "has advantages for both parties to the deal.\r\n",
      "    With Korea expected to join the Organization for Economic\r\n",
      "Cooperation and Development this year, Korean banks may want to\r\n",
      "issue short-dated paper on the view that they can refinance in\r\n",
      "1997 much more cheaply.\r\n",
      "    For lenders, the short-dated FRCDs offer a better return\r\n",
      "than commercial paper. Moreover, paper maturing in less than a\r\n",
      "year qualifies for a 20-percent risk weighting.\r\n",
      "    Bankers said Kookmin Bank is considering a three-year Hong\r\n",
      "Kong dollar deal. The all-in is expected to be in the mid-50s\r\n",
      "over the Hong Kong Interbank Offered Rate.\r\n",
      "    PCI Bank's rumoured new issue is expected to carry a\r\n",
      "five-year maturity and, even more unusual for Philippines bank\r\n",
      "credit, a fixed coupon.\r\n",
      "    In Thailand, Siam City Bank is expected to come to market\r\n",
      "with an FRN.\r\n",
      "    There's also a Thai Yankee in the offing, with petroleum\r\n",
      "concern PTTE&P expected to bring a bond.\r\n",
      "    Singapore's Total Access, which recently had its senior debt\r\n",
      "rated BBB-minus by Standard and Poor's Corp, also is seen\r\n",
      "launching a Yankee issue.\r\n",
      "    Late on Wednesday Union Bank of Switzerland said that\r\n",
      "Countrywide Corp's floating rate note issue had been raised\r\n",
      "US$100 million to US$250 million due to robust demand.\r\n",
      "    UBS, which took a large share of the original amount to take\r\n",
      "advantage of the strong secondary market interest, reportedly\r\n",
      "took the full US$100 million.\r\n",
      "    Taiwan's First Commercial Bank is expected to launch its\r\n",
      "FRCD on Friday.\r\n",
      "    -- Andrea Ricci (852) 2843-6371 fax (852) 2845-0636\n",
      "    HONG KONG, April 2 (Reuter) - Asian debt markets were marked\r\n",
      "by news of lots of new loans on Tuesday.\r\n",
      "    The largest was a US$150 million term loan for Taiwan chip\r\n",
      "manufacturer Macronix International.\r\n",
      "    The seven-year amortizing loan has an average life of 4.5\r\n",
      "years. It pays a margin of 65 basis points over the London\r\n",
      "Interbank Offered Rate and, with fees, an all-in return of about\r\n",
      "72 basis points to top tier managers.\r\n",
      "    ABN AMRO Syndications Asia is the arranger.\r\n",
      "    Proceeds of the loan will be used to fund an eight-inch\r\n",
      "wafer fabrication plant.\r\n",
      "    ABN AMRO also is arranging a number of loans for Indian\r\n",
      "companies.\r\n",
      "    It launched a US$45 million seven-year bullet loan for Steel\r\n",
      "Authority of India last Friday. The deal pays a margin of 75\r\n",
      "basis points over LIBOR, and includes a covenant obliging the\r\n",
      "government of India to continue to hold at least 51 percent of\r\n",
      "the borrower, which now is largely state owned.\r\n",
      "    Other arrangers are Chase Asia, Sakura Finance Asia, Societe\r\n",
      "General Asia and State Bank of India.\r\n",
      "    ABN AMRO also recently completed a US$13 million club loan\r\n",
      "for Indian Hotels with Union Bank of Switerzland and Credit\r\n",
      "Lyonnais joining.\r\n",
      "    Next week, ABN AMRO, Citibank International and Societe\r\n",
      "Generale Asia plan to launch a US$75 million loan for Indian\r\n",
      "Petrochemical Corp.\r\n",
      "    Indonesian corporates also were locking in loans. Putra\r\n",
      "Surya Perkasa unit Putra Surya Multifinance set a US$25 million\r\n",
      "loan to be used to fund lease operations.\r\n",
      "    The three-year bullet loan pays a margin of 200 basis points\r\n",
      "over the Singapore Interbank Offered Rate and, with fees, an\r\n",
      "all-in of 240 basis points to the top tier.\r\n",
      "    A two-tranche US$33 million loan for fluorescent tube and\r\n",
      "bulb maker PT Sinar Angkasa Rungkut is in syndication, said\r\n",
      "arranger HSBC Investment Bank Singapore.\r\n",
      "    The US$29 million term loan facility has a maturity of five\r\n",
      "years and pays 200 basis points over SIBOR. The US$4 million\r\n",
      "revolving credit facility has a maturity of 2.5 years and pays a\r\n",
      "margin of 175 basis points over SIBOR.\r\n",
      "    There is a commitment fee of 25 basis points. Other fees\r\n",
      "were not disclosed.\r\n",
      "    The sole capital markets issue revealed on Tuesday was a\r\n",
      "US$50 million floating rate note issue for Guangdong\r\n",
      "International Trust and Investment Corp (Hong Kong).\r\n",
      "    The three-year notes, which will be privately placed, pay a\r\n",
      "margin of 100 basis points over LIBOR, bankers said.\r\n",
      "    Arrangers are Korea Long Term Credit Bank, Peregrine Fixed\r\n",
      "Income and SEOULBANK, they said.\r\n",
      "    GITIC usually raises funds via syndicated loans, but it has\r\n",
      "issued floating rate notes in the past.\r\n",
      "    As a private placement, the deal was structured to meet the\r\n",
      "demand of investors, which are expected to be banks, non-bank\r\n",
      "financial institutions and leasing companies.\r\n",
      "    -- Andrea Ricci (852) 2843-6371 fax (852) 2845-0636   \r\n",
      "    --HK Newsroom (852) 2843 6960\n"
     ]
    }
   ],
   "source": [
    "sample_topic=X_topics[:,3].argsort()[::-1]\n",
    "\n",
    "for iter_idx,movie_idx in enumerate(sample_topic[:2]):\n",
    "    print(news_items.iloc[movie_idx,0])\n"
   ]
  },
  {
   "cell_type": "markdown",
   "metadata": {
    "ein.tags": "worksheet-0",
    "slideshow": {
     "slide_type": "-"
    }
   },
   "source": [
    "## Explore sample news items from _topic 5_"
   ]
  },
  {
   "cell_type": "markdown",
   "metadata": {
    "ein.tags": "worksheet-0",
    "slideshow": {
     "slide_type": "-"
    }
   },
   "source": [
    "Topic 5 has many terms that are related to loans. The following retrieves a few news items belonging to this topic:"
   ]
  },
  {
   "cell_type": "code",
   "execution_count": 8,
   "metadata": {
    "autoscroll": false,
    "ein.hycell": false,
    "ein.tags": "worksheet-0",
    "slideshow": {
     "slide_type": "-"
    }
   },
   "outputs": [
    {
     "name": "stdout",
     "output_type": "stream",
     "text": [
      "    LONDON, March 21 (Reuters) - Benchmark diesel refining\r\n",
      "margins in northwest Europe weakened on Monday to below $9 a\r\n",
      "barrel amid expectations of higher imports flow in April and May\r\n",
      "as refineries come out of maintenance.\r\n",
      "    \r\n",
      "    * Demand in the region remained average for the season.\r\n",
      "    * Supplies from the U.S. and Russia have been stronger than\r\n",
      "expected in March, with around 1.4 million set for delivery from\r\n",
      "the U.S. Gulf Coast. Volumes are expected to rise further in\r\n",
      "April, traders said.\r\n",
      "    * The Middle East and Asia were also expected to increase\r\n",
      "exports to Europe in April as refinery maintenance winds down,\r\n",
      "traders said.\r\n",
      "    * Russia's Lukoil <LKOH.MM> has started exporting ultra-low\r\n",
      "sulphur diesel (ULSD) via a pipeline from its export terminal in\r\n",
      "the Baltic Sea port of Vysotsk, industry sources told\r\n",
      "Reuters.[nL5N16T3Q1]\r\n",
      "    * Independent Italian refiner Saras SRS.MI has issued a\r\n",
      "tender to sell 210,000-270,000 tonnes of 0.1 percent sulphur\r\n",
      "gasoil between April and December, according to a document seen\r\n",
      "by Reuters. [O/TEND][nL5N16T46F]\r\n",
      "    * Algeria's state-owned oil company Sonatrach on Monday\r\n",
      "issued a tender to buy 180,000 tonnes of 0.1 percent sulphur\r\n",
      "content gasoil for delivery in April, according to a tender\r\n",
      "document seen by Reuters. [O/TEND][nL5N16T1XG]\r\n",
      "    * Hellenic Petroleum issued a tender to sell a 30,000 tonne\r\n",
      "cargo of diesel from the refinery for loading April 2-6. The\r\n",
      "tender closes on March 22.\r\n",
      "    * Venezuela's state-run oil company PDVSA has launched a\r\n",
      "tender to buy a 300,000-barrel cargo of ultra low sulphur diesel\r\n",
      "for delivery April 2-7 at any of its ports, according to a\r\n",
      "document seen by Reuters.[nL2N16T0MT]\r\n",
      "    * For the latest European refinery outages: REF/E\r\n",
      "        \r\n",
      "    GASOIL <EURO/DIFF/GO>\r\n",
      "    * Vitol sold to AOT one barge of 0.1 percent sulphur gasoil.\r\n",
      "    * No 0.1 percent sulphur gasoil cargoes traded. Trades the\r\n",
      "previous day concluded at an $11 a tonne discount to April\r\n",
      "diesel. \r\n",
      "    * Gunvor sold to Total one barge with 50 ppm sulphur content\r\n",
      "gasoil at a $7 a tonne discount to Ice April diesel futures,\r\n",
      "slightly weaker than Friday's discount of $6.50 a tonne.      \r\n",
      "    * April Low Sulphur Gasoil futures <LGOc1> were down $6 a\r\n",
      "tonne at $369 a tonne by 1710 GMT.\r\n",
      "    * The April and May contracts were trading in a contango of\r\n",
      "$3.75 a tonne, widening from $3 a tonne.\r\n",
      "    * Diesel refining margins stood at $8.64 a barrel, down from\r\n",
      "$9.17 a tonne.\r\n",
      "    \r\n",
      "    DIESEL <ULSD10-BD-ARA>\r\n",
      "    * Nineteen diesel barges traded at discounts of $5 to $7.50\r\n",
      "a tonne fob ARA to the April diesel futures. Gunvor and Litasco\r\n",
      "sold to Vitol, FST, BP, Hartree and Rolympus.\r\n",
      "    * No diesel cargoes traded. \r\n",
      "         \r\n",
      "    JET FUEL <JET-BD-ARA>\r\n",
      "    * No barges traded. Trafigura bid for one at $21 a tonne fob\r\n",
      "ARA above the April diesel futures while KLM offered one at the\r\n",
      "same price. \r\n",
      "    * No cargoes traded. Vitol offered two cargoes while BP and\r\n",
      "Shell bid for four.\r\n",
      "        \r\n",
      "    FUEL OIL <EURO/DIFF/FO>\r\n",
      "    * Barges with a sulphur content of 3.5 percent traded at\r\n",
      "$155.75-$159 a tonne, up from $153.25-$157 a tonne.\r\n",
      "\r\n",
      " (Reporting by Ron Bousso. Editing by Ahmad Ghaddar)\r\n",
      " ((Ron Bousso)(email: ron.bousso@thomsonreuters.com)(Tel.:\r\n",
      "+44)(0)(207 542 2161)(Reuters Messaging:\r\n",
      "ron.bousso.reuters.com@reuters.net))\r\n",
      " \r\n",
      "((For latest physical prices double click on:\r\n",
      "<EURO/DIFF/GO>, <EURO/DIFF/MOGAS> and <EURO/DIFF/FO>.\r\n",
      "For energy speed guide page click on <ENERGY>.\r\n",
      "For ARA oilstock data click on <ARA/OILSTOCKS>\r\n",
      "For European oilstock data click on <O/EUROIL1> <O/EUROIL2>  \r\n",
      "For swaps prices double click on <ENSWAP/INFO>:))\r\n",
      "\r\n",
      "Keywords: EUROPE DIESEL/\n",
      "    LONDON, April 14 (Reuters) - Benchmark diesel barge\r\n",
      "differentials in northwest Europe slightly weakened on Thursday\r\n",
      "as stocks in the key Amsterdam-Rotterdam-Antwerp hub increased.\r\n",
      "    \r\n",
      "    * Demand in the region was weak, with the International\r\n",
      "Energy Agency warning that it expected Europe's first quarter\r\n",
      "diesel demand fell for the first time in nearly two years.\r\n",
      "[nL5N17H1RO]\r\n",
      "    * ARA gasoil stocks rose in the week to Thursday to 3.609\r\n",
      "million tonnes from 3.476 million tonnes a week earlier,\r\n",
      "according to Dutch consultancy PJK International. [ARA/]\r\n",
      "    * Still, refinery maintenance in Europe limited offers, with\r\n",
      "few cargoes shown on the spot market, traders said.     \r\n",
      "    * German consumer heating oil stocks at the start of April\r\n",
      "declined to 57 percent of tank capacity from 58 percent in\r\n",
      "March, according to data from a trade source. [PROD/DE]\r\n",
      "    * Tankers carrying around 1.5 million tonnes of diesel are\r\n",
      "expected to arrive in Europe from the U.S. Gulf Coast in April,\r\n",
      "traders said.\r\n",
      "    * More than 1 million tonnes of diesel are also set land in\r\n",
      "Europe from Asia and the Middle East in April.\r\n",
      "    * Turkey's only oil refiner Tupras is expected to resume\r\n",
      "diesel production at its 220,000 barrels-per day Izmit refinery\r\n",
      "in late April or May after a nearly three-month closure, traders\r\n",
      "said on Thursday.[nL5N17H4VX]\r\n",
      "    * For the latest European refinery outages: REF/E\r\n",
      "        \r\n",
      "    GASOIL <EURO/DIFF/GO>\r\n",
      "    * Shell sold to AOT a barge of 0.1 percent sulphur gasoil at\r\n",
      "$6 a tonne fob ARA below May Low Sulphur Gasoil futures <LGOc1>,\r\n",
      "compared with a discount of $9 a tonne on Wednesday.\r\n",
      "    * No cargoes of gasoil with 0.1 percent sulphur content\r\n",
      "traded. \r\n",
      "    * Glencore sold to Vitol a barge of 50 ppm gasoil at a\r\n",
      "discount of $4.50 a tonne fob ARA to the May diesel futures,\r\n",
      "compared with a discount of  $4 a tonne a day earlier. \r\n",
      "    * May Low Sulphur Gasoil futures <LGOc1> were up $1.75 a\r\n",
      "tonne at $378.75 a tonne.\r\n",
      "    * The May and June contracts were trading in a contango of\r\n",
      "$3.75 a tonne, 25 cents narrower.\r\n",
      "    * The diesel refining margin <LGO-LCO1=R> was at $6.97 a\r\n",
      "barrel, up from $6.71 a barrel.\r\n",
      "    \r\n",
      "    DIESEL <ULSD10-BD-ARA>\r\n",
      "    * Eleven diesel barges traded at discounts of $2.25-$3.50 a\r\n",
      "tonne fob ARA to May diesel futures, compared with discounts of\r\n",
      "$1.50-$3 a tonne on Wednesday. Glencore, Total and Unipec sold\r\n",
      "to Oel-Pool, Rolympus, Vitol and BP.\r\n",
      "    * No cargoes traded. \r\n",
      "         \r\n",
      "    JET FUEL <JET-BD-ARA>\r\n",
      "    * Shell sold to Trafigura one barge at $25 a tonne fob ARA\r\n",
      "above the May diesel futures. \r\n",
      "    * No cargoes traded.\r\n",
      "        \r\n",
      "    FUEL OIL <EURO/DIFF/FO>\r\n",
      "    * Barges with a sulphur content of 3.5 percent traded at\r\n",
      "$171-$174.50 a tonne fob ARA, compared with $171-$175 a tonne on\r\n",
      "Wednesday.\r\n",
      "\r\n",
      " (Reporting by Ron Bousso, editing by Libby George)\r\n",
      " ((Ron Bousso)(email: ron.bousso@thomsonreuters.com)(Tel.:\r\n",
      "+44)(0)(207 542 2161)(Reuters Messaging:\r\n",
      "ron.bousso.reuters.com@reuters.net))\r\n",
      " \r\n",
      "((For latest physical prices double click on:\r\n",
      "<EURO/DIFF/GO>, <EURO/DIFF/MOGAS> and <EURO/DIFF/FO>.\r\n",
      "For energy speed guide page click on <ENERGY>.\r\n",
      "For ARA oilstock data click on <ARA/OILSTOCKS>\r\n",
      "For European oilstock data click on <O/EUROIL1> <O/EUROIL2>  \r\n",
      "For swaps prices double click on <ENSWAP/INFO>:))\r\n",
      "\r\n",
      "Keywords: EUROPE DIESEL/\n"
     ]
    }
   ],
   "source": [
    "sample_topic=X_topics[:,4].argsort()[::-1]\n",
    "\n",
    "for iter_idx,movie_idx in enumerate(sample_topic[:2]):\n",
    "    print(news_items.iloc[movie_idx,0])\n",
    "    \n"
   ]
  }
 ],
 "metadata": {
  "kernelspec": {
   "display_name": "Python [conda env:qi]",
   "language": "python",
   "name": "conda-env-qi-py"
  },
  "language_info": {
   "codemirror_mode": {
    "name": "ipython",
    "version": 3
   },
   "file_extension": ".py",
   "mimetype": "text/x-python",
   "name": "python",
   "nbconvert_exporter": "python",
   "pygments_lexer": "ipython3",
   "version": "3.7.9"
  },
  "name": "Topic-Modeling.ipynb"
 },
 "nbformat": 4,
 "nbformat_minor": 2
}
