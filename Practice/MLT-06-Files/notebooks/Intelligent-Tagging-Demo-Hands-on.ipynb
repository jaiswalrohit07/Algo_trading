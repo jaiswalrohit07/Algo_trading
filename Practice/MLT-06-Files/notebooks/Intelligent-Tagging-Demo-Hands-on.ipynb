{
 "cells": [
  {
   "cell_type": "markdown",
   "metadata": {},
   "source": [
    "<img src=\"./images/qinsti.png\" align=\"left\" alt=\"drawing\" width=\"100\"/>\n",
    "<br><br>\n",
    "<div align=\"left\">\n",
    "    <h2>Intelligent Tagging - Demo</h2>\n",
    "</div>\n",
    "\n"
   ]
  },
  {
   "cell_type": "markdown",
   "metadata": {},
   "source": [
    "### Obtain the API Key\n",
    "- via registering at https://permid.org/\n",
    "\n",
    "### Documentation\n",
    "- https://developers.refinitiv.com/open-permid/intelligent-tagging-restful-api/docs\n"
   ]
  },
  {
   "cell_type": "code",
   "execution_count": 44,
   "metadata": {},
   "outputs": [],
   "source": [
    "with open(\"my-permid-api-key.txt\",'r') as f:\n",
    "    api_key = f.readlines()[0]"
   ]
  },
  {
   "cell_type": "code",
   "execution_count": 45,
   "metadata": {},
   "outputs": [],
   "source": [
    "import requests\n",
    "import os\n",
    "import sys\n",
    "calais_url = \"https://api-eit.refinitiv.com/permid/calais\""
   ]
  },
  {
   "cell_type": "markdown",
   "metadata": {},
   "source": [
    "## Tagging function\n"
   ]
  },
  {
   "cell_type": "code",
   "execution_count": 46,
   "metadata": {},
   "outputs": [],
   "source": [
    "def tagit(input_file, output_dir,access_token,\n",
    "          content_type = \"text/raw\",\n",
    "          output_format = \"xml/rdf\",\n",
    "          content_class = \"news\",\n",
    "          omit_original = \"true\"):\n",
    "    try:\n",
    "        if not os.path.exists(input_file):\n",
    "            print('The file [%s] does not exist' % input_file)\n",
    "            return\n",
    "        if not os.path.exists(output_dir):\n",
    "            os.makedirs(output_dir)\n",
    "        headers = {\"X-AG-Access-Token\" : access_token, \n",
    "                   \"Content-Type\" : content_type,\n",
    "                   \"outputformat\" : output_format,\n",
    "                   \"x-calais-contentClass\": content_class,\n",
    "                   \"omitOutputtingOriginalText\": omit_original\n",
    "        }\n",
    "        sendFile(input_file, headers, output_dir,output_format)\n",
    "    except Exception as e:\n",
    "        print ('Error in connect ' , e)\n",
    "\n",
    "        "
   ]
  },
  {
   "cell_type": "markdown",
   "metadata": {},
   "source": [
    "## Call Cloud TRIT for taggging"
   ]
  },
  {
   "cell_type": "code",
   "execution_count": 47,
   "metadata": {},
   "outputs": [],
   "source": [
    "#Invoke the API\n",
    "def sendFile(file_name, headers, output_dir,output_format):\n",
    "    print(\"Tagging :\" ,file_name)\n",
    "    with open(file_name, 'rb') as input_data:\n",
    "        response = requests.post(calais_url,\n",
    "                                 data=input_data,\n",
    "                                 headers=headers,\n",
    "                                 timeout=80)\n",
    "        print ('status code: %s' % response.status_code)\n",
    "    content = response.text\n",
    "    if response.status_code == 200:\n",
    "        saveFile(file_name, output_dir, content, output_format)\n"
   ]
  },
  {
   "cell_type": "markdown",
   "metadata": {},
   "source": [
    "## Save the Tagged Output"
   ]
  },
  {
   "cell_type": "code",
   "execution_count": 48,
   "metadata": {},
   "outputs": [],
   "source": [
    "#Save the Output\n",
    "def saveFile(file_name, output_dir, content, output_format):\n",
    "    output_extension = \"\"\n",
    "    if output_format==\"xml/rdf\" :\n",
    "        output_extension = \".xml\"\n",
    "    if output_format==\"application/json\" :\n",
    "        output_extension = \".json\"\n",
    "    if output_format==\"text/n3\" :\n",
    "        output_extension = \".n3\"\n",
    "    output_file_name = os.path.basename(file_name).split(\".\")[0]\n",
    "    output_file_name = output_file_name + output_extension\n",
    "    output_file = open(os.path.join(output_dir, output_file_name), 'wb')\n",
    "    output_file.write(content.encode('utf-8'))\n",
    "    output_file.close()\n",
    "\n"
   ]
  },
  {
   "cell_type": "markdown",
   "metadata": {},
   "source": [
    "## Tag a single document(txt)"
   ]
  },
  {
   "cell_type": "code",
   "execution_count": 49,
   "metadata": {},
   "outputs": [
    {
     "name": "stdout",
     "output_type": "stream",
     "text": [
      "Tagging : ./data/tagging/article.txt\n",
      "status code: 200\n"
     ]
    }
   ],
   "source": [
    "input_dir    = \"./data/tagging/\"\n",
    "output_dir    = input_dir\n",
    "temp_file     = input_dir+ \"article.txt\"\n",
    "tagit(temp_file, output_dir, api_key,\n",
    "              content_type = \"text/raw\",\n",
    "              output_format = \"xml/rdf\",\n",
    "              content_class = \"news\",\n",
    "              omit_original = \"true\")           \n"
   ]
  },
  {
   "cell_type": "markdown",
   "metadata": {},
   "source": [
    "## Tag a set of files from a specific folder\n",
    "\n",
    "Specify the input directory, output directory, api key "
   ]
  },
  {
   "cell_type": "code",
   "execution_count": 50,
   "metadata": {},
   "outputs": [],
   "source": [
    "input_dir    = \"./data/tagging/batch/input/\"\n",
    "output_dir    = \"./data/tagging/batch/output/\"\n",
    "\n",
    "def tag_docs():\n",
    "    for _path,_dir,files in os.walk(input_dir):\n",
    "        f           = files\n",
    "        files       = [input_dir + i for i in list(f)]\n",
    "        n           = len(files)\n",
    "        for i in range(n):\n",
    "            print(files[i], \"processing \", i+1, \" out of \", n,  \"files\")\n",
    "            tagit(files[i], output_dir, api_key,\n",
    "              content_type = \"text/raw\",\n",
    "              output_format = \"xml/rdf\",\n",
    "              content_class = \"news\",\n",
    "              omit_original = \"true\")\n",
    "            \n",
    "    return None\n",
    "\n"
   ]
  },
  {
   "cell_type": "markdown",
   "metadata": {},
   "source": [
    "## Tag the Documents"
   ]
  },
  {
   "cell_type": "code",
   "execution_count": 51,
   "metadata": {},
   "outputs": [
    {
     "name": "stdout",
     "output_type": "stream",
     "text": [
      "./data/tagging/batch/input/article1.txt processing  1  out of  3 files\n",
      "Tagging : ./data/tagging/batch/input/article1.txt\n",
      "status code: 200\n",
      "./data/tagging/batch/input/article2.txt processing  2  out of  3 files\n",
      "Tagging : ./data/tagging/batch/input/article2.txt\n",
      "status code: 200\n",
      "./data/tagging/batch/input/article3.txt processing  3  out of  3 files\n",
      "Tagging : ./data/tagging/batch/input/article3.txt\n",
      "status code: 200\n"
     ]
    }
   ],
   "source": [
    "tag_docs()"
   ]
  },
  {
   "cell_type": "markdown",
   "metadata": {},
   "source": [
    "## Analyzing output - Single Document\n",
    "\n",
    "We will use **rdflib** and **CalaisModel** to analyze the output. Let us import all the relevant modules\n",
    "\n",
    "* Download http://www.opencalais.com/calaismodel-abstraction-layer/\n",
    "* Install for Anacondo\n",
    "* Install rdflib: *conda install -c conda-forge rdflib* \n",
    "* Methods in abstraction layer \n",
    "  - getCalaisObjectById\n",
    "  - getCalaisObjectByType \n",
    "  - getAllTypes\n",
    "  - getAllCalaisObjects\n"
   ]
  },
  {
   "cell_type": "code",
   "execution_count": 52,
   "metadata": {},
   "outputs": [],
   "source": [
    "import numpy as np\n"
   ]
  },
  {
   "cell_type": "code",
   "execution_count": 53,
   "metadata": {},
   "outputs": [],
   "source": [
    "from calaisModel import CalaisModel\n",
    "from collections import defaultdict\n",
    "from pprint import pprint\n",
    "import pdb\n",
    "import rdflib\n",
    "output_dir    = \"./data/tagging/\"\n",
    "\n",
    "temp_output  = output_dir+ \"article.xml\"\n"
   ]
  },
  {
   "cell_type": "markdown",
   "metadata": {},
   "source": [
    "### How many triples ?"
   ]
  },
  {
   "cell_type": "code",
   "execution_count": 54,
   "metadata": {},
   "outputs": [
    {
     "name": "stdout",
     "output_type": "stream",
     "text": [
      "The number of elements in the graphs is 1487\n"
     ]
    }
   ],
   "source": [
    "g  = rdflib.Graph()\n",
    "g.parse(temp_output)\n",
    "print(f\"The number of elements in the graphs is {len(g)}\")\n"
   ]
  },
  {
   "cell_type": "markdown",
   "metadata": {},
   "source": [
    "### How many objects ?"
   ]
  },
  {
   "cell_type": "code",
   "execution_count": 55,
   "metadata": {},
   "outputs": [
    {
     "name": "stdout",
     "output_type": "stream",
     "text": [
      "http://s.opencalais.com/1/type/sys/InstanceInfo\n",
      "http://s.opencalais.com/1/type/em/e/Company\n",
      "http://s.opencalais.com/1/type/tag/Confidence\n",
      "http://s.opencalais.com/1/type/sys/RelevanceInfo\n",
      "http://s.opencalais.com/1/type/em/r/CompanyInvestment\n",
      "http://s.opencalais.com/1/type/em/e/Person\n",
      "http://s.opencalais.com/1/type/tag/SocialTag\n",
      "http://s.opencalais.com/1/type/sys/DocInfo\n",
      "http://s.opencalais.com/1/type/er/Company\n",
      "http://s.opencalais.com/1/type/em/e/ProvinceOrState\n",
      "http://s.opencalais.com/1/type/er/Geo/ProvinceOrState\n",
      "http://s.opencalais.com/1/type/em/e/IndustryTerm\n",
      "http://s.opencalais.com/1/type/em/r/Acquisition\n",
      "http://s.opencalais.com/1/type/em/r/Alliance\n",
      "http://s.opencalais.com/1/type/em/r/CompanyTechnology\n",
      "http://s.opencalais.com/1/type/er/Geo/Country\n",
      "http://s.opencalais.com/1/type/em/e/Technology\n",
      "http://s.opencalais.com/1/type/em/e/Country\n",
      "http://s.opencalais.com/1/type/em/e/City\n",
      "http://s.opencalais.com/1/type/lid/DefaultLangId\n",
      "http://s.opencalais.com/1/type/em/r/BusinessRelation\n",
      "http://s.opencalais.com/1/type/cat/DocCat\n",
      "http://s.opencalais.com/1/type/er/Geo/City\n",
      "http://s.opencalais.com/1/type/em/e/Continent\n",
      "http://s.opencalais.com/1/type/em/r/CompanyLocation\n",
      "http://s.opencalais.com/1/type/em/r/CompanyAffiliates\n",
      "http://s.opencalais.com/1/type/sys/ComponentVersions\n",
      "http://s.opencalais.com/1/type/sys/DocInfoMeta\n"
     ]
    }
   ],
   "source": [
    "cm = CalaisModel(temp_output)\n",
    "bj = cm.getAllCalaisObjects()\n",
    "\n",
    "# Get all object types\n",
    "for object_type in cm.getAllTypes():\n",
    "    print(object_type)\n"
   ]
  },
  {
   "cell_type": "markdown",
   "metadata": {},
   "source": [
    "### How many objects ?"
   ]
  },
  {
   "cell_type": "code",
   "execution_count": 39,
   "metadata": {},
   "outputs": [
    {
     "name": "stdout",
     "output_type": "stream",
     "text": [
      "206\n"
     ]
    }
   ],
   "source": [
    "obj = cm.getAllCalaisObjects()\n",
    "print(len(cm.getAllCalaisObjects()))"
   ]
  },
  {
   "cell_type": "code",
   "execution_count": 56,
   "metadata": {},
   "outputs": [
    {
     "name": "stdout",
     "output_type": "stream",
     "text": [
      "['http://s.opencalais.com/1/pred/recognizedas', 'http://s.opencalais.com/1/pred/name', 'http://s.opencalais.com/1/pred/confidencelevel', 'http://s.opencalais.com/1/pred/nationality', 'http://s.opencalais.com/1/pred/forenduserdisplay']\n",
      "[]\n",
      "http://d.opencalais.com/comphash-1/9669602a-43aa-34e4-814b-a6ee6100e216\n",
      "http://s.opencalais.com/1/type/em/e/Company\n",
      "['http://s.opencalais.com/1/pred/recognizedas', 'http://s.opencalais.com/1/pred/name', 'http://s.opencalais.com/1/pred/confidencelevel', 'http://s.opencalais.com/1/pred/nationality', 'http://s.opencalais.com/1/pred/forenduserdisplay']\n",
      "[]\n",
      "[]\n"
     ]
    }
   ],
   "source": [
    "id = \"http://d.opencalais.com/comphash-1/9669602a-43aa-34e4-814b-a6ee6100e216\"\n",
    "temp = cm.getCalaisObjectById(id)\n",
    "print(list(temp.getLiterals()))\n",
    "print(list(temp.getReferences()))\n",
    "print(temp.getObjectId())\n",
    "print(temp.getType())\n",
    "print(list(temp.getLiterals()))\n",
    "print(list(temp.getReferences()))\n",
    "print(list(temp.getExternalURIs()))\n"
   ]
  },
  {
   "cell_type": "markdown",
   "metadata": {},
   "source": [
    "### Get all the companies in the document"
   ]
  },
  {
   "cell_type": "code",
   "execution_count": 57,
   "metadata": {},
   "outputs": [
    {
     "name": "stdout",
     "output_type": "stream",
     "text": [
      "['GOLDEN GATE CAPITAL, INC.'] ['5000046422']\n",
      "['EMC CORPORATION'] ['4295903890']\n",
      "['SECUREWORKS CORP.'] ['5048024231']\n",
      "['SonicWALL B.V.'] ['5000690970']\n",
      "['PEROT SYSTEMS CORPORATION'] ['5000067065']\n",
      "['VMWARE, INC.'] ['4295907347']\n",
      "['NTT DATA CORPORATION'] ['4295877060']\n",
      "['DELL INC.'] ['4295906157']\n",
      "['QUEST SOFTWARE INC.'] ['4295914668']\n",
      "['FRANCISCO PARTNERS, L.P.'] ['4296392467']\n",
      "['ELLIOTT MANAGEMENT CORPORATION'] ['4295985165']\n"
     ]
    }
   ],
   "source": [
    "#Extract all companies \n",
    "companies = cm.getCalaisObjectByType(\"http://s.opencalais.com/1/type/er/Company\")\n",
    "\n",
    "# Get all the confidence scores for the identified entities\n",
    "for company in companies:\n",
    "    temp= company.getLiterals()\n",
    "    print(temp['http://s.opencalais.com/1/pred/name'],temp['http://s.opencalais.com/1/pred/permid'])\n"
   ]
  },
  {
   "cell_type": "markdown",
   "metadata": {},
   "source": [
    "### Serialiaze in to N Triple file"
   ]
  },
  {
   "cell_type": "code",
   "execution_count": 42,
   "metadata": {},
   "outputs": [],
   "source": [
    "temp_output_nt    = output_dir+ \"article.nt\"\n",
    "g.serialize(temp_output_nt, format=\"nt\")\n"
   ]
  },
  {
   "cell_type": "markdown",
   "metadata": {},
   "source": [
    "### How many PermIds?"
   ]
  },
  {
   "cell_type": "code",
   "execution_count": 43,
   "metadata": {},
   "outputs": [
    {
     "name": "stdout",
     "output_type": "stream",
     "text": [
      "https://permid.org/1-4295906157\n",
      "https://permid.org/1-505062\n",
      "https://permid.org/1-4295985165\n",
      "https://permid.org/1-5000690970\n",
      "https://permid.org/1-404011\n",
      "https://permid.org/1-4296392467\n",
      "https://permid.org/1-404011\n",
      "https://permid.org/1-4295877060\n",
      "https://permid.org/1-5048024231\n",
      "https://permid.org/1-5000067065\n",
      "https://permid.org/1-4295914668\n",
      "https://permid.org/1-100148\n",
      "https://permid.org/1-5000046422\n",
      "https://permid.org/1-404011\n",
      "https://permid.org/1-100319\n",
      "https://permid.org/1-100299\n",
      "https://permid.org/1-4295903890\n",
      "https://permid.org/1-4295907347\n"
     ]
    }
   ],
   "source": [
    "perm_id = rdflib.URIRef(u'http://s.opencalais.com/1/pred/permid')\n",
    "for s, p, o in g:\n",
    "    if p == perm_id:        \n",
    "        if o.startswith(\"http\"):\n",
    "            print(o)\n",
    "        else:\n",
    "            print(\"https://permid.org/1-\"+o)\n"
   ]
  },
  {
   "cell_type": "markdown",
   "metadata": {},
   "source": [
    "## Storing RDF Output in Neo4j\n",
    "\n",
    "1. Create a Neo4j empty store(http://dist.neo4j.org/neo4j-enterprise-3.2.2-windows.zip)\n",
    "2. Create a RDF document that stores the data from the input files\n",
    "\n"
   ]
  },
  {
   "cell_type": "markdown",
   "metadata": {},
   "source": [
    "### Step 1\n",
    "Put in neosemantics-3.2.0.1-beta.jar in plugins\n",
    "\n",
    "* CREATE INDEX ON :Resource(uri);\n",
    "* CREATE INDEX ON :URI(uri);\n",
    "* CREATE INDEX ON :BNode(uri);\n",
    "* CREATE INDEX ON :Class(uri);\n",
    "* CREATE INDEX ON :Class(uri);\n",
    "* Usae the relevant plugin for RDF import\n"
   ]
  },
  {
   "cell_type": "markdown",
   "metadata": {},
   "source": [
    "### Step 2  : Import the RDF"
   ]
  }
 ],
 "metadata": {
  "kernelspec": {
   "display_name": "Python [conda env:qi]",
   "language": "python",
   "name": "conda-env-qi-py"
  },
  "language_info": {
   "codemirror_mode": {
    "name": "ipython",
    "version": 3
   },
   "file_extension": ".py",
   "mimetype": "text/x-python",
   "name": "python",
   "nbconvert_exporter": "python",
   "pygments_lexer": "ipython3",
   "version": "3.7.9"
  }
 },
 "nbformat": 4,
 "nbformat_minor": 2
}
