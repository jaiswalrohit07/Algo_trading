{
 "cells": [
  {
   "cell_type": "markdown",
   "metadata": {},
   "source": [
    "<img src=\"./images/qinsti.png\" align=\"left\" alt=\"drawing\" width=\"100\"/>\n",
    "<br><br>\n",
    "<div align=\"left\">\n",
    "    <h2>Machine Readable News - Hands on</h2>\n",
    "</div>\n",
    "\n"
   ]
  },
  {
   "cell_type": "markdown",
   "metadata": {
    "ein.tags": "worksheet-0",
    "slideshow": {
     "slide_type": "-"
    }
   },
   "source": [
    "### Warm up : Reading Single News Item"
   ]
  },
  {
   "cell_type": "markdown",
   "metadata": {},
   "source": [
    "- How many days of the news items are covered in the dataset ?\n",
    "- List down the top 5 languages by item count\n",
    "- List down the top 4 Topics by item count\n",
    "- List down the top 5 Sources by item count\n",
    "- What is the proportion of alerts to articles in the dataset ?\n",
    "- What is the maximum number of alerts reported for any story in the dataset?\n",
    "- Take any company identi\f",
    "er in any of the news item and retrieve the name of the company\n"
   ]
  },
  {
   "cell_type": "code",
   "execution_count": 4,
   "metadata": {
    "autoscroll": false,
    "ein.hycell": false,
    "ein.tags": "worksheet-0",
    "slideshow": {
     "slide_type": "-"
    }
   },
   "outputs": [],
   "source": [
    "import pandas as pd\n",
    "import json \n",
    "import os\n",
    "data_dir  = \"./data/mrn/\"\n",
    "sample_news_item = os.path.join(data_dir , \"MRN-JSON-Sample.JSON\")"
   ]
  },
  {
   "cell_type": "code",
   "execution_count": 5,
   "metadata": {
    "autoscroll": false,
    "ein.hycell": false,
    "ein.tags": "worksheet-0",
    "slideshow": {
     "slide_type": "-"
    }
   },
   "outputs": [],
   "source": [
    "with open(sample_news_item,\"r\", encoding=\"utf8\")  as f: \n",
    "    sample_json = json.load(f)\n"
   ]
  },
  {
   "cell_type": "code",
   "execution_count": 6,
   "metadata": {
    "autoscroll": false,
    "ein.hycell": false,
    "ein.tags": "worksheet-0",
    "slideshow": {
     "slide_type": "-"
    }
   },
   "outputs": [
    {
     "name": "stdout",
     "output_type": "stream",
     "text": [
      "{\n",
      "    \"guid\": \"20170102-001056000-nL4N1ES007-1-2\",\n",
      "    \"timestamps\": [\n",
      "        {\n",
      "            \"source\": \"EMEA\",\n",
      "            \"name\": \"recorded\",\n",
      "            \"timestamp\": \"2017-01-02T00:10:56.613Z\"\n",
      "        }\n",
      "    ],\n",
      "    \"data\": {\n",
      "        \"body\": \" (Repeats story issued on Sunday)\\n    BEIJING, Jan 1 (Reuters) - China's manufacturing sector\\nexpanded for a fifth month in December, but growth slowed a\\ntouch more than expected in a sign that government measures to\\nrein in soaring asset prices are starting to have a knock-on\\neffect on the broader economy. \\n    The official Purchasing Managers' Index (PMI) stood at 51.4\\nin December compared with 51.7 in November. A reading above 50\\nindicates an expansion on a monthly basis while one below 50\\nsuggests a contraction.\\n    December's reading was slightly below the forecast in a\\nReuters poll for 51.5.\\n    A housing boom in the second half of 2016 and a government\\nspending spree on infrastructure have helped boost prices for\\ncommodities from cement to steel, giving the manufacturing\\nsector a much-needed lift. \\n    But the government is cracking down on speculative property\\nbuying, and signals from policymakers that more will be done to\\ncontain asset bubbles and rising debt - even at the expense of\\nslower growth - means extra stimulus measures could be limited.\\n    \\\"Today's PMI figures suggest that the change of policy tone\\nhas taken its toll, as the authorities are seriously concerned\\nabout the asset bubbles,\\\" said Zhou Hao, senior economist at\\nCommerzbank. \\n    Factory output slowed in December, with the sub-index\\nhitting 53.3 compared with 53.9 the previous month.\\n    Total new orders were flat at 53.2, logging the same as in\\nNovember, while new export orders fell to 50.1 from 50.3.\\n    Jobs were again lost, with the employment sub-index sitting\\nat 48.9, compared to 49.2 in November, as the country pledged to\\ncut excess capacity over a range of industries. \\n    A sub-index for smaller firms fell, and performance for\\nlarger companies also worsened.   \\n    The Markit/Caixin PMI, a private gauge of manufacturing\\nactivity which focuses more on small- and mid-sized firms, is\\ndue on Jan. 3.\\n    Analysts in a Reuters poll expect it to fall to 50.7 from\\nthe previous month's reading of 50.9.\\n    A separate reading on the services sector showed the pace of\\ngrowth slowed in December, Sunday's data showed.\\n    The official non-manufacturing Purchasing Managers' Index\\n(PMI) stood at 54.5 in December, down from 54.7 in November, \\nbut well above the 50-point mark.\\n    China is counting on growth in services - which account for\\nmore than half of gross domestic product - to offset persistent\\nsoftness in exports that is dragging on the economy. Private\\ninvestment has also remained stubbornly weak. \\n    But GDP still looks set to hit Beijing's 2016 growth target\\nof 6.5 to 7 percent, after expanding 6.7 percent for each of the\\nfirst three quarters.\\n\\n (Reporting by Ben Blanchard, Elias Glenn and Ryan Woo; Editing\\nby Richard Pullin)\\n ((ben.blanchard@thomsonreuters.com; +86 10 6627 1201; Reuters\\nMessaging: ben.blanchard.thomsonreuters.com@reuters.net))\\n\\nKeywords: CHINA ECONOMY/PMI FACTORY OFFICIAL (REPEAT, UPDATE\",\n",
      "        \"mimeType\": \"text/plain\",\n",
      "        \"firstCreated\": \"2017-01-02T00:10:56.000Z\",\n",
      "        \"language\": \"en\",\n",
      "        \"altId\": \"nL4N1ES007\",\n",
      "        \"headline\": \"RPT-UPDATE 2-Growth in China's factories, services slows in December - official PMI\",\n",
      "        \"takeSequence\": 1,\n",
      "        \"pubStatus\": \"stat:usable\",\n",
      "        \"subjects\": [\n",
      "            \"N2:MCE\",\n",
      "            \"N2:ECON\",\n",
      "            \"N2:ECI\",\n",
      "            \"N2:EMRG\",\n",
      "            \"N2:CN\",\n",
      "            \"N2:ASIA\",\n",
      "            \"N2:PMI\",\n",
      "            \"N2:NEWS1\",\n",
      "            \"N2:ITSE\",\n",
      "            \"N2:ISER\",\n",
      "            \"N2:CMSS\",\n",
      "            \"N2:BSUP\",\n",
      "            \"N2:TCOM\",\n",
      "            \"N2:BSVC\",\n",
      "            \"N2:ENDOCR\",\n",
      "            \"N2:IPR\",\n",
      "            \"N2:FINS\",\n",
      "            \"N2:BISV\",\n",
      "            \"N2:TECH\",\n",
      "            \"N2:SWIT\",\n",
      "            \"N2:TMT\",\n",
      "            \"N2:INDS\",\n",
      "            \"N2:GEN\",\n",
      "            \"N2:HEA\",\n",
      "            \"N2:LEN\",\n",
      "            \"N2:RTRS\",\n",
      "            \"R:CNPMIB=ECI\"\n",
      "        ],\n",
      "        \"audiences\": [\n",
      "            \"NP:C\",\n",
      "            \"NP:D\",\n",
      "            \"NP:E\",\n",
      "            \"NP:M\",\n",
      "            \"NP:O\",\n",
      "            \"NP:T\",\n",
      "            \"NP:U\",\n",
      "            \"NP:OIL\",\n",
      "            \"NP:NAT\",\n",
      "            \"NP:UKI\",\n",
      "            \"NP:GRO\",\n",
      "            \"NP:MTL\",\n",
      "            \"NP:SOF\",\n",
      "            \"NP:Z\",\n",
      "            \"NP:DNP\"\n",
      "        ],\n",
      "        \"versionCreated\": \"2017-01-02T00:10:56.000Z\",\n",
      "        \"provider\": \"NS:RTRS\",\n",
      "        \"instancesOf\": [],\n",
      "        \"id\": \"20170102-001056000-nL4N1ES007-1-2\",\n",
      "        \"urgency\": 3\n",
      "    }\n",
      "}\n"
     ]
    }
   ],
   "source": [
    "print(json.dumps(sample_json,indent=4, sort_keys=False))"
   ]
  },
  {
   "cell_type": "markdown",
   "metadata": {
    "ein.tags": "worksheet-0",
    "slideshow": {
     "slide_type": "-"
    }
   },
   "source": [
    "### Write sample code to answer the following questions:"
   ]
  },
  {
   "cell_type": "markdown",
   "metadata": {
    "ein.tags": "worksheet-0",
    "slideshow": {
     "slide_type": "-"
    }
   },
   "source": [
    "Use the *Sample_News_File.JSON* from the *data* directory\n",
    "\n",
    "1. How many days of the news items are covered in the dataset ?\n",
    "2. List down the top 5 languages by item count\n",
    "3. List down the top 4 Topics by item count(Topics have a prefix as N2)\n",
    "4. List down the top 5 Sources by item count\n",
    "5. What is the proportion of alerts to articles in the dataset ?\n",
    "6. What is the maximum number of alerts reported for any story in the dataset?\n",
    "7. Take any company mentioned in any of the news item and retrieve the country of incorporation "
   ]
  },
  {
   "cell_type": "markdown",
   "metadata": {
    "ein.tags": "worksheet-0",
    "slideshow": {
     "slide_type": "-"
    }
   },
   "source": [
    "### Q1. How many days of the news items are covered in the dataset ?"
   ]
  },
  {
   "cell_type": "code",
   "execution_count": null,
   "metadata": {
    "autoscroll": false,
    "ein.hycell": false,
    "ein.tags": "worksheet-0",
    "slideshow": {
     "slide_type": "-"
    }
   },
   "outputs": [],
   "source": []
  },
  {
   "cell_type": "markdown",
   "metadata": {
    "ein.tags": "worksheet-0",
    "slideshow": {
     "slide_type": "-"
    }
   },
   "source": [
    "### Q2. List down the top 5 languages by item count"
   ]
  },
  {
   "cell_type": "code",
   "execution_count": null,
   "metadata": {
    "autoscroll": false,
    "ein.hycell": false,
    "ein.tags": "worksheet-0",
    "slideshow": {
     "slide_type": "-"
    }
   },
   "outputs": [],
   "source": []
  },
  {
   "cell_type": "markdown",
   "metadata": {
    "ein.tags": "worksheet-0",
    "slideshow": {
     "slide_type": "-"
    }
   },
   "source": [
    "### Q3. List down the top 4 Topics by item count"
   ]
  },
  {
   "cell_type": "code",
   "execution_count": null,
   "metadata": {
    "autoscroll": false,
    "ein.hycell": false,
    "ein.tags": "worksheet-0",
    "slideshow": {
     "slide_type": "-"
    }
   },
   "outputs": [],
   "source": []
  },
  {
   "cell_type": "markdown",
   "metadata": {
    "ein.tags": "worksheet-0",
    "slideshow": {
     "slide_type": "-"
    }
   },
   "source": [
    "### Q4. List down the top 5 Sources by item count\n"
   ]
  },
  {
   "cell_type": "code",
   "execution_count": null,
   "metadata": {
    "autoscroll": false,
    "ein.hycell": false,
    "ein.tags": "worksheet-0",
    "slideshow": {
     "slide_type": "-"
    }
   },
   "outputs": [],
   "source": []
  },
  {
   "cell_type": "markdown",
   "metadata": {
    "ein.tags": "worksheet-0",
    "slideshow": {
     "slide_type": "-"
    }
   },
   "source": [
    "### Q5. What is the proportion of alerts to articles in the dataset ?"
   ]
  },
  {
   "cell_type": "code",
   "execution_count": null,
   "metadata": {
    "autoscroll": false,
    "ein.hycell": false,
    "ein.tags": "worksheet-0",
    "slideshow": {
     "slide_type": "-"
    }
   },
   "outputs": [],
   "source": []
  },
  {
   "cell_type": "markdown",
   "metadata": {
    "ein.tags": "worksheet-0",
    "slideshow": {
     "slide_type": "-"
    }
   },
   "source": [
    "### Q6. What is the maximum number of alerts reported for any story in the dataset?"
   ]
  },
  {
   "cell_type": "code",
   "execution_count": null,
   "metadata": {
    "autoscroll": false,
    "ein.hycell": false,
    "ein.tags": "worksheet-0",
    "slideshow": {
     "slide_type": "-"
    }
   },
   "outputs": [],
   "source": []
  },
  {
   "cell_type": "markdown",
   "metadata": {
    "ein.tags": "worksheet-0",
    "slideshow": {
     "slide_type": "-"
    }
   },
   "source": [
    "### Q7. Take any company identifier in any of the news item and retrieve the name of the company\n"
   ]
  },
  {
   "cell_type": "code",
   "execution_count": null,
   "metadata": {
    "autoscroll": false,
    "ein.hycell": false,
    "ein.tags": "worksheet-0",
    "slideshow": {
     "slide_type": "-"
    }
   },
   "outputs": [],
   "source": []
  }
 ],
 "metadata": {
  "kernelspec": {
   "display_name": "Python [conda env:qi]",
   "language": "python",
   "name": "conda-env-qi-py"
  },
  "language_info": {
   "codemirror_mode": {
    "name": "ipython",
    "version": 3
   },
   "file_extension": ".py",
   "mimetype": "text/x-python",
   "name": "python",
   "nbconvert_exporter": "python",
   "pygments_lexer": "ipython3",
   "version": "3.7.9"
  },
  "name": "MRN-Content-Handson.ipynb"
 },
 "nbformat": 4,
 "nbformat_minor": 2
}
