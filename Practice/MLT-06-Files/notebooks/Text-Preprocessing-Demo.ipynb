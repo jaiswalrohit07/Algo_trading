{
 "cells": [
  {
   "cell_type": "markdown",
   "metadata": {
    "ein.tags": "worksheet-0",
    "slideshow": {
     "slide_type": "-"
    }
   },
   "source": [
    "<img src=\"./images/qinsti.png\" align=\"left\" alt=\"drawing\" width=\"100\"/>\n",
    "<br><br>\n",
    "<div align=\"left\">\n",
    "    <h2>Text Preprocessing-Demo</h2>\n",
    "</div>\n",
    "\n"
   ]
  },
  {
   "cell_type": "markdown",
   "metadata": {
    "ein.tags": "worksheet-0",
    "slideshow": {
     "slide_type": "-"
    }
   },
   "source": [
    "## Context"
   ]
  },
  {
   "cell_type": "markdown",
   "metadata": {
    "ein.tags": "worksheet-0",
    "slideshow": {
     "slide_type": "-"
    }
   },
   "source": [
    "The purpose of this notebook is to demonstrate a few text processsing tasks\n"
   ]
  },
  {
   "cell_type": "markdown",
   "metadata": {
    "ein.tags": "worksheet-0",
    "slideshow": {
     "slide_type": "-"
    }
   },
   "source": [
    "## Load Spacy Language Model"
   ]
  },
  {
   "cell_type": "markdown",
   "metadata": {
    "ein.tags": "worksheet-0",
    "slideshow": {
     "slide_type": "-"
    }
   },
   "source": [
    "`Spacy` library in Python has a lot of useful modules for NLP tasks. It has many preprocessing modules and operates with many of the popular deep learning \n",
    "frameworks"
   ]
  },
  {
   "cell_type": "code",
   "execution_count": 4,
   "metadata": {
    "autoscroll": false,
    "ein.hycell": false,
    "ein.tags": "worksheet-0",
    "slideshow": {
     "slide_type": "-"
    }
   },
   "outputs": [],
   "source": [
    "import spacy\n",
    "import pandas as pd\n",
    "import numpy as np\n"
   ]
  },
  {
   "cell_type": "markdown",
   "metadata": {},
   "source": [
    "spaCy101: https://spacy.io/usage/spacy-101#whats-spacy"
   ]
  },
  {
   "cell_type": "code",
   "execution_count": 5,
   "metadata": {},
   "outputs": [
    {
     "data": {
      "image/svg+xml": [
       "<svg class=\"o-svg\" height=\"746\" viewBox=\"-1 -1 907 737\" width=\"906\" xmlns=\"http://www.w3.org/2000/svg\">\n",
       "    <style>\n",
       "        .svg__architecture__text-large, .svg__architecture__text-medium, .svg__architecture__text-small {\n",
       "            font-family: Arial, sans-serif;\n",
       "            fill: #1a1e23\n",
       "        }\n",
       "        .svg__architecture__text-large { font-size: 18px; font-weight: bold }\n",
       "        .svg__architecture__text-medium { font-size: 15px }\n",
       "        .svg__architecture__text-small { font-size: 14px; font-weight: bold }\n",
       "        .svg__architecture__text-code {  font: 600 12px Menlo, Monaco, Consolas, &quot;Liberation Mono&quot;, &quot;Courier New&quot;, monospace }\n",
       "    </style>\n",
       "    <ellipse cx=\"404\" cy=\"203\" fill=\"#dae8fc\" rx=\"74.8\" ry=\"49.8\" stroke=\"#09a3d5\" stroke-width=\"2\"/>\n",
       "    <text class=\"svg__architecture__text-large\" height=\"40\" transform=\"translate(362.5 206.5)\" width=\"81\">Language</text>\n",
       "    <path d=\"M345 432v242.8\" fill=\"none\" stroke=\"#82b366\" stroke-dasharray=\"2 2\" stroke-miterlimit=\"10\" stroke-width=\"2\"/>\n",
       "    <path d=\"M345 680.8l-4-8 4 2 4-2z\" fill=\"#82b366\" stroke=\"#82b366\" stroke-miterlimit=\"10\" stroke-width=\"2\"/>\n",
       "    <rect fill=\"#fff\" height=\"18\" transform=\"translate(324 535.5)\" width=\"37\"/>\n",
       "    <text class=\"svg__architecture__text-small\" dy=\"1em\" height=\"18\" style=\"fill: #82b366\" transform=\"translate(324 535.5)\" width=\"37\">MAKES</text>\n",
       "    <path d=\"M457 434l100.5 80\" fill=\"none\" stroke=\"#999\" stroke-miterlimit=\"10\" stroke-width=\"2\"/>\n",
       "    <path d=\"M562.3 517.6l-8.8-1.8 4-2 1-4.3z\" fill=\"#999\" stroke=\"#999\" stroke-miterlimit=\"10\" stroke-width=\"2\"/>\n",
       "    <rect fill=\"#f6f6f6\" height=\"18\" transform=\"translate(424.5 462.5)\" width=\"158\"/>\n",
       "    <text class=\"svg__architecture__text-code\" dx=\"0.4em\" dy=\"1em\" height=\"18\" transform=\"translate(424.5 462.5)\" width=\"158\">nlp.vocab.morphology</text>\n",
       "    <ellipse cx=\"404\" cy=\"399\" fill=\"#d5e8d4\" rx=\"74.8\" ry=\"49.8\" stroke=\"#82b366\" stroke-width=\"2\"/>\n",
       "    <text class=\"svg__architecture__text-large\" dy=\"1em\" height=\"22\" transform=\"translate(377.5 386.5)\" width=\"51\">Vocab</text>\n",
       "    <path d=\"M404 253v87.8\" fill=\"none\" stroke=\"#999\" stroke-miterlimit=\"10\" stroke-width=\"2\"/>\n",
       "    <path d=\"M404 346.8l-4-8 4 2 4-2z\" fill=\"#999\" stroke=\"#999\" stroke-miterlimit=\"10\" stroke-width=\"2\"/>\n",
       "    <rect fill=\"#f6f6f6\" height=\"18\" transform=\"translate(364.5 285.5)\" width=\"79\"/>\n",
       "    <text class=\"svg__architecture__text-code\" dx=\"0.4em\" dy=\"1em\" height=\"18\" transform=\"translate(364.5 285.5)\" width=\"79\">nlp.vocab</text>\n",
       "    <ellipse cx=\"743\" cy=\"399\" fill=\"#f5f5f5\" rx=\"74.8\" ry=\"49.8\" stroke=\"#666\" stroke-width=\"2\"/>\n",
       "    <text class=\"svg__architecture__text-large\" dy=\"1em\" height=\"22\" transform=\"translate(694.5 386.5)\" width=\"95\">StringStore</text>\n",
       "    <path d=\"M478 399h181.8\" fill=\"none\" stroke=\"#999\" stroke-miterlimit=\"10\" stroke-width=\"2\"/>\n",
       "    <path d=\"M665.8 399l-8 4 2-4-2-4z\" fill=\"#999\" stroke=\"#999\" stroke-miterlimit=\"10\" stroke-width=\"2\"/>\n",
       "    <rect fill=\"#f6f6f6\" height=\"18\" transform=\"translate(498.5 388.5)\" width=\"137\"/>\n",
       "    <text class=\"svg__architecture__text-code\" dx=\"0.4em\" dy=\"1em\" height=\"18\" transform=\"translate(498.5 388.5)\" width=\"137\">nlp.vocab.strings</text>\n",
       "    <path d=\"M108 244l235.6 115.4\" fill=\"none\" stroke=\"#999\" stroke-miterlimit=\"10\" stroke-width=\"2\"/>\n",
       "    <path d=\"M349 362h-9l3.6-2.6V355z\" fill=\"#999\" stroke=\"#999\" stroke-miterlimit=\"10\" stroke-width=\"2\"/>\n",
       "    <rect fill=\"#f6f6f6\" height=\"18\" transform=\"translate(141.5 284.5)\" width=\"151\"/>\n",
       "    <text class=\"svg__architecture__text-code\" dx=\"0.4em\" dy=\"1em\" height=\"18\" transform=\"translate(141.5 284.5)\" width=\"151\">nlp.tokenizer.vocab</text>\n",
       "    <path d=\"M38.7 159.3H104l33 43.6-32.8 43.5H38.7L6 203z\" fill=\"#f8cecc\" stroke=\"#b85450\" stroke-miterlimit=\"10\" stroke-width=\"2\"/>\n",
       "    <text class=\"svg__architecture__text-large\" dy=\"1em\" height=\"22\" transform=\"translate(30.5 190.5)\" width=\"80\">Tokenizer</text>\n",
       "    <path d=\"M329 203v-1H145.2\" fill=\"none\" stroke=\"#999\" stroke-miterlimit=\"10\" stroke-width=\"2\"/>\n",
       "    <path d=\"M139.2 202l8-4-2 4 2 4z\" fill=\"#999\" stroke=\"#999\" stroke-miterlimit=\"10\" stroke-width=\"2\"/>\n",
       "    <rect fill=\"#f6f6f6\" height=\"18\" transform=\"translate(188.5 191.5)\" width=\"115\"/>\n",
       "    <text class=\"svg__architecture__text-code\" dx=\"0.4em\" dy=\"1em\" height=\"18\" transform=\"translate(188.5 191.5)\" width=\"115\">nlp.make_doc()</text>\n",
       "    <path d=\"M478 203h83v-4h105.8\" fill=\"none\" stroke=\"#999\" stroke-miterlimit=\"10\" stroke-width=\"2\"/>\n",
       "    <path d=\"M672.8 199l-8 4 2-4-2-4z\" fill=\"#999\" stroke=\"#999\" stroke-miterlimit=\"10\" stroke-width=\"2\"/>\n",
       "    <rect fill=\"#f6f6f6\" height=\"18\" transform=\"translate(512.5 191.5)\" width=\"101\"/>\n",
       "    <text class=\"svg__architecture__text-code\" dx=\"0.4em\" dy=\"1em\" height=\"18\" transform=\"translate(512.5 191.5)\" width=\"101\">nlp.pipeline</text>\n",
       "    <path d=\"M709 242.8L464.4 359.4\" fill=\"none\" stroke=\"#999\" stroke-miterlimit=\"10\" stroke-width=\"2\"/>\n",
       "    <path d=\"M459 362l5.5-7v4.4l3.5 2.8z\" fill=\"#999\" stroke=\"#999\" stroke-miterlimit=\"10\" stroke-width=\"2\"/>\n",
       "    <rect fill=\"#f6f6f6\" height=\"18\" transform=\"translate(505.5 297.5)\" width=\"166\"/>\n",
       "    <text class=\"svg__architecture__text-code\" dx=\"0.4em\" dy=\"1em\" height=\"18\" transform=\"translate(505.5 297.5)\" width=\"166\">nlp.pipeline[i].vocab</text>\n",
       "    <path d=\"M275.3 34.6L288.6 1h54L329 34.6z\" fill=\"#dae8fc\" stroke=\"#6c8ebf\" stroke-miterlimit=\"10\" stroke-width=\"2\"/>\n",
       "    <text class=\"svg__architecture__text-small\" dy=\"0.85em\" height=\"14\" transform=\"translate(301.5 9.5)\" width=\"12\">pt</text>\n",
       "    <path d=\"M60.8 34.6L74.3 1h54l-13.6 33.6z\" fill=\"#dae8fc\" stroke=\"#6c8ebf\" stroke-miterlimit=\"10\" stroke-width=\"2\"/>\n",
       "    <text class=\"svg__architecture__text-small\" dy=\"0.85em\" height=\"14\" transform=\"translate(86.5 9.5)\" width=\"14\">en</text>\n",
       "    <path d=\"M114.4 34.6L128 1h53.8l-13.5 33.6z\" fill=\"#dae8fc\" stroke=\"#6c8ebf\" stroke-miterlimit=\"10\" stroke-width=\"2\"/>\n",
       "    <text class=\"svg__architecture__text-small\" dy=\"0.85em\" height=\"14\" transform=\"translate(140.5 9.5)\" width=\"14\">de</text>\n",
       "    <path d=\"M168 34.6L181.5 1h54l-13.6 33.6z\" fill=\"#dae8fc\" stroke=\"#6c8ebf\" stroke-miterlimit=\"10\" stroke-width=\"2\"/>\n",
       "    <text class=\"svg__architecture__text-small\" dy=\"0.85em\" height=\"14\" transform=\"translate(196.5 9.5)\" width=\"8\">fr</text>\n",
       "    <path d=\"M221.6 34.6L235 1h54l-13.5 33.6z\" fill=\"#dae8fc\" stroke=\"#6c8ebf\" stroke-miterlimit=\"10\" stroke-width=\"2\"/>\n",
       "    <text class=\"svg__architecture__text-small\" dy=\"0.85em\" height=\"14\" transform=\"translate(248.5 9.5)\" width=\"12\">es</text>\n",
       "    <path d=\"M47 68.3l13.6-33.6h53.8L101 68.3z\" fill=\"#dae8fc\" stroke=\"#6c8ebf\" stroke-miterlimit=\"10\" stroke-width=\"2\"/>\n",
       "    <text class=\"svg__architecture__text-small\" dy=\"0.85em\" height=\"14\" transform=\"translate(75.5 43.5)\" width=\"8\">it</text>\n",
       "    <path d=\"M100.7 68.3l13.5-33.6H168l-13.4 33.6z\" fill=\"#dae8fc\" stroke=\"#6c8ebf\" stroke-miterlimit=\"10\" stroke-width=\"2\"/>\n",
       "    <text class=\"svg__architecture__text-small\" dy=\"0.85em\" height=\"14\" transform=\"translate(127.5 43.5)\" width=\"12\">nl</text>\n",
       "    <path d=\"M154.3 68.3l13.5-33.6h53.8l-13.4 33.6z\" fill=\"#dae8fc\" stroke=\"#6c8ebf\" stroke-miterlimit=\"10\" stroke-width=\"2\"/>\n",
       "    <text class=\"svg__architecture__text-small\" dy=\"0.85em\" height=\"14\" transform=\"translate(180.5 43.5)\" width=\"12\">sv</text>\n",
       "    <path d=\"M208 68.3l13.4-33.6h53.8L262 68.3z\" fill=\"#dae8fc\" stroke=\"#6c8ebf\" stroke-miterlimit=\"10\" stroke-width=\"2\"/>\n",
       "    <text class=\"svg__architecture__text-small\" dy=\"0.85em\" height=\"14\" transform=\"translate(236.5 43.5)\" width=\"8\">fi</text>\n",
       "    <path d=\"M261.5 68.3L275 34.7h54l-13.6 33.6z\" fill=\"#dae8fc\" stroke=\"#6c8ebf\" stroke-miterlimit=\"10\" stroke-width=\"2\"/>\n",
       "    <text class=\"svg__architecture__text-small\" dy=\"0.85em\" height=\"14\" transform=\"translate(286.5 43.5)\" width=\"16\">nb</text>\n",
       "    <path d=\"M33.4 102L47 68.2h53.7L87.3 102z\" fill=\"#dae8fc\" stroke=\"#6c8ebf\" stroke-miterlimit=\"10\" stroke-width=\"2\"/>\n",
       "    <text class=\"svg__architecture__text-small\" dy=\"0.85em\" height=\"14\" transform=\"translate(58.5 77.5)\" width=\"16\">hu</text>\n",
       "    <path d=\"M87 102l13.5-33.7h53.8L141 102z\" fill=\"#dae8fc\" stroke=\"#6c8ebf\" stroke-miterlimit=\"10\" stroke-width=\"2\"/>\n",
       "    <text class=\"svg__architecture__text-small\" dy=\"0.85em\" height=\"14\" transform=\"translate(112.5 77.5)\" width=\"14\">he</text>\n",
       "    <path d=\"M140.6 102L154 68.2h54L194.4 102z\" fill=\"#dae8fc\" stroke=\"#6c8ebf\" stroke-miterlimit=\"10\" stroke-width=\"2\"/>\n",
       "    <text class=\"svg__architecture__text-small\" dy=\"0.85em\" height=\"14\" transform=\"translate(165.5 77.5)\" width=\"16\">bn</text>\n",
       "    <path d=\"M194.2 102l13.5-33.7h53.8L248 102z\" fill=\"#dae8fc\" stroke=\"#6c8ebf\" stroke-miterlimit=\"10\" stroke-width=\"2\"/>\n",
       "    <text class=\"svg__architecture__text-small\" dy=\"0.85em\" height=\"14\" transform=\"translate(221.5 77.5)\" width=\"10\">ja</text>\n",
       "    <path d=\"M247.8 102l13.5-33.7H315L301.8 102z\" fill=\"#dae8fc\" stroke=\"#6c8ebf\" stroke-miterlimit=\"10\" stroke-width=\"2\"/>\n",
       "    <text class=\"svg__architecture__text-small\" dy=\"0.85em\" height=\"14\" transform=\"translate(273.5 77.5)\" width=\"14\">...</text>\n",
       "    <path d=\"M329 51h75v93.8\" fill=\"none\" stroke=\"#999\" stroke-miterlimit=\"10\" stroke-width=\"2\"/>\n",
       "    <path d=\"M404 150.8l-4-8 4 2 4-2z\" fill=\"#999\" stroke=\"#999\" stroke-miterlimit=\"10\" stroke-width=\"2\"/>\n",
       "    <path d=\"M213 480l109.3-76.3\" fill=\"none\" stroke=\"#999\" stroke-miterlimit=\"10\" stroke-width=\"2\"/>\n",
       "    <path d=\"M327.2 400.3L323 408l-.8-4.3-4-2z\" fill=\"#999\" stroke=\"#999\" stroke-miterlimit=\"10\" stroke-width=\"2\"/>\n",
       "    <rect fill=\"#f6f6f6\" height=\"18\" transform=\"translate(226.5 431.5)\" width=\"79\"/>\n",
       "    <text class=\"svg__architecture__text-code\" dx=\"0.4em\" dy=\"1em\" height=\"18\" transform=\"translate(226.5 431.5)\" width=\"79\">doc.vocab</text>\n",
       "    <path d=\"M39.6 555.5l.4 121.3\" fill=\"none\" stroke=\"#9673a6\" stroke-dasharray=\"2 2\" stroke-miterlimit=\"10\" stroke-width=\"2\"/>\n",
       "    <path d=\"M40 682.8l-4-8 4 2 4-2z\" fill=\"#9673a6\" stroke=\"#9673a6\" stroke-miterlimit=\"10\" stroke-width=\"2\"/>\n",
       "    <rect fill=\"#fff\" height=\"18\" transform=\"translate(23.5 604.5)\" width=\"37\"/>\n",
       "    <text class=\"svg__architecture__text-small\" dx=\"-0.5em\" dy=\"1em\" height=\"18\" style=\"fill: #9673a6\" transform=\"translate(23.5 604.5)\" width=\"37\">MAKES</text>\n",
       "    <path d=\"M1 479.5h283v74.8H1z\" fill=\"#e1d5e7\" stroke=\"#9673a6\" stroke-width=\"2\"/>\n",
       "    <text class=\"svg__architecture__text-large\" dy=\"1em\" height=\"22\" transform=\"translate(125.5 504.5)\" width=\"32\">Doc</text>\n",
       "    <path d=\"M71 246v117h1v108.8\" fill=\"none\" stroke=\"#c00\" stroke-dasharray=\"2 2\" stroke-miterlimit=\"10\" stroke-width=\"2\"/>\n",
       "    <path d=\"M72 477.8l-4-8 4 2 4-2z\" fill=\"#c00\" stroke=\"#c00\" stroke-miterlimit=\"10\" stroke-width=\"2\"/>\n",
       "    <rect fill=\"#fff\" height=\"18\" transform=\"translate(54.5 355.5)\" width=\"37\"/>\n",
       "    <text class=\"svg__architecture__text-small\" dx=\"-0.5em\" dy=\"1em\" height=\"18\" style=\"fill: #cc0000\" transform=\"translate(54.5 355.5)\" width=\"37\">MAKES</text>\n",
       "    <path d=\"M104 685l.4-121.2\" fill=\"none\" stroke=\"#999\" stroke-miterlimit=\"10\" stroke-width=\"2\"/>\n",
       "    <path d=\"M104.5 557.8l4 8-4-2-4 2z\" fill=\"#999\" stroke=\"#999\" stroke-miterlimit=\"10\" stroke-width=\"2\"/>\n",
       "    <rect fill=\"#f6f6f6\" height=\"18\" transform=\"translate(62.5 632.5)\" width=\"79\"/>\n",
       "    <text class=\"svg__architecture__text-code\" dx=\"0.4em\" dy=\"1em\" height=\"18\" transform=\"translate(62.5 632.5)\" width=\"79\">token.doc</text>\n",
       "    <path d=\"M7.2 685h129.6v50H7.2z\" fill=\"#f5f5f5\" stroke=\"#666\" stroke-width=\"2\"/>\n",
       "    <text class=\"svg__architecture__text-medium\" dy=\"1em\" height=\"18\" transform=\"translate(49.5 700.5)\" width=\"43\">Token</text>\n",
       "    <path d=\"M148 685h129.7v50H148z\" fill=\"#f5f5f5\" stroke=\"#666\" stroke-width=\"2\"/>\n",
       "    <text class=\"svg__architecture__text-medium\" dy=\"1em\" height=\"18\" transform=\"translate(193.5 700.5)\" width=\"37\">Span</text>\n",
       "    <path d=\"M405 686V456.6\" fill=\"none\" stroke=\"#999\" stroke-miterlimit=\"10\" stroke-width=\"2\"/>\n",
       "    <path d=\"M405 450.6l4 8-4-2-4 2z\" fill=\"#999\" stroke=\"#999\" stroke-miterlimit=\"10\" stroke-width=\"2\"/>\n",
       "    <rect fill=\"#f6f6f6\" height=\"18\" transform=\"translate(356.5 584.5)\" width=\"101\"/>\n",
       "    <text class=\"svg__architecture__text-code\" dx=\"0.4em\" dy=\"1em\" height=\"18\" transform=\"translate(356.5 584.5)\" width=\"101\">lexeme.vocab</text>\n",
       "    <path d=\"M296.7 685h155.8v50H296.7z\" fill=\"#f5f5f5\" stroke=\"#666\" stroke-width=\"2\"/>\n",
       "    <text class=\"svg__architecture__text-medium\" dy=\"1em\" height=\"18\" transform=\"translate(346.5 700.5)\" width=\"55\">Lexeme</text>\n",
       "    <path d=\"M180.5 559.3l.5 117.5\" fill=\"none\" stroke=\"#9673a6\" stroke-dasharray=\"2 2\" stroke-miterlimit=\"10\" stroke-width=\"2\"/>\n",
       "    <path d=\"M181 682.8l-4-8 4 2 4-2z\" fill=\"#9673a6\" stroke=\"#9673a6\" stroke-miterlimit=\"10\" stroke-width=\"2\"/>\n",
       "    <rect fill=\"#fff\" height=\"18\" transform=\"translate(164.5 606.5)\" width=\"37\"/>\n",
       "    <text class=\"svg__architecture__text-small\" dx=\"-0.5em\" dy=\"1em\" height=\"18\" style=\"fill: #9673a6\" transform=\"translate(164.5 606.5)\" width=\"37\">MAKES</text>\n",
       "    <path d=\"M245.3 685V564\" fill=\"none\" stroke=\"#999\" stroke-miterlimit=\"10\" stroke-width=\"2\"/>\n",
       "    <path d=\"M245.3 557.8l4 8-4-2-4 2z\" fill=\"#999\" stroke=\"#999\" stroke-miterlimit=\"10\" stroke-width=\"2\"/>\n",
       "    <rect fill=\"#f6f6f6\" height=\"18\" transform=\"translate(211.5 633.5)\" width=\"72\"/>\n",
       "    <text class=\"svg__architecture__text-code\" dx=\"0.4em\" dy=\"1em\" height=\"18\" transform=\"translate(211.5 633.5)\" width=\"72\">span.doc</text>\n",
       "    <path d=\"M806.6 112H872l32.8 43.5L872 199h-65.4L774 155.6z\" fill=\"#ffe6cc\" stroke=\"#d79b00\" stroke-miterlimit=\"10\" stroke-width=\"2\"/>\n",
       "    <text class=\"svg__architecture__text-medium\" dy=\"1em\" height=\"38\" transform=\"translate(794.5 135.5)\" width=\"88\">Dependency <tspan dx=\"-4.1em\" dy=\"1.25em\">Parser</tspan></text>\n",
       "    <path d=\"M806.6 199H872l32.8 43.8-32.8 43.6h-65.4L774 242.8z\" fill=\"#ffe6cc\" stroke=\"#d79b00\" stroke-miterlimit=\"10\" stroke-width=\"2\"/>\n",
       "    <text class=\"svg__architecture__text-medium\" dx=\"1.1em\" dy=\"1em\" height=\"38\" transform=\"translate(799.5 222.5)\" width=\"78\">Entity <tspan dx=\"-3.75em\" dy=\"1.25em\">Recognizer</tspan></text>\n",
       "    <path d=\"M708 155.5h65.6l32.7 43.6-32.7 43.8H708L675.5 199z\" fill=\"#ffe6cc\" stroke=\"#d79b00\" stroke-miterlimit=\"10\" stroke-width=\"2\"/>\n",
       "    <text class=\"svg__architecture__text-medium\" dy=\"1em\" height=\"18\" transform=\"translate(715.5 189.5)\" width=\"48\">Tagger</text>\n",
       "    <path d=\"M806.8 24.5h65.5L905 68 872.3 112h-65.5L774 68z\" fill=\"#ffe6cc\" stroke=\"#d79b00\" stroke-miterlimit=\"10\" stroke-width=\"2\"/>\n",
       "    <text class=\"svg__architecture__text-medium\" dy=\"1em\" height=\"18\" transform=\"translate(815 50)\" width=\"58\">Custom <tspan dx=\"-4.8em\" dy=\"1.25em\">Components</tspan></text>\n",
       "    <path d=\"M708.6 68H774l32.8 43.5L774 155h-65.4L676 111.6z\" fill=\"#ffe6cc\" stroke=\"#d79b00\" stroke-miterlimit=\"10\" stroke-width=\"2\"/>\n",
       "    <text class=\"svg__architecture__text-medium\" dy=\"1em\" height=\"18\" transform=\"translate(690 101.5)\" width=\"84\">TextCategorizer</text>\n",
       "    <ellipse cx=\"617\" cy=\"555\" fill=\"#f5f5f5\" rx=\"74.8\" ry=\"49.8\" stroke=\"#666\" stroke-width=\"2\"/>\n",
       "    <text class=\"svg__architecture__text-large\" dy=\"1em\" height=\"22\" transform=\"translate(565.5 542.5)\" width=\"101\">Morphology</text>\n",
       "</svg>"
      ],
      "text/plain": [
       "<IPython.core.display.SVG object>"
      ]
     },
     "execution_count": 5,
     "metadata": {},
     "output_type": "execute_result"
    }
   ],
   "source": [
    "from IPython.core.display import SVG\n",
    "SVG(filename='SpacyArchitecture.svg')"
   ]
  },
  {
   "cell_type": "markdown",
   "metadata": {
    "ein.tags": "worksheet-0",
    "slideshow": {
     "slide_type": "-"
    }
   },
   "source": [
    "## Load News Data"
   ]
  },
  {
   "cell_type": "markdown",
   "metadata": {
    "ein.tags": "worksheet-0",
    "slideshow": {
     "slide_type": "-"
    }
   },
   "source": [
    "The dataset comprises sample news item from the financial domain. These news items are related to *commodity arbitrage* and *loans* related items "
   ]
  },
  {
   "cell_type": "code",
   "execution_count": 26,
   "metadata": {
    "autoscroll": false,
    "ein.hycell": false,
    "ein.tags": "worksheet-0",
    "slideshow": {
     "slide_type": "-"
    }
   },
   "outputs": [
    {
     "data": {
      "text/plain": [
       "\"TAIPEI, April 15 (Reuter) - Taiwan's money rates finished\\nmixed on Monday, dealers expecting overnight to rise further\\namid current bullish stock market and income tax payments.\\n    Overnight ended at 6.134 percent against Saturday's 5.949,\\nwhile 30-day commercial paper fell to 7.00 from 7.10-7.15.\\n    Though Taiwan share prices hit a new 11-month high on\\nMonday, attracting liquidity into the stock market, bond traders\\ndid not expect significantly tighter conditions as the central\\nbank monetary policy remains relaxed.\\n\""
      ]
     },
     "execution_count": 26,
     "metadata": {},
     "output_type": "execute_result"
    }
   ],
   "source": [
    "with open(\"./data/sample-news-item.txt\",\"r\") as f:\n",
    "     news_item = \"\".join(f.readlines())\n",
    "news_item"
   ]
  },
  {
   "cell_type": "markdown",
   "metadata": {},
   "source": [
    "### Spacy Pipeline"
   ]
  },
  {
   "cell_type": "markdown",
   "metadata": {},
   "source": [
    "<img src=\"./images/pipeline.png\" align=\"center\" alt=\"drawing\" width=\"600\"/>\n"
   ]
  },
  {
   "cell_type": "code",
   "execution_count": 27,
   "metadata": {},
   "outputs": [
    {
     "name": "stdout",
     "output_type": "stream",
     "text": [
      "<class 'spacy.lang.en.English'>\n"
     ]
    },
    {
     "data": {
      "text/plain": [
       "[('tagger', <spacy.pipeline.pipes.Tagger at 0x28990a6d088>),\n",
       " ('parser', <spacy.pipeline.pipes.DependencyParser at 0x28989c7eac8>),\n",
       " ('ner', <spacy.pipeline.pipes.EntityRecognizer at 0x28989c7e888>)]"
      ]
     },
     "execution_count": 27,
     "metadata": {},
     "output_type": "execute_result"
    }
   ],
   "source": [
    "nlp = spacy.load('en_core_web_lg')\n",
    "print(type(nlp))\n",
    "nlp.pipeline"
   ]
  },
  {
   "cell_type": "markdown",
   "metadata": {
    "ein.tags": "worksheet-0",
    "slideshow": {
     "slide_type": "-"
    }
   },
   "source": [
    "## Create a `doc` object"
   ]
  },
  {
   "cell_type": "code",
   "execution_count": 28,
   "metadata": {
    "autoscroll": false,
    "ein.hycell": false,
    "ein.tags": "worksheet-0",
    "slideshow": {
     "slide_type": "-"
    }
   },
   "outputs": [
    {
     "name": "stdout",
     "output_type": "stream",
     "text": [
      "<class 'spacy.tokens.doc.Doc'>\n",
      "561\n"
     ]
    }
   ],
   "source": [
    "doc = nlp(news_item)\n",
    "print(type(doc))\n",
    "print(len(doc.vocab))"
   ]
  },
  {
   "cell_type": "markdown",
   "metadata": {
    "ein.tags": "worksheet-0",
    "slideshow": {
     "slide_type": "-"
    }
   },
   "source": [
    "### Print all the tokens"
   ]
  },
  {
   "cell_type": "code",
   "execution_count": 29,
   "metadata": {
    "autoscroll": false,
    "ein.hycell": false,
    "ein.tags": "worksheet-0",
    "slideshow": {
     "slide_type": "-"
    }
   },
   "outputs": [
    {
     "data": {
      "text/plain": [
       "[('TAIPEI', spacy.tokens.token.Token),\n",
       " (',', spacy.tokens.token.Token),\n",
       " ('April', spacy.tokens.token.Token),\n",
       " ('15', spacy.tokens.token.Token),\n",
       " ('(', spacy.tokens.token.Token),\n",
       " ('Reuter', spacy.tokens.token.Token),\n",
       " (')', spacy.tokens.token.Token),\n",
       " ('-', spacy.tokens.token.Token),\n",
       " ('Taiwan', spacy.tokens.token.Token),\n",
       " (\"'s\", spacy.tokens.token.Token),\n",
       " ('money', spacy.tokens.token.Token),\n",
       " ('rates', spacy.tokens.token.Token),\n",
       " ('finished', spacy.tokens.token.Token),\n",
       " ('\\n', spacy.tokens.token.Token),\n",
       " ('mixed', spacy.tokens.token.Token),\n",
       " ('on', spacy.tokens.token.Token),\n",
       " ('Monday', spacy.tokens.token.Token),\n",
       " (',', spacy.tokens.token.Token),\n",
       " ('dealers', spacy.tokens.token.Token),\n",
       " ('expecting', spacy.tokens.token.Token),\n",
       " ('overnight', spacy.tokens.token.Token),\n",
       " ('to', spacy.tokens.token.Token),\n",
       " ('rise', spacy.tokens.token.Token),\n",
       " ('further', spacy.tokens.token.Token),\n",
       " ('\\n', spacy.tokens.token.Token),\n",
       " ('amid', spacy.tokens.token.Token),\n",
       " ('current', spacy.tokens.token.Token),\n",
       " ('bullish', spacy.tokens.token.Token),\n",
       " ('stock', spacy.tokens.token.Token),\n",
       " ('market', spacy.tokens.token.Token),\n",
       " ('and', spacy.tokens.token.Token),\n",
       " ('income', spacy.tokens.token.Token),\n",
       " ('tax', spacy.tokens.token.Token),\n",
       " ('payments', spacy.tokens.token.Token),\n",
       " ('.', spacy.tokens.token.Token),\n",
       " ('\\n    ', spacy.tokens.token.Token),\n",
       " ('Overnight', spacy.tokens.token.Token),\n",
       " ('ended', spacy.tokens.token.Token),\n",
       " ('at', spacy.tokens.token.Token),\n",
       " ('6.134', spacy.tokens.token.Token),\n",
       " ('percent', spacy.tokens.token.Token),\n",
       " ('against', spacy.tokens.token.Token),\n",
       " ('Saturday', spacy.tokens.token.Token),\n",
       " (\"'s\", spacy.tokens.token.Token),\n",
       " ('5.949', spacy.tokens.token.Token),\n",
       " (',', spacy.tokens.token.Token),\n",
       " ('\\n', spacy.tokens.token.Token),\n",
       " ('while', spacy.tokens.token.Token),\n",
       " ('30-day', spacy.tokens.token.Token),\n",
       " ('commercial', spacy.tokens.token.Token),\n",
       " ('paper', spacy.tokens.token.Token),\n",
       " ('fell', spacy.tokens.token.Token),\n",
       " ('to', spacy.tokens.token.Token),\n",
       " ('7.00', spacy.tokens.token.Token),\n",
       " ('from', spacy.tokens.token.Token),\n",
       " ('7.10', spacy.tokens.token.Token),\n",
       " ('-', spacy.tokens.token.Token),\n",
       " ('7.15', spacy.tokens.token.Token),\n",
       " ('.', spacy.tokens.token.Token),\n",
       " ('\\n    ', spacy.tokens.token.Token),\n",
       " ('Though', spacy.tokens.token.Token),\n",
       " ('Taiwan', spacy.tokens.token.Token),\n",
       " ('share', spacy.tokens.token.Token),\n",
       " ('prices', spacy.tokens.token.Token),\n",
       " ('hit', spacy.tokens.token.Token),\n",
       " ('a', spacy.tokens.token.Token),\n",
       " ('new', spacy.tokens.token.Token),\n",
       " ('11-month', spacy.tokens.token.Token),\n",
       " ('high', spacy.tokens.token.Token),\n",
       " ('on', spacy.tokens.token.Token),\n",
       " ('\\n', spacy.tokens.token.Token),\n",
       " ('Monday', spacy.tokens.token.Token),\n",
       " (',', spacy.tokens.token.Token),\n",
       " ('attracting', spacy.tokens.token.Token),\n",
       " ('liquidity', spacy.tokens.token.Token),\n",
       " ('into', spacy.tokens.token.Token),\n",
       " ('the', spacy.tokens.token.Token),\n",
       " ('stock', spacy.tokens.token.Token),\n",
       " ('market', spacy.tokens.token.Token),\n",
       " (',', spacy.tokens.token.Token),\n",
       " ('bond', spacy.tokens.token.Token),\n",
       " ('traders', spacy.tokens.token.Token),\n",
       " ('\\n', spacy.tokens.token.Token),\n",
       " ('did', spacy.tokens.token.Token),\n",
       " ('not', spacy.tokens.token.Token),\n",
       " ('expect', spacy.tokens.token.Token),\n",
       " ('significantly', spacy.tokens.token.Token),\n",
       " ('tighter', spacy.tokens.token.Token),\n",
       " ('conditions', spacy.tokens.token.Token),\n",
       " ('as', spacy.tokens.token.Token),\n",
       " ('the', spacy.tokens.token.Token),\n",
       " ('central', spacy.tokens.token.Token),\n",
       " ('\\n', spacy.tokens.token.Token),\n",
       " ('bank', spacy.tokens.token.Token),\n",
       " ('monetary', spacy.tokens.token.Token),\n",
       " ('policy', spacy.tokens.token.Token),\n",
       " ('remains', spacy.tokens.token.Token),\n",
       " ('relaxed', spacy.tokens.token.Token),\n",
       " ('.', spacy.tokens.token.Token),\n",
       " ('\\n', spacy.tokens.token.Token)]"
      ]
     },
     "execution_count": 29,
     "metadata": {},
     "output_type": "execute_result"
    }
   ],
   "source": [
    "([(t.text,type(t)) for t in doc])"
   ]
  },
  {
   "cell_type": "markdown",
   "metadata": {},
   "source": [
    "### Spacy attached attributes to each of the tokens"
   ]
  },
  {
   "cell_type": "code",
   "execution_count": 30,
   "metadata": {},
   "outputs": [
    {
     "name": "stdout",
     "output_type": "stream",
     "text": [
      "TAIPEI PROPN ROOT\n"
     ]
    }
   ],
   "source": [
    "for token in doc:\n",
    "    print(token.text, token.pos_, token.dep_)\n",
    "    break"
   ]
  },
  {
   "cell_type": "markdown",
   "metadata": {},
   "source": [
    "### Explore various features : Slicing,Parts of Speech, Dependencies, Lemma, Span"
   ]
  },
  {
   "cell_type": "code",
   "execution_count": 31,
   "metadata": {},
   "outputs": [
    {
     "name": "stdout",
     "output_type": "stream",
     "text": [
      "Taiwan \n",
      " <class 'spacy.tokens.token.Token'> \n",
      " PROPN \n",
      " poss \n",
      " Taiwan \n",
      " NNP \n",
      " , April 15 (Reuter) - Taiwan \n",
      " <class 'spacy.tokens.span.Span'>\n"
     ]
    }
   ],
   "source": [
    "print(doc[8], \"\\n\",\n",
    "      type(doc[8]),\"\\n\", \n",
    "      doc[8].pos_,\"\\n\",\n",
    "      doc[8].dep_, \"\\n\",\n",
    "      doc[8].lemma_,\"\\n\",\n",
    "      doc[8].tag_, \"\\n\",\n",
    "      doc[1:9],\"\\n\",\n",
    "      type(doc[1:9]))\n"
   ]
  },
  {
   "cell_type": "markdown",
   "metadata": {},
   "source": [
    "### Get Sentences"
   ]
  },
  {
   "cell_type": "code",
   "execution_count": 32,
   "metadata": {},
   "outputs": [
    {
     "name": "stdout",
     "output_type": "stream",
     "text": [
      "Sentence 0 \n",
      " TAIPEI, April 15 \n",
      "\n",
      "Sentence 1 \n",
      " (Reuter) - \n",
      "\n",
      "Sentence 2 \n",
      " Taiwan's money rates finished\n",
      "mixed on Monday, dealers expecting overnight to rise further\n",
      "amid current bullish stock market and income tax payments.\n",
      "     \n",
      "\n",
      "Sentence 3 \n",
      " Overnight ended at 6.134 percent against Saturday's 5.949,\n",
      "while 30-day commercial paper fell to 7.00 from 7.10-7.15.\n",
      "     \n",
      "\n",
      "Sentence 4 \n",
      " Though Taiwan share prices hit a new 11-month high on\n",
      "Monday, attracting liquidity into the stock market, bond traders\n",
      "did not expect significantly tighter conditions as the central\n",
      "bank monetary policy remains relaxed.\n",
      " \n",
      "\n"
     ]
    }
   ],
   "source": [
    "for i, sent in enumerate(doc.sents): print(f\"Sentence {i} \\n {sent} \\n\")"
   ]
  },
  {
   "cell_type": "markdown",
   "metadata": {},
   "source": [
    "### Named Entities"
   ]
  },
  {
   "cell_type": "code",
   "execution_count": 33,
   "metadata": {},
   "outputs": [
    {
     "name": "stdout",
     "output_type": "stream",
     "text": [
      "TAIPEI - GPE - Countries, cities, states\n",
      "April 15 - DATE - Absolute or relative dates or periods\n",
      "Reuter - PERSON - People, including fictional\n",
      "Taiwan - GPE - Countries, cities, states\n",
      "Monday - DATE - Absolute or relative dates or periods\n",
      "overnight - TIME - Times smaller than a day\n",
      "Overnight - TIME - Times smaller than a day\n",
      "6.134 percent - PERCENT - Percentage, including \"%\"\n",
      "Saturday - DATE - Absolute or relative dates or periods\n",
      "5.949 - CARDINAL - Numerals that do not fall under another type\n",
      "30-day - DATE - Absolute or relative dates or periods\n",
      "7.00 - CARDINAL - Numerals that do not fall under another type\n",
      "7.10 - CARDINAL - Numerals that do not fall under another type\n",
      "Taiwan - GPE - Countries, cities, states\n",
      "11-month - DATE - Absolute or relative dates or periods\n",
      "Monday - DATE - Absolute or relative dates or periods\n"
     ]
    }
   ],
   "source": [
    "for ent in doc.ents:\n",
    "    print(ent.text+' - '+ent.label_+' - '+str(spacy.explain(ent.label_)))"
   ]
  },
  {
   "cell_type": "code",
   "execution_count": 34,
   "metadata": {},
   "outputs": [
    {
     "data": {
      "text/html": [
       "<span class=\"tex2jax_ignore\"><div class=\"entities\" style=\"line-height: 2.5; direction: ltr\">\n",
       "<mark class=\"entity\" style=\"background: #feca74; padding: 0.45em 0.6em; margin: 0 0.25em; line-height: 1; border-radius: 0.35em;\">\n",
       "    TAIPEI\n",
       "    <span style=\"font-size: 0.8em; font-weight: bold; line-height: 1; border-radius: 0.35em; text-transform: uppercase; vertical-align: middle; margin-left: 0.5rem\">GPE</span>\n",
       "</mark>\n",
       ", \n",
       "<mark class=\"entity\" style=\"background: #bfe1d9; padding: 0.45em 0.6em; margin: 0 0.25em; line-height: 1; border-radius: 0.35em;\">\n",
       "    April 15\n",
       "    <span style=\"font-size: 0.8em; font-weight: bold; line-height: 1; border-radius: 0.35em; text-transform: uppercase; vertical-align: middle; margin-left: 0.5rem\">DATE</span>\n",
       "</mark>\n",
       " (\n",
       "<mark class=\"entity\" style=\"background: #aa9cfc; padding: 0.45em 0.6em; margin: 0 0.25em; line-height: 1; border-radius: 0.35em;\">\n",
       "    Reuter\n",
       "    <span style=\"font-size: 0.8em; font-weight: bold; line-height: 1; border-radius: 0.35em; text-transform: uppercase; vertical-align: middle; margin-left: 0.5rem\">PERSON</span>\n",
       "</mark>\n",
       ") - \n",
       "<mark class=\"entity\" style=\"background: #feca74; padding: 0.45em 0.6em; margin: 0 0.25em; line-height: 1; border-radius: 0.35em;\">\n",
       "    Taiwan\n",
       "    <span style=\"font-size: 0.8em; font-weight: bold; line-height: 1; border-radius: 0.35em; text-transform: uppercase; vertical-align: middle; margin-left: 0.5rem\">GPE</span>\n",
       "</mark>\n",
       "'s money rates finished</br>mixed on \n",
       "<mark class=\"entity\" style=\"background: #bfe1d9; padding: 0.45em 0.6em; margin: 0 0.25em; line-height: 1; border-radius: 0.35em;\">\n",
       "    Monday\n",
       "    <span style=\"font-size: 0.8em; font-weight: bold; line-height: 1; border-radius: 0.35em; text-transform: uppercase; vertical-align: middle; margin-left: 0.5rem\">DATE</span>\n",
       "</mark>\n",
       ", dealers expecting \n",
       "<mark class=\"entity\" style=\"background: #bfe1d9; padding: 0.45em 0.6em; margin: 0 0.25em; line-height: 1; border-radius: 0.35em;\">\n",
       "    overnight\n",
       "    <span style=\"font-size: 0.8em; font-weight: bold; line-height: 1; border-radius: 0.35em; text-transform: uppercase; vertical-align: middle; margin-left: 0.5rem\">TIME</span>\n",
       "</mark>\n",
       " to rise further</br>amid current bullish stock market and income tax payments.</br>    \n",
       "<mark class=\"entity\" style=\"background: #bfe1d9; padding: 0.45em 0.6em; margin: 0 0.25em; line-height: 1; border-radius: 0.35em;\">\n",
       "    Overnight\n",
       "    <span style=\"font-size: 0.8em; font-weight: bold; line-height: 1; border-radius: 0.35em; text-transform: uppercase; vertical-align: middle; margin-left: 0.5rem\">TIME</span>\n",
       "</mark>\n",
       " ended at \n",
       "<mark class=\"entity\" style=\"background: #e4e7d2; padding: 0.45em 0.6em; margin: 0 0.25em; line-height: 1; border-radius: 0.35em;\">\n",
       "    6.134 percent\n",
       "    <span style=\"font-size: 0.8em; font-weight: bold; line-height: 1; border-radius: 0.35em; text-transform: uppercase; vertical-align: middle; margin-left: 0.5rem\">PERCENT</span>\n",
       "</mark>\n",
       " against \n",
       "<mark class=\"entity\" style=\"background: #bfe1d9; padding: 0.45em 0.6em; margin: 0 0.25em; line-height: 1; border-radius: 0.35em;\">\n",
       "    Saturday\n",
       "    <span style=\"font-size: 0.8em; font-weight: bold; line-height: 1; border-radius: 0.35em; text-transform: uppercase; vertical-align: middle; margin-left: 0.5rem\">DATE</span>\n",
       "</mark>\n",
       "'s \n",
       "<mark class=\"entity\" style=\"background: #e4e7d2; padding: 0.45em 0.6em; margin: 0 0.25em; line-height: 1; border-radius: 0.35em;\">\n",
       "    5.949\n",
       "    <span style=\"font-size: 0.8em; font-weight: bold; line-height: 1; border-radius: 0.35em; text-transform: uppercase; vertical-align: middle; margin-left: 0.5rem\">CARDINAL</span>\n",
       "</mark>\n",
       ",</br>while \n",
       "<mark class=\"entity\" style=\"background: #bfe1d9; padding: 0.45em 0.6em; margin: 0 0.25em; line-height: 1; border-radius: 0.35em;\">\n",
       "    30-day\n",
       "    <span style=\"font-size: 0.8em; font-weight: bold; line-height: 1; border-radius: 0.35em; text-transform: uppercase; vertical-align: middle; margin-left: 0.5rem\">DATE</span>\n",
       "</mark>\n",
       " commercial paper fell to \n",
       "<mark class=\"entity\" style=\"background: #e4e7d2; padding: 0.45em 0.6em; margin: 0 0.25em; line-height: 1; border-radius: 0.35em;\">\n",
       "    7.00\n",
       "    <span style=\"font-size: 0.8em; font-weight: bold; line-height: 1; border-radius: 0.35em; text-transform: uppercase; vertical-align: middle; margin-left: 0.5rem\">CARDINAL</span>\n",
       "</mark>\n",
       " from \n",
       "<mark class=\"entity\" style=\"background: #e4e7d2; padding: 0.45em 0.6em; margin: 0 0.25em; line-height: 1; border-radius: 0.35em;\">\n",
       "    7.10\n",
       "    <span style=\"font-size: 0.8em; font-weight: bold; line-height: 1; border-radius: 0.35em; text-transform: uppercase; vertical-align: middle; margin-left: 0.5rem\">CARDINAL</span>\n",
       "</mark>\n",
       "-7.15.</br>    Though \n",
       "<mark class=\"entity\" style=\"background: #feca74; padding: 0.45em 0.6em; margin: 0 0.25em; line-height: 1; border-radius: 0.35em;\">\n",
       "    Taiwan\n",
       "    <span style=\"font-size: 0.8em; font-weight: bold; line-height: 1; border-radius: 0.35em; text-transform: uppercase; vertical-align: middle; margin-left: 0.5rem\">GPE</span>\n",
       "</mark>\n",
       " share prices hit a new \n",
       "<mark class=\"entity\" style=\"background: #bfe1d9; padding: 0.45em 0.6em; margin: 0 0.25em; line-height: 1; border-radius: 0.35em;\">\n",
       "    11-month\n",
       "    <span style=\"font-size: 0.8em; font-weight: bold; line-height: 1; border-radius: 0.35em; text-transform: uppercase; vertical-align: middle; margin-left: 0.5rem\">DATE</span>\n",
       "</mark>\n",
       " high on</br>\n",
       "<mark class=\"entity\" style=\"background: #bfe1d9; padding: 0.45em 0.6em; margin: 0 0.25em; line-height: 1; border-radius: 0.35em;\">\n",
       "    Monday\n",
       "    <span style=\"font-size: 0.8em; font-weight: bold; line-height: 1; border-radius: 0.35em; text-transform: uppercase; vertical-align: middle; margin-left: 0.5rem\">DATE</span>\n",
       "</mark>\n",
       ", attracting liquidity into the stock market, bond traders</br>did not expect significantly tighter conditions as the central</br>bank monetary policy remains relaxed.</br></div></span>"
      ],
      "text/plain": [
       "<IPython.core.display.HTML object>"
      ]
     },
     "metadata": {},
     "output_type": "display_data"
    }
   ],
   "source": [
    "from spacy import displacy\n",
    "displacy.render(doc, style='ent', jupyter=True)"
   ]
  },
  {
   "cell_type": "markdown",
   "metadata": {},
   "source": [
    "### Noun Chunks\n",
    "Flat Phrases with noun head"
   ]
  },
  {
   "cell_type": "code",
   "execution_count": 35,
   "metadata": {},
   "outputs": [
    {
     "name": "stdout",
     "output_type": "stream",
     "text": [
      "TAIPEI\n",
      "(Reuter\n",
      "Taiwan's money rates\n",
      "Monday\n",
      "dealers\n",
      "current bullish stock market and income tax payments\n",
      "6.134 percent\n",
      "30-day commercial paper\n",
      "Taiwan\n",
      "a new 11-month high\n",
      "liquidity\n",
      "the stock market\n",
      "bond traders\n",
      "significantly tighter conditions\n",
      "the central\n",
      "bank monetary policy\n"
     ]
    }
   ],
   "source": [
    "for chunk in doc.noun_chunks:\n",
    "    print(chunk.text)"
   ]
  },
  {
   "cell_type": "markdown",
   "metadata": {
    "ein.tags": "worksheet-0",
    "slideshow": {
     "slide_type": "-"
    }
   },
   "source": [
    "### Remove Spaces"
   ]
  },
  {
   "cell_type": "code",
   "execution_count": 36,
   "metadata": {
    "autoscroll": false,
    "ein.hycell": false,
    "ein.tags": "worksheet-0",
    "slideshow": {
     "slide_type": "-"
    }
   },
   "outputs": [
    {
     "data": {
      "text/plain": [
       "\"TAIPEI , April 15 ( Reuter ) - Taiwan 's money rates finished mixed on Monday , dealers expecting overnight to rise further amid current bullish stock market and income tax payments . Overnight ended at 6.134 percent against Saturday 's 5.949 , while 30-day commercial paper fell to 7.00 from 7.10 - 7.15 . Though Taiwan share prices hit a new 11-month high on Monday , attracting liquidity into the stock market , bond traders did not expect significantly tighter conditions as the central bank monetary policy remains relaxed .\""
      ]
     },
     "execution_count": 36,
     "metadata": {},
     "output_type": "execute_result"
    }
   ],
   "source": [
    "tokens = [t for t in doc if t.is_space==False]\n",
    "\" \".join([t.text for t in tokens])\n"
   ]
  },
  {
   "cell_type": "markdown",
   "metadata": {
    "ein.tags": "worksheet-0",
    "slideshow": {
     "slide_type": "-"
    }
   },
   "source": [
    "### Removing punctuation"
   ]
  },
  {
   "cell_type": "code",
   "execution_count": 37,
   "metadata": {
    "autoscroll": false,
    "ein.hycell": false,
    "ein.tags": "worksheet-0",
    "slideshow": {
     "slide_type": "-"
    }
   },
   "outputs": [
    {
     "data": {
      "text/plain": [
       "\"TAIPEI April 15 Reuter Taiwan 's money rates finished \\n mixed on Monday dealers expecting overnight to rise further \\n amid current bullish stock market and income tax payments \\n     Overnight ended at 6.134 percent against Saturday 's 5.949 \\n while 30-day commercial paper fell to 7.00 from 7.10 7.15 \\n     Though Taiwan share prices hit a new 11-month high on \\n Monday attracting liquidity into the stock market bond traders \\n did not expect significantly tighter conditions as the central \\n bank monetary policy remains relaxed \\n\""
      ]
     },
     "execution_count": 37,
     "metadata": {},
     "output_type": "execute_result"
    }
   ],
   "source": [
    "tokens = [t for t in doc if t.is_punct==False]\n",
    "\" \".join([t.text for t in tokens])"
   ]
  },
  {
   "cell_type": "markdown",
   "metadata": {
    "ein.tags": "worksheet-0",
    "slideshow": {
     "slide_type": "-"
    }
   },
   "source": [
    "### Removing Stopwords"
   ]
  },
  {
   "cell_type": "code",
   "execution_count": 38,
   "metadata": {},
   "outputs": [
    {
     "data": {
      "text/plain": [
       "326"
      ]
     },
     "execution_count": 38,
     "metadata": {},
     "output_type": "execute_result"
    }
   ],
   "source": [
    "len(nlp.Defaults.stop_words)"
   ]
  },
  {
   "cell_type": "code",
   "execution_count": 39,
   "metadata": {
    "autoscroll": false,
    "ein.hycell": false,
    "ein.tags": "worksheet-0",
    "slideshow": {
     "slide_type": "-"
    }
   },
   "outputs": [
    {
     "data": {
      "text/plain": [
       "'TAIPEI , April 15 ( Reuter ) - Taiwan money rates finished \\n mixed Monday , dealers expecting overnight rise \\n amid current bullish stock market income tax payments . \\n     Overnight ended 6.134 percent Saturday 5.949 , \\n 30-day commercial paper fell 7.00 7.10 - 7.15 . \\n     Taiwan share prices hit new 11-month high \\n Monday , attracting liquidity stock market , bond traders \\n expect significantly tighter conditions central \\n bank monetary policy remains relaxed . \\n'"
      ]
     },
     "execution_count": 39,
     "metadata": {},
     "output_type": "execute_result"
    }
   ],
   "source": [
    "tokens = [t for t in doc if t.is_stop==False]\n",
    "\" \".join([t.text for t in tokens])"
   ]
  },
  {
   "cell_type": "markdown",
   "metadata": {
    "ein.tags": "worksheet-0",
    "slideshow": {
     "slide_type": "-"
    }
   },
   "source": [
    "### Removing Numbers"
   ]
  },
  {
   "cell_type": "code",
   "execution_count": 40,
   "metadata": {
    "autoscroll": false,
    "ein.hycell": false,
    "ein.tags": "worksheet-0",
    "slideshow": {
     "slide_type": "-"
    }
   },
   "outputs": [
    {
     "data": {
      "text/plain": [
       "\"TAIPEI , April ( Reuter ) - Taiwan 's money rates finished \\n mixed on Monday , dealers expecting overnight to rise further \\n amid current bullish stock market and income tax payments . \\n     Overnight ended at percent against Saturday 's , \\n while 30-day commercial paper fell to from - . \\n     Though Taiwan share prices hit a new 11-month high on \\n Monday , attracting liquidity into the stock market , bond traders \\n did not expect significantly tighter conditions as the central \\n bank monetary policy remains relaxed . \\n\""
      ]
     },
     "execution_count": 40,
     "metadata": {},
     "output_type": "execute_result"
    }
   ],
   "source": [
    "tokens = [t for t in doc if t.like_num==False]\n",
    "\" \".join([t.text for t in tokens])"
   ]
  },
  {
   "cell_type": "markdown",
   "metadata": {
    "ein.tags": "worksheet-0",
    "slideshow": {
     "slide_type": "-"
    }
   },
   "source": [
    "### Lemmatization"
   ]
  },
  {
   "cell_type": "code",
   "execution_count": 41,
   "metadata": {
    "autoscroll": false,
    "ein.hycell": false,
    "ein.tags": "worksheet-0",
    "slideshow": {
     "slide_type": "-"
    }
   },
   "outputs": [
    {
     "name": "stdout",
     "output_type": "stream",
     "text": [
      "TAIPEI April Reuter Taiwan money rates finished mixed Monday dealers expecting overnight rise amid current bullish stock market income tax payments Overnight ended percent Saturday commercial paper fell Taiwan share prices hit new high Monday attracting liquidity stock market bond traders expect significantly tighter conditions central bank monetary policy remains relaxed\n",
      "TAIPEI April Reuter Taiwan money rate finish mix Monday dealer expect overnight rise amid current bullish stock market income tax payment overnight end percent Saturday commercial paper fall Taiwan share price hit new high Monday attract liquidity stock market bond trader expect significantly tight condition central bank monetary policy remain relaxed\n"
     ]
    }
   ],
   "source": [
    "tokens = [t for t in doc if t.is_alpha and not(t.is_space or t.is_punct or t.is_stop or t.like_num)]\n",
    "print(\" \".join([t.text for t in tokens ]))\n",
    "print(\" \".join([t.lemma_  for t in tokens ]))\n"
   ]
  },
  {
   "cell_type": "code",
   "execution_count": 42,
   "metadata": {},
   "outputs": [
    {
     "name": "stdout",
     "output_type": "stream",
     "text": [
      "TAIPEI \t PROPN \t 11625247729534412431 \t TAIPEI\n",
      ", \t PUNCT \t 2593208677638477497 \t ,\n",
      "April \t PROPN \t 6762527065225415734 \t April\n",
      "15 \t NUM \t 13771760024209633521 \t 15\n",
      "( \t PUNCT \t 12638816674900267446 \t (\n",
      "Reuter \t PROPN \t 4553298858418451913 \t Reuter\n",
      ") \t PUNCT \t 3842344029291005339 \t )\n",
      "- \t PUNCT \t 9153284864653046197 \t -\n",
      "Taiwan \t PROPN \t 9905814886496518454 \t Taiwan\n",
      "'s \t PART \t 16428057658620181782 \t 's\n",
      "money \t NOUN \t 14917444839815175757 \t money\n",
      "rates \t NOUN \t 17781086385965795670 \t rate\n"
     ]
    }
   ],
   "source": [
    "\n",
    "for i, token in enumerate(doc):\n",
    "    print(token.text, '\\t', token.pos_, '\\t', token.lemma, '\\t', token.lemma_)\n",
    "    if i > 10:break"
   ]
  },
  {
   "cell_type": "markdown",
   "metadata": {
    "ein.tags": "worksheet-0",
    "slideshow": {
     "slide_type": "-"
    }
   },
   "source": [
    "### POS tagging"
   ]
  },
  {
   "cell_type": "code",
   "execution_count": 43,
   "metadata": {
    "autoscroll": false,
    "ein.hycell": false,
    "ein.tags": "worksheet-0",
    "slideshow": {
     "slide_type": "-"
    }
   },
   "outputs": [
    {
     "name": "stdout",
     "output_type": "stream",
     "text": [
      "PROPN PROPN PROPN PROPN NOUN NOUN VERB VERB PROPN NOUN VERB ADV VERB ADP ADJ ADJ NOUN NOUN NOUN NOUN NOUN ADV VERB NOUN PROPN ADJ NOUN VERB PROPN NOUN NOUN VERB ADJ NOUN PROPN VERB NOUN NOUN NOUN NOUN NOUN VERB ADV ADJ NOUN PROPN NOUN ADJ NOUN VERB ADJ\n"
     ]
    }
   ],
   "source": [
    "tokens = [t for t in doc if t.is_alpha and not(t.is_space or t.is_punct or t.is_stop or t.like_num)]\n",
    "print(\" \".join([t.pos_  for t in tokens ]))\n"
   ]
  },
  {
   "cell_type": "markdown",
   "metadata": {
    "ein.tags": "worksheet-0",
    "slideshow": {
     "slide_type": "-"
    }
   },
   "source": [
    "## Create Document Term Matrix"
   ]
  },
  {
   "cell_type": "markdown",
   "metadata": {},
   "source": [
    "### Load the dataset"
   ]
  },
  {
   "cell_type": "markdown",
   "metadata": {},
   "source": [
    "The dataset comprises sample news item from the financial domain. These news items are related to *commodity arbitrage* and *loans* related items "
   ]
  },
  {
   "cell_type": "code",
   "execution_count": 23,
   "metadata": {},
   "outputs": [
    {
     "data": {
      "text/plain": [
       "N2:COMARB    1484\n",
       "N2:LOA       1368\n",
       "Name: topic, dtype: int64"
      ]
     },
     "execution_count": 23,
     "metadata": {},
     "output_type": "execute_result"
    }
   ],
   "source": [
    "news_items = pd.read_csv(\"./data/news-body-samples-v1.csv\",sep=\"\\t\")\n",
    "news_items.topic.value_counts()\n",
    "cond       = news_items.apply(lambda x: 300<=len(x['body']) <=6000, axis=1)\n",
    "news_items = news_items.assign(l_status = cond)\n",
    "news_items = news_items[news_items.l_status==True]\n",
    "news_items.topic.value_counts()"
   ]
  },
  {
   "cell_type": "code",
   "execution_count": 25,
   "metadata": {
    "autoscroll": false,
    "ein.hycell": false,
    "ein.tags": "worksheet-0",
    "slideshow": {
     "slide_type": "-"
    }
   },
   "outputs": [],
   "source": [
    "def my_tokenizer(text):\n",
    "   tokens = [t for t in nlp(text) if t.is_alpha and not(t.is_space or t.is_punct or t.is_stop or t.like_num)]\n",
    "   return [t.lemma_.lower().strip() if t.lemma_ != \"-PRON-\" else t.lower_  for t in tokens ]\n"
   ]
  },
  {
   "cell_type": "markdown",
   "metadata": {
    "ein.tags": "worksheet-0",
    "slideshow": {
     "slide_type": "-"
    }
   },
   "source": [
    "One can use `sklearn.feature_extraction` module to create a Document Term Matrix. \n",
    "The input to the relevant function is the customized tokenizer function "
   ]
  },
  {
   "cell_type": "code",
   "execution_count": 23,
   "metadata": {
    "autoscroll": false,
    "ein.hycell": false,
    "ein.tags": "worksheet-0",
    "slideshow": {
     "slide_type": "-"
    }
   },
   "outputs": [],
   "source": [
    "from sklearn.feature_extraction.text import CountVectorizer\n",
    "ct_vectorizer= CountVectorizer(tokenizer = my_tokenizer, ngram_range=(1,1),\n",
    "                               min_df=0.2,\n",
    "                               max_df=0.9,\n",
    "                               max_features=100)\n",
    "\n",
    "\n",
    "X = ct_vectorizer.fit_transform(news_items.iloc[:20,0].values)"
   ]
  },
  {
   "cell_type": "markdown",
   "metadata": {},
   "source": [
    "### What are the features ?"
   ]
  },
  {
   "cell_type": "code",
   "execution_count": 24,
   "metadata": {
    "autoscroll": false,
    "ein.hycell": false,
    "ein.tags": "worksheet-0",
    "slideshow": {
     "slide_type": "-"
    }
   },
   "outputs": [
    {
     "name": "stdout",
     "output_type": "stream",
     "text": [
      "['announce', 'arranger', 'bank', 'basis', 'bond', 'bullet', 'central', 'co', 'commitment', 'company', 'coupon', 'credit', 'date', 'debt', 'development', 'end', 'exchange', 'facility', 'fee', 'finance', 'firm', 'force', 'friday', 'fuji', 'fund', 'general', 'high', 'hong', 'interbank', 'international', 'investment', 'issue', 'kong', 'launch', 'lead', 'level', 'limit', 'loan', 'london', 'manager', 'market', 'maturity', 'month', 'morgan', 'newsroom', 'offer', 'par', 'pay', 'payment', 'percent', 'point', 'price', 'public', 'rate', 'repay', 'repayment', 'reply', 'reuter', 'say', 'set', 'statement', 'syndication', 'taipei', 'taiwan', 'tax', 'term', 'thursday', 'year', 'yield']\n",
      "69\n"
     ]
    }
   ],
   "source": [
    "feature_names = ct_vectorizer.get_feature_names()\n",
    "print(feature_names)\n",
    "print(len(feature_names))"
   ]
  },
  {
   "cell_type": "markdown",
   "metadata": {},
   "source": [
    "### View the Document Term Matrix"
   ]
  },
  {
   "cell_type": "code",
   "execution_count": 25,
   "metadata": {},
   "outputs": [
    {
     "name": "stdout",
     "output_type": "stream",
     "text": [
      "(20, 69)\n"
     ]
    },
    {
     "data": {
      "text/plain": [
       "array([[0, 0, 1, ..., 0, 0, 0],\n",
       "       [0, 0, 5, ..., 0, 2, 0],\n",
       "       [0, 2, 2, ..., 0, 2, 0],\n",
       "       ...,\n",
       "       [1, 0, 0, ..., 0, 0, 0],\n",
       "       [0, 0, 1, ..., 1, 2, 3],\n",
       "       [0, 1, 0, ..., 0, 1, 0]], dtype=int64)"
      ]
     },
     "execution_count": 25,
     "metadata": {},
     "output_type": "execute_result"
    }
   ],
   "source": [
    "print(X.toarray().shape)\n",
    "X.toarray()"
   ]
  }
 ],
 "metadata": {
  "kernelspec": {
   "display_name": "Python [conda env:qi]",
   "language": "python",
   "name": "conda-env-qi-py"
  },
  "language_info": {
   "codemirror_mode": {
    "name": "ipython",
    "version": 3
   },
   "file_extension": ".py",
   "mimetype": "text/x-python",
   "name": "python",
   "nbconvert_exporter": "python",
   "pygments_lexer": "ipython3",
   "version": "3.7.9"
  },
  "name": "Text-Preprocessing-Demo.ipynb"
 },
 "nbformat": 4,
 "nbformat_minor": 2
}
