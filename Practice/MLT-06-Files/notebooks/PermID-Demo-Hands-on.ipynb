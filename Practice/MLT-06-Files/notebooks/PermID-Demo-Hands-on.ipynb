{
 "cells": [
  {
   "cell_type": "markdown",
   "metadata": {},
   "source": [
    "<img src=\"./images/qinsti.png\" align=\"left\" alt=\"drawing\" width=\"100\"/>\n",
    "<br><br>\n",
    "<div align=\"left\">\n",
    "    <h2>PermID - Demo</h2>\n",
    "</div>\n",
    "\n"
   ]
  },
  {
   "cell_type": "markdown",
   "metadata": {},
   "source": [
    "## What is PermId:\n",
    "\n",
    "It is Permanent Identifier that is applicable across various entities across several data products. \n",
    "\n",
    "Link : https://permid.org/\n",
    "\n",
    "### API Documentation\n",
    "https://developers.refinitiv.com/open-permid/open-permid-entity-search"
   ]
  },
  {
   "cell_type": "markdown",
   "metadata": {},
   "source": [
    "## Register for  API key "
   ]
  },
  {
   "cell_type": "code",
   "execution_count": 5,
   "metadata": {},
   "outputs": [],
   "source": [
    "with open(\"my-permid-api-key.txt\",'r') as f:\n",
    "    permid_api_key = f.readlines()[0]"
   ]
  },
  {
   "cell_type": "markdown",
   "metadata": {},
   "source": [
    "## Get the relevant attributes for a given PermID"
   ]
  },
  {
   "cell_type": "markdown",
   "metadata": {},
   "source": [
    "### Results in *turtle* format "
   ]
  },
  {
   "cell_type": "code",
   "execution_count": 6,
   "metadata": {},
   "outputs": [
    {
     "name": "stdout",
     "output_type": "stream",
     "text": [
      "@prefix mdaas: <http://permid.org/ontology/mdaas/> .\n",
      "@prefix tr-fin: <http://permid.org/ontology/financial/> .\n",
      "@prefix tr-common: <http://permid.org/ontology/common/> .\n",
      "@prefix fibo-be-le-cb: <http://www.omg.org/spec/EDMC-FIBO/BE/LegalEntities/CorporateBodies/> .\n",
      "@prefix xsd:   <http://www.w3.org/2001/XMLSchema#> .\n",
      "@prefix vcard: <http://www.w3.org/2006/vcard/ns#> .\n",
      "@prefix tr-org: <http://permid.org/ontology/organization/> .\n",
      "\n",
      "<https://permid.org/1-4295861160>\n",
      "        a                               tr-org:Organization ;\n",
      "        tr-common:hasPermId             \"4295861160\"^^xsd:string ;\n",
      "        tr-fin:hasOrganizationPrimaryQuote\n",
      "                <https://permid.org/1-55838860337> ;\n",
      "        tr-fin:hasPrimaryInstrument     <https://permid.org/1-8590928696> ;\n",
      "        mdaas:HeadquartersAddress       \"333 Bay Street\\nSuite 300\\n\\nTORONTO\\nONTARIO\\nM5H 2R2\\nCanada\\n\"^^xsd:string ;\n",
      "        mdaas:RegisteredAddress         \"333 Bay St Suite 400\\nTORONTO\\nONTARIO\\nM5H 2R2\\nCanada\\n\"^^xsd:string ;\n",
      "        tr-org:hasActivityStatus        tr-org:statusActive ;\n",
      "        tr-org:hasHeadquartersFaxNumber\n",
      "                \"14166877500\"^^xsd:string ;\n",
      "        tr-org:hasHeadquartersPhoneNumber\n",
      "                \"14166877500\"^^xsd:string ;\n",
      "        tr-org:hasHoldingClassification\n",
      "                tr-org:publiclyHeld ;\n",
      "        tr-org:hasIPODate               \"2002-06-12T04:00:00Z\"^^xsd:dateTime ;\n",
      "        tr-org:hasLEI                   \"549300561UZND4C7B569\"^^xsd:string ;\n",
      "        tr-org:hasLatestOrganizationFoundedDate\n",
      "                \"1977-12-28T00:00:00Z\"^^xsd:dateTime ;\n",
      "        tr-org:hasPrimaryBusinessSector\n",
      "                <https://permid.org/1-4294952762> ;\n",
      "        tr-org:hasPrimaryEconomicSector\n",
      "                <https://permid.org/1-4294952767> ;\n",
      "        tr-org:hasPrimaryIndustryGroup  <https://permid.org/1-4294952759> ;\n",
      "        tr-org:hasRegisteredPhoneNumber\n",
      "                \"14166877500\"^^xsd:string ;\n",
      "        tr-org:isIncorporatedIn         <http://sws.geonames.org/6251999/> ;\n",
      "        fibo-be-le-cb:isDomiciledIn     <http://sws.geonames.org/6251999/> ;\n",
      "        vcard:hasURL                    <https://www.thomsonreuters.com/> ;\n",
      "        vcard:organization-name         \"Thomson Reuters Corp\"^^xsd:string .\n",
      "\n"
     ]
    }
   ],
   "source": [
    "import requests\n",
    "import json\n",
    "input_permid = \"https://permid.org/1-4295861160\"\n",
    "#permid_api_key = \"XXXXXXXXXXX\"\n",
    "url = input_permid + \"/?format=turtle&access-token=\"+ permid_api_key\n",
    "results = requests.get(url)\n",
    "print(results.text)"
   ]
  },
  {
   "cell_type": "markdown",
   "metadata": {},
   "source": [
    "### Results in *json-ld* format "
   ]
  },
  {
   "cell_type": "code",
   "execution_count": 7,
   "metadata": {},
   "outputs": [
    {
     "name": "stdout",
     "output_type": "stream",
     "text": [
      "{\n",
      "    \"@id\": \"https://permid.org/1-4295861160\",\n",
      "    \"@type\": \"tr-org:Organization\",\n",
      "    \"tr-common:hasPermId\": \"4295861160\",\n",
      "    \"hasOrganizationPrimaryQuote\": \"https://permid.org/1-55838860337\",\n",
      "    \"hasPrimaryInstrument\": \"https://permid.org/1-8590928696\",\n",
      "    \"mdaas:HeadquartersAddress\": \"333 Bay Street\\nSuite 300\\n\\nTORONTO\\nONTARIO\\nM5H 2R2\\nCanada\\n\",\n",
      "    \"mdaas:RegisteredAddress\": \"333 Bay St Suite 400\\nTORONTO\\nONTARIO\\nM5H 2R2\\nCanada\\n\",\n",
      "    \"hasActivityStatus\": \"tr-org:statusActive\",\n",
      "    \"tr-org:hasHeadquartersFaxNumber\": \"14166877500\",\n",
      "    \"tr-org:hasHeadquartersPhoneNumber\": \"14166877500\",\n",
      "    \"hasHoldingClassification\": \"tr-org:publiclyHeld\",\n",
      "    \"hasIPODate\": \"2002-06-12T04:00:00Z\",\n",
      "    \"tr-org:hasLEI\": \"549300561UZND4C7B569\",\n",
      "    \"hasLatestOrganizationFoundedDate\": \"1977-12-28T00:00:00Z\",\n",
      "    \"hasPrimaryBusinessSector\": \"https://permid.org/1-4294952762\",\n",
      "    \"hasPrimaryEconomicSector\": \"https://permid.org/1-4294952767\",\n",
      "    \"hasPrimaryIndustryGroup\": \"https://permid.org/1-4294952759\",\n",
      "    \"tr-org:hasRegisteredPhoneNumber\": \"14166877500\",\n",
      "    \"isIncorporatedIn\": \"http://sws.geonames.org/6251999/\",\n",
      "    \"isDomiciledIn\": \"http://sws.geonames.org/6251999/\",\n",
      "    \"hasURL\": \"https://www.thomsonreuters.com/\",\n",
      "    \"vcard:organization-name\": \"Thomson Reuters Corp\",\n",
      "    \"@context\": {\n",
      "        \"hasLatestOrganizationFoundedDate\": {\n",
      "            \"@id\": \"http://permid.org/ontology/organization/hasLatestOrganizationFoundedDate\",\n",
      "            \"@type\": \"http://www.w3.org/2001/XMLSchema#dateTime\"\n",
      "        },\n",
      "        \"hasPermId\": {\n",
      "            \"@id\": \"http://permid.org/ontology/common/hasPermId\",\n",
      "            \"@type\": \"http://www.w3.org/2001/XMLSchema#string\"\n",
      "        },\n",
      "        \"hasLEI\": {\n",
      "            \"@id\": \"http://permid.org/ontology/organization/hasLEI\",\n",
      "            \"@type\": \"http://www.w3.org/2001/XMLSchema#string\"\n",
      "        },\n",
      "        \"HeadquartersAddress\": {\n",
      "            \"@id\": \"http://permid.org/ontology/mdaas/HeadquartersAddress\",\n",
      "            \"@type\": \"http://www.w3.org/2001/XMLSchema#string\"\n",
      "        },\n",
      "        \"hasRegisteredPhoneNumber\": {\n",
      "            \"@id\": \"http://permid.org/ontology/organization/hasRegisteredPhoneNumber\",\n",
      "            \"@type\": \"http://www.w3.org/2001/XMLSchema#string\"\n",
      "        },\n",
      "        \"hasIPODate\": {\n",
      "            \"@id\": \"http://permid.org/ontology/organization/hasIPODate\",\n",
      "            \"@type\": \"http://www.w3.org/2001/XMLSchema#dateTime\"\n",
      "        },\n",
      "        \"hasActivityStatus\": {\n",
      "            \"@id\": \"http://permid.org/ontology/organization/hasActivityStatus\",\n",
      "            \"@type\": \"@id\"\n",
      "        },\n",
      "        \"hasHoldingClassification\": {\n",
      "            \"@id\": \"http://permid.org/ontology/organization/hasHoldingClassification\",\n",
      "            \"@type\": \"@id\"\n",
      "        },\n",
      "        \"hasPrimaryInstrument\": {\n",
      "            \"@id\": \"http://permid.org/ontology/financial/hasPrimaryInstrument\",\n",
      "            \"@type\": \"@id\"\n",
      "        },\n",
      "        \"hasPrimaryBusinessSector\": {\n",
      "            \"@id\": \"http://permid.org/ontology/organization/hasPrimaryBusinessSector\",\n",
      "            \"@type\": \"@id\"\n",
      "        },\n",
      "        \"RegisteredAddress\": {\n",
      "            \"@id\": \"http://permid.org/ontology/mdaas/RegisteredAddress\",\n",
      "            \"@type\": \"http://www.w3.org/2001/XMLSchema#string\"\n",
      "        },\n",
      "        \"hasPrimaryEconomicSector\": {\n",
      "            \"@id\": \"http://permid.org/ontology/organization/hasPrimaryEconomicSector\",\n",
      "            \"@type\": \"@id\"\n",
      "        },\n",
      "        \"hasHeadquartersFaxNumber\": {\n",
      "            \"@id\": \"http://permid.org/ontology/organization/hasHeadquartersFaxNumber\",\n",
      "            \"@type\": \"http://www.w3.org/2001/XMLSchema#string\"\n",
      "        },\n",
      "        \"isDomiciledIn\": {\n",
      "            \"@id\": \"http://www.omg.org/spec/EDMC-FIBO/BE/LegalEntities/CorporateBodies/isDomiciledIn\",\n",
      "            \"@type\": \"@id\"\n",
      "        },\n",
      "        \"hasOrganizationPrimaryQuote\": {\n",
      "            \"@id\": \"http://permid.org/ontology/financial/hasOrganizationPrimaryQuote\",\n",
      "            \"@type\": \"@id\"\n",
      "        },\n",
      "        \"hasURL\": {\n",
      "            \"@id\": \"http://www.w3.org/2006/vcard/ns#hasURL\",\n",
      "            \"@type\": \"@id\"\n",
      "        },\n",
      "        \"hasPrimaryIndustryGroup\": {\n",
      "            \"@id\": \"http://permid.org/ontology/organization/hasPrimaryIndustryGroup\",\n",
      "            \"@type\": \"@id\"\n",
      "        },\n",
      "        \"hasHeadquartersPhoneNumber\": {\n",
      "            \"@id\": \"http://permid.org/ontology/organization/hasHeadquartersPhoneNumber\",\n",
      "            \"@type\": \"http://www.w3.org/2001/XMLSchema#string\"\n",
      "        },\n",
      "        \"organization-name\": {\n",
      "            \"@id\": \"http://www.w3.org/2006/vcard/ns#organization-name\",\n",
      "            \"@type\": \"http://www.w3.org/2001/XMLSchema#string\"\n",
      "        },\n",
      "        \"isIncorporatedIn\": {\n",
      "            \"@id\": \"http://permid.org/ontology/organization/isIncorporatedIn\",\n",
      "            \"@type\": \"@id\"\n",
      "        },\n",
      "        \"mdaas\": \"http://permid.org/ontology/mdaas/\",\n",
      "        \"tr-fin\": \"http://permid.org/ontology/financial/\",\n",
      "        \"tr-common\": \"http://permid.org/ontology/common/\",\n",
      "        \"fibo-be-le-cb\": \"http://www.omg.org/spec/EDMC-FIBO/BE/LegalEntities/CorporateBodies/\",\n",
      "        \"xsd\": \"http://www.w3.org/2001/XMLSchema#\",\n",
      "        \"vcard\": \"http://www.w3.org/2006/vcard/ns#\",\n",
      "        \"tr-org\": \"http://permid.org/ontology/organization/\"\n",
      "    }\n",
      "}\n"
     ]
    }
   ],
   "source": [
    "url = input_permid + \"/?format=json-ld&access-token=\"+ permid_api_key\n",
    "results = requests.get(url)\n",
    "info = results.json()\n",
    "print(json.dumps(info, indent=4, sort_keys=False))"
   ]
  }
 ],
 "metadata": {
  "kernelspec": {
   "display_name": "Python [conda env:qi]",
   "language": "python",
   "name": "conda-env-qi-py"
  },
  "language_info": {
   "codemirror_mode": {
    "name": "ipython",
    "version": 3
   },
   "file_extension": ".py",
   "mimetype": "text/x-python",
   "name": "python",
   "nbconvert_exporter": "python",
   "pygments_lexer": "ipython3",
   "version": "3.7.9"
  }
 },
 "nbformat": 4,
 "nbformat_minor": 2
}
