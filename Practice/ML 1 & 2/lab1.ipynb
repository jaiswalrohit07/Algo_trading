{
 "cells": [
  {
   "cell_type": "markdown",
   "metadata": {},
   "source": [
    "# Classification metrics  \n"
   ]
  },
  {
   "cell_type": "code",
   "execution_count": 1,
   "metadata": {},
   "outputs": [],
   "source": [
    "from sklearn.metrics import confusion_matrix\n",
    "from sklearn.metrics import accuracy_score, precision_score, recall_score # recall is another name of sensitivity\n",
    "import pandas as pd \n",
    "import numpy as np "
   ]
  },
  {
   "cell_type": "code",
   "execution_count": 5,
   "metadata": {},
   "outputs": [],
   "source": [
    "df =pd.read_csv('gold_train.csv')"
   ]
  },
  {
   "cell_type": "code",
   "execution_count": 6,
   "metadata": {},
   "outputs": [],
   "source": [
    "# sklearn.metrics()\n"
   ]
  },
  {
   "cell_type": "code",
   "execution_count": 7,
   "metadata": {},
   "outputs": [
    {
     "data": {
      "text/html": [
       "<div>\n",
       "<style scoped>\n",
       "    .dataframe tbody tr th:only-of-type {\n",
       "        vertical-align: middle;\n",
       "    }\n",
       "\n",
       "    .dataframe tbody tr th {\n",
       "        vertical-align: top;\n",
       "    }\n",
       "\n",
       "    .dataframe thead th {\n",
       "        text-align: right;\n",
       "    }\n",
       "</style>\n",
       "<table border=\"1\" class=\"dataframe\">\n",
       "  <thead>\n",
       "    <tr style=\"text-align: right;\">\n",
       "      <th></th>\n",
       "      <th>target</th>\n",
       "      <th>Return</th>\n",
       "      <th>gold Return_1</th>\n",
       "      <th>gold Return_2</th>\n",
       "      <th>gold Return_3</th>\n",
       "      <th>gold Return_4</th>\n",
       "      <th>gold Return_5</th>\n",
       "      <th>gold Return_6</th>\n",
       "      <th>gold Return_7</th>\n",
       "      <th>gold Return_8</th>\n",
       "      <th>...</th>\n",
       "      <th>gold Return_41</th>\n",
       "      <th>gold Return_42</th>\n",
       "      <th>gold Return_43</th>\n",
       "      <th>gold Return_44</th>\n",
       "      <th>gold Return_45</th>\n",
       "      <th>gold Return_46</th>\n",
       "      <th>gold Return_47</th>\n",
       "      <th>gold Return_48</th>\n",
       "      <th>gold Return_49</th>\n",
       "      <th>gold Return_50</th>\n",
       "    </tr>\n",
       "  </thead>\n",
       "  <tbody>\n",
       "    <tr>\n",
       "      <th>0</th>\n",
       "      <td>1</td>\n",
       "      <td>0.012297</td>\n",
       "      <td>0.001726</td>\n",
       "      <td>-0.004428</td>\n",
       "      <td>0.000492</td>\n",
       "      <td>-0.001352</td>\n",
       "      <td>0.009804</td>\n",
       "      <td>0.001240</td>\n",
       "      <td>0.000248</td>\n",
       "      <td>0.009884</td>\n",
       "      <td>...</td>\n",
       "      <td>0.002200</td>\n",
       "      <td>-0.002067</td>\n",
       "      <td>-0.002323</td>\n",
       "      <td>-0.002957</td>\n",
       "      <td>-0.001027</td>\n",
       "      <td>0.009084</td>\n",
       "      <td>0.004694</td>\n",
       "      <td>0.002611</td>\n",
       "      <td>0.000522</td>\n",
       "      <td>-0.009595</td>\n",
       "    </tr>\n",
       "    <tr>\n",
       "      <th>1</th>\n",
       "      <td>0</td>\n",
       "      <td>0.012797</td>\n",
       "      <td>0.012297</td>\n",
       "      <td>0.001726</td>\n",
       "      <td>-0.004428</td>\n",
       "      <td>0.000492</td>\n",
       "      <td>-0.001352</td>\n",
       "      <td>0.009804</td>\n",
       "      <td>0.001240</td>\n",
       "      <td>0.000248</td>\n",
       "      <td>...</td>\n",
       "      <td>0.003872</td>\n",
       "      <td>0.002200</td>\n",
       "      <td>-0.002067</td>\n",
       "      <td>-0.002323</td>\n",
       "      <td>-0.002957</td>\n",
       "      <td>-0.001027</td>\n",
       "      <td>0.009084</td>\n",
       "      <td>0.004694</td>\n",
       "      <td>0.002611</td>\n",
       "      <td>0.000522</td>\n",
       "    </tr>\n",
       "    <tr>\n",
       "      <th>2</th>\n",
       "      <td>0</td>\n",
       "      <td>-0.005526</td>\n",
       "      <td>0.012797</td>\n",
       "      <td>0.012297</td>\n",
       "      <td>0.001726</td>\n",
       "      <td>-0.004428</td>\n",
       "      <td>0.000492</td>\n",
       "      <td>-0.001352</td>\n",
       "      <td>0.009804</td>\n",
       "      <td>0.001240</td>\n",
       "      <td>...</td>\n",
       "      <td>0.000386</td>\n",
       "      <td>0.003872</td>\n",
       "      <td>0.002200</td>\n",
       "      <td>-0.002067</td>\n",
       "      <td>-0.002323</td>\n",
       "      <td>-0.002957</td>\n",
       "      <td>-0.001027</td>\n",
       "      <td>0.009084</td>\n",
       "      <td>0.004694</td>\n",
       "      <td>0.002611</td>\n",
       "    </tr>\n",
       "    <tr>\n",
       "      <th>3</th>\n",
       "      <td>0</td>\n",
       "      <td>-0.001453</td>\n",
       "      <td>-0.005526</td>\n",
       "      <td>0.012797</td>\n",
       "      <td>0.012297</td>\n",
       "      <td>0.001726</td>\n",
       "      <td>-0.004428</td>\n",
       "      <td>0.000492</td>\n",
       "      <td>-0.001352</td>\n",
       "      <td>0.009804</td>\n",
       "      <td>...</td>\n",
       "      <td>0.001927</td>\n",
       "      <td>0.000386</td>\n",
       "      <td>0.003872</td>\n",
       "      <td>0.002200</td>\n",
       "      <td>-0.002067</td>\n",
       "      <td>-0.002323</td>\n",
       "      <td>-0.002957</td>\n",
       "      <td>-0.001027</td>\n",
       "      <td>0.009084</td>\n",
       "      <td>0.004694</td>\n",
       "    </tr>\n",
       "    <tr>\n",
       "      <th>4</th>\n",
       "      <td>1</td>\n",
       "      <td>-0.006796</td>\n",
       "      <td>-0.001453</td>\n",
       "      <td>-0.005526</td>\n",
       "      <td>0.012797</td>\n",
       "      <td>0.012297</td>\n",
       "      <td>0.001726</td>\n",
       "      <td>-0.004428</td>\n",
       "      <td>0.000492</td>\n",
       "      <td>-0.001352</td>\n",
       "      <td>...</td>\n",
       "      <td>-0.003590</td>\n",
       "      <td>0.001927</td>\n",
       "      <td>0.000386</td>\n",
       "      <td>0.003872</td>\n",
       "      <td>0.002200</td>\n",
       "      <td>-0.002067</td>\n",
       "      <td>-0.002323</td>\n",
       "      <td>-0.002957</td>\n",
       "      <td>-0.001027</td>\n",
       "      <td>0.009084</td>\n",
       "    </tr>\n",
       "  </tbody>\n",
       "</table>\n",
       "<p>5 rows × 52 columns</p>\n",
       "</div>"
      ],
      "text/plain": [
       "   target    Return  gold Return_1  gold Return_2  gold Return_3  \\\n",
       "0       1  0.012297       0.001726      -0.004428       0.000492   \n",
       "1       0  0.012797       0.012297       0.001726      -0.004428   \n",
       "2       0 -0.005526       0.012797       0.012297       0.001726   \n",
       "3       0 -0.001453      -0.005526       0.012797       0.012297   \n",
       "4       1 -0.006796      -0.001453      -0.005526       0.012797   \n",
       "\n",
       "   gold Return_4  gold Return_5  gold Return_6  gold Return_7  gold Return_8  \\\n",
       "0      -0.001352       0.009804       0.001240       0.000248       0.009884   \n",
       "1       0.000492      -0.001352       0.009804       0.001240       0.000248   \n",
       "2      -0.004428       0.000492      -0.001352       0.009804       0.001240   \n",
       "3       0.001726      -0.004428       0.000492      -0.001352       0.009804   \n",
       "4       0.012297       0.001726      -0.004428       0.000492      -0.001352   \n",
       "\n",
       "   ...  gold Return_41  gold Return_42  gold Return_43  gold Return_44  \\\n",
       "0  ...        0.002200       -0.002067       -0.002323       -0.002957   \n",
       "1  ...        0.003872        0.002200       -0.002067       -0.002323   \n",
       "2  ...        0.000386        0.003872        0.002200       -0.002067   \n",
       "3  ...        0.001927        0.000386        0.003872        0.002200   \n",
       "4  ...       -0.003590        0.001927        0.000386        0.003872   \n",
       "\n",
       "   gold Return_45  gold Return_46  gold Return_47  gold Return_48  \\\n",
       "0       -0.001027        0.009084        0.004694        0.002611   \n",
       "1       -0.002957       -0.001027        0.009084        0.004694   \n",
       "2       -0.002323       -0.002957       -0.001027        0.009084   \n",
       "3       -0.002067       -0.002323       -0.002957       -0.001027   \n",
       "4        0.002200       -0.002067       -0.002323       -0.002957   \n",
       "\n",
       "   gold Return_49  gold Return_50  \n",
       "0        0.000522       -0.009595  \n",
       "1        0.002611        0.000522  \n",
       "2        0.004694        0.002611  \n",
       "3        0.009084        0.004694  \n",
       "4       -0.001027        0.009084  \n",
       "\n",
       "[5 rows x 52 columns]"
      ]
     },
     "execution_count": 7,
     "metadata": {},
     "output_type": "execute_result"
    }
   ],
   "source": [
    "df.head()"
   ]
  },
  {
   "cell_type": "code",
   "execution_count": 9,
   "metadata": {},
   "outputs": [],
   "source": [
    "y_train=df.target\n",
    "y_train_prob=np.random.rand(y_train.shape[0])\n",
    "y_train_pred=(y_train_prob>=.9)"
   ]
  },
  {
   "cell_type": "code",
   "execution_count": 13,
   "metadata": {},
   "outputs": [
    {
     "data": {
      "text/plain": [
       "1000"
      ]
     },
     "execution_count": 13,
     "metadata": {},
     "output_type": "execute_result"
    }
   ],
   "source": [
    "y_train.shape[0]"
   ]
  },
  {
   "cell_type": "code",
   "execution_count": 14,
   "metadata": {},
   "outputs": [
    {
     "data": {
      "text/plain": [
       "array([False, False, False, False, False, False, False, False, False,\n",
       "       False, False,  True, False, False, False, False, False, False,\n",
       "       False, False, False, False,  True, False, False, False, False,\n",
       "       False, False, False, False, False, False, False, False,  True,\n",
       "       False, False, False, False, False, False, False, False, False,\n",
       "       False, False,  True, False, False, False, False, False,  True,\n",
       "       False, False, False, False, False,  True, False, False,  True,\n",
       "       False, False, False, False, False, False, False, False, False,\n",
       "       False,  True, False, False, False,  True, False, False, False,\n",
       "        True, False, False, False, False, False, False, False, False,\n",
       "       False, False, False, False, False, False,  True, False, False,\n",
       "       False, False, False, False, False, False, False, False, False,\n",
       "       False, False, False, False, False, False,  True, False, False,\n",
       "       False, False, False, False, False, False, False,  True, False,\n",
       "       False, False, False,  True, False, False,  True, False, False,\n",
       "       False,  True, False, False, False, False, False, False, False,\n",
       "       False,  True, False, False, False, False, False, False, False,\n",
       "       False, False, False, False,  True, False, False,  True, False,\n",
       "       False, False, False, False, False, False, False, False, False,\n",
       "       False, False, False, False, False, False, False, False, False,\n",
       "       False, False, False, False, False, False, False, False, False,\n",
       "       False, False, False, False, False, False, False, False, False,\n",
       "       False, False,  True, False, False, False,  True, False, False,\n",
       "       False, False, False, False, False,  True, False, False, False,\n",
       "       False, False, False, False, False, False, False,  True, False,\n",
       "       False, False, False, False, False, False, False, False, False,\n",
       "        True, False, False, False, False,  True, False, False, False,\n",
       "       False, False, False, False, False, False, False, False, False,\n",
       "        True,  True, False, False, False, False, False, False, False,\n",
       "       False, False, False, False, False, False, False, False, False,\n",
       "       False, False, False, False,  True, False, False, False, False,\n",
       "       False, False, False, False, False, False, False, False, False,\n",
       "       False, False, False, False, False, False, False, False, False,\n",
       "        True, False, False, False, False,  True, False, False, False,\n",
       "       False, False, False, False, False, False, False, False,  True,\n",
       "       False, False, False, False, False, False, False, False, False,\n",
       "       False, False, False, False, False, False, False, False, False,\n",
       "       False, False, False, False,  True, False, False, False, False,\n",
       "       False, False,  True, False, False, False, False, False, False,\n",
       "        True, False, False, False, False, False, False, False, False,\n",
       "       False, False, False,  True, False, False, False,  True, False,\n",
       "       False, False, False, False, False, False, False, False, False,\n",
       "       False, False, False, False, False, False, False, False, False,\n",
       "       False, False, False, False, False, False, False, False, False,\n",
       "       False, False, False, False, False, False, False, False, False,\n",
       "        True, False, False, False, False, False, False, False, False,\n",
       "       False, False, False, False, False, False, False, False,  True,\n",
       "       False, False, False, False,  True, False, False, False, False,\n",
       "       False, False, False, False, False,  True, False, False, False,\n",
       "       False, False, False, False, False, False, False, False, False,\n",
       "       False, False, False, False, False,  True, False, False, False,\n",
       "        True,  True, False, False, False, False, False, False, False,\n",
       "       False, False, False, False, False, False, False, False, False,\n",
       "       False, False, False, False, False, False, False, False, False,\n",
       "       False, False, False, False, False, False, False, False, False,\n",
       "       False, False, False, False, False, False,  True,  True, False,\n",
       "       False, False, False,  True, False, False, False, False, False,\n",
       "       False, False, False, False, False, False,  True, False, False,\n",
       "       False, False, False,  True, False, False, False, False, False,\n",
       "       False, False,  True, False, False, False, False, False, False,\n",
       "       False, False, False,  True, False, False, False, False,  True,\n",
       "       False, False, False, False, False,  True, False, False, False,\n",
       "       False, False, False, False, False, False, False, False, False,\n",
       "       False,  True, False, False, False, False, False, False, False,\n",
       "       False, False,  True, False, False,  True, False, False, False,\n",
       "       False,  True, False, False, False,  True,  True, False, False,\n",
       "        True, False, False, False, False, False, False, False, False,\n",
       "       False, False, False, False, False, False, False, False,  True,\n",
       "       False, False, False, False, False, False, False,  True, False,\n",
       "       False, False, False, False, False, False, False, False, False,\n",
       "       False, False, False, False, False,  True, False, False, False,\n",
       "       False, False,  True, False, False, False, False, False,  True,\n",
       "       False, False,  True, False, False, False, False, False, False,\n",
       "       False,  True, False, False, False, False, False, False, False,\n",
       "       False, False, False, False, False, False, False, False, False,\n",
       "       False, False, False, False, False, False, False, False, False,\n",
       "       False, False, False, False, False, False, False, False, False,\n",
       "       False, False, False, False, False, False,  True, False, False,\n",
       "       False, False, False, False, False, False, False, False, False,\n",
       "       False, False, False, False, False, False, False, False, False,\n",
       "       False, False, False, False, False, False, False, False, False,\n",
       "       False, False, False, False, False, False, False, False,  True,\n",
       "       False, False, False,  True, False, False, False, False, False,\n",
       "       False, False,  True, False, False, False, False, False, False,\n",
       "        True, False, False, False, False, False, False, False, False,\n",
       "       False, False, False, False, False, False, False,  True, False,\n",
       "       False, False, False, False, False, False, False, False, False,\n",
       "       False, False, False, False,  True,  True, False, False, False,\n",
       "       False,  True, False, False, False, False, False, False, False,\n",
       "        True, False,  True,  True, False, False,  True, False, False,\n",
       "       False, False, False, False, False, False, False, False, False,\n",
       "       False, False, False, False, False, False, False, False, False,\n",
       "       False,  True, False, False,  True,  True, False, False, False,\n",
       "       False, False, False, False, False, False, False, False, False,\n",
       "       False, False, False, False, False, False, False, False, False,\n",
       "       False, False, False, False, False, False, False, False, False,\n",
       "       False, False,  True, False, False, False, False, False, False,\n",
       "       False, False,  True,  True, False, False,  True, False, False,\n",
       "        True, False,  True, False, False, False, False, False, False,\n",
       "       False, False, False, False, False, False, False, False, False,\n",
       "       False,  True, False, False,  True,  True, False, False, False,\n",
       "       False, False, False, False, False, False, False, False, False,\n",
       "       False, False, False, False, False, False, False, False, False,\n",
       "       False, False, False, False, False,  True, False, False, False,\n",
       "       False, False, False, False, False, False, False, False, False,\n",
       "        True, False, False,  True, False, False, False, False, False,\n",
       "       False, False, False, False, False, False,  True, False, False,\n",
       "       False, False, False, False, False, False, False, False, False,\n",
       "       False, False, False, False, False, False, False, False, False,\n",
       "       False, False, False, False, False, False, False, False, False,\n",
       "       False, False, False, False, False, False, False,  True, False,\n",
       "       False])"
      ]
     },
     "execution_count": 14,
     "metadata": {},
     "output_type": "execute_result"
    }
   ],
   "source": [
    "y_train_pred"
   ]
  },
  {
   "cell_type": "code",
   "execution_count": null,
   "metadata": {},
   "outputs": [],
   "source": []
  },
  {
   "cell_type": "code",
   "execution_count": null,
   "metadata": {},
   "outputs": [],
   "source": []
  },
  {
   "cell_type": "code",
   "execution_count": 15,
   "metadata": {},
   "outputs": [
    {
     "data": {
      "text/plain": [
       "array([[484,  51],\n",
       "       [420,  45]], dtype=int64)"
      ]
     },
     "execution_count": 15,
     "metadata": {},
     "output_type": "execute_result"
    }
   ],
   "source": [
    "confusion_matrix(y_train, y_train_pred)"
   ]
  },
  {
   "cell_type": "code",
   "execution_count": 7,
   "metadata": {},
   "outputs": [
    {
     "data": {
      "text/plain": [
       "0.523"
      ]
     },
     "execution_count": 7,
     "metadata": {},
     "output_type": "execute_result"
    }
   ],
   "source": [
    "accuracy_score(y_train, y_train_pred)"
   ]
  },
  {
   "cell_type": "code",
   "execution_count": 16,
   "metadata": {},
   "outputs": [
    {
     "data": {
      "text/plain": [
       "<function sklearn.metrics._classification.confusion_matrix(y_true, y_pred, *, labels=None, sample_weight=None, normalize=None)>"
      ]
     },
     "execution_count": 16,
     "metadata": {},
     "output_type": "execute_result"
    }
   ],
   "source": [
    "confusion_matrix"
   ]
  },
  {
   "cell_type": "code",
   "execution_count": 8,
   "metadata": {},
   "outputs": [
    {
     "data": {
      "text/plain": [
       "0.4482758620689655"
      ]
     },
     "execution_count": 8,
     "metadata": {},
     "output_type": "execute_result"
    }
   ],
   "source": [
    "precision_score(y_train, y_train_pred)"
   ]
  },
  {
   "cell_type": "code",
   "execution_count": 9,
   "metadata": {},
   "outputs": [
    {
     "data": {
      "text/plain": [
       "0.11182795698924732"
      ]
     },
     "execution_count": 9,
     "metadata": {},
     "output_type": "execute_result"
    }
   ],
   "source": [
    "recall_score(y_train, y_train_pred)"
   ]
  },
  {
   "cell_type": "code",
   "execution_count": null,
   "metadata": {},
   "outputs": [],
   "source": []
  }
 ],
 "metadata": {
  "kernelspec": {
   "display_name": "Python 3 (ipykernel)",
   "language": "python",
   "name": "python3"
  },
  "language_info": {
   "codemirror_mode": {
    "name": "ipython",
    "version": 3
   },
   "file_extension": ".py",
   "mimetype": "text/x-python",
   "name": "python",
   "nbconvert_exporter": "python",
   "pygments_lexer": "ipython3",
   "version": "3.9.0rc2"
  }
 },
 "nbformat": 4,
 "nbformat_minor": 2
}
